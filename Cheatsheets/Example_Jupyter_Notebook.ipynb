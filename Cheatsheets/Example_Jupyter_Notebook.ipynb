{
 "cells": [
  {
   "cell_type": "markdown",
   "metadata": {},
   "source": [
    "Markdown $e^\\frac{1}{5}$"
   ]
  },
  {
   "cell_type": "code",
   "execution_count": 1,
   "metadata": {
    "collapsed": false,
    "scrolled": true
   },
   "outputs": [
    {
     "data": {
      "text/plain": [
       "'Hell World'"
      ]
     },
     "execution_count": 1,
     "metadata": {},
     "output_type": "execute_result"
    }
   ],
   "source": [
    "'Hell World'"
   ]
  },
  {
   "cell_type": "code",
   "execution_count": 1,
   "metadata": {
    "collapsed": false
   },
   "outputs": [
    {
     "name": "stdout",
     "output_type": "stream",
     "text": [
      "\u001b[31mDEPRECATION: The default format will switch to columns in the future. You can use --format=(legacy|columns) (or define a format=(legacy|columns) in your pip.conf under the [list] section) to disable this warning.\u001b[0m\n",
      "alabaster (0.7.9)\n",
      "anaconda-clean (1.0)\n",
      "anaconda-client (1.5.5)\n",
      "anaconda-navigator (1.3.2)\n",
      "appnope (0.1.0)\n",
      "appscript (1.0.1)\n",
      "argcomplete (1.0.0)\n",
      "astroid (1.4.7)\n",
      "astropy (1.2.1)\n",
      "attrs (15.2.0)\n",
      "Babel (2.3.4)\n",
      "backports.shutil-get-terminal-size (1.0.0)\n",
      "beautifulsoup4 (4.5.1)\n",
      "bitarray (0.8.1)\n",
      "blaze (0.10.1)\n",
      "bokeh (0.12.3)\n",
      "boto (2.43.0)\n",
      "Bottleneck (1.1.0)\n",
      "cffi (1.8.3)\n",
      "chest (0.2.3)\n",
      "click (6.6)\n",
      "cloudpickle (0.2.1)\n",
      "clyent (1.2.2)\n",
      "colorama (0.3.7)\n",
      "conda (4.2.13)\n",
      "conda-build (2.0.10)\n",
      "conda-verify (2.0.0)\n",
      "configobj (5.0.6)\n",
      "constantly (15.1.0)\n",
      "contextlib2 (0.5.4)\n",
      "cryptography (1.5.3)\n",
      "cssselect (1.0.0)\n",
      "cycler (0.10.0)\n",
      "Cython (0.25.2)\n",
      "cytoolz (0.8.2)\n",
      "dask (0.12.0)\n",
      "datashape (0.5.2)\n",
      "decorator (4.0.10)\n",
      "dill (0.2.5)\n",
      "docutils (0.12)\n",
      "dynd (0.7.3.dev1)\n",
      "et-xmlfile (1.0.1)\n",
      "fastcache (1.0.2)\n",
      "filelock (2.0.7)\n",
      "Flask (0.11.1)\n",
      "Flask-Cors (2.1.2)\n",
      "gevent (1.1.2)\n",
      "greenlet (0.4.10)\n",
      "h5py (2.6.0)\n",
      "HeapDict (1.0.0)\n",
      "idna (2.1)\n",
      "imagesize (0.7.1)\n",
      "incremental (16.10.1)\n",
      "ipykernel (4.5.1)\n",
      "ipython (5.1.0)\n",
      "ipython-genutils (0.1.0)\n",
      "ipywidgets (5.2.2)\n",
      "itsdangerous (0.24)\n",
      "jdcal (1.3)\n",
      "jedi (0.9.0)\n",
      "Jinja2 (2.8)\n",
      "jsonschema (2.5.1)\n",
      "jupyter (1.0.0)\n",
      "jupyter-client (4.4.0)\n",
      "jupyter-console (5.0.0)\n",
      "jupyter-core (4.2.0)\n",
      "lazy-object-proxy (1.2.1)\n",
      "List (1.3.0)\n",
      "llvmlite (0.14.0)\n",
      "locket (0.2.0)\n",
      "lxml (3.6.4)\n",
      "MarkupSafe (0.23)\n",
      "matplotlib (1.5.3)\n",
      "mistune (0.7.3)\n",
      "mpmath (0.19)\n",
      "multipledispatch (0.4.9)\n",
      "nb-anacondacloud (1.2.0)\n",
      "nb-conda (2.0.0)\n",
      "nb-conda-kernels (2.0.0)\n",
      "nbconvert (4.2.0)\n",
      "nbformat (4.1.0)\n",
      "nbpresent (3.0.2)\n",
      "networkx (1.11)\n",
      "nltk (3.2.1)\n",
      "nose (1.3.7)\n",
      "notebook (4.2.3)\n",
      "numba (0.29.0)\n",
      "numexpr (2.6.1)\n",
      "numpy (1.11.2)\n",
      "odo (0.5.0)\n",
      "openpyxl (2.4.0)\n",
      "pandas (0.19.1)\n",
      "parsel (1.0.3)\n",
      "partd (0.3.6)\n",
      "path.py (0.0.0)\n",
      "pathlib2 (2.1.0)\n",
      "patsy (0.4.1)\n",
      "pep8 (1.7.0)\n",
      "pexpect (4.0.1)\n",
      "pickleshare (0.7.4)\n",
      "Pillow (3.4.2)\n",
      "pip (9.0.1)\n",
      "pkginfo (1.4.1)\n",
      "ply (3.9)\n",
      "prompt-toolkit (1.0.9)\n",
      "psutil (5.0.0)\n",
      "ptyprocess (0.5.1)\n",
      "py (1.4.31)\n",
      "pyasn1 (0.1.9)\n",
      "pyasn1-modules (0.0.8)\n",
      "pycosat (0.6.1)\n",
      "pycparser (2.17)\n",
      "pycrypto (2.6.1)\n",
      "pycurl (7.43.0)\n",
      "PyDispatcher (2.0.5)\n",
      "pyflakes (1.3.0)\n",
      "Pygments (2.1.3)\n",
      "pylint (1.5.4)\n",
      "pyOpenSSL (16.2.0)\n",
      "pyparsing (2.1.4)\n",
      "pytest (3.0.4)\n",
      "python-dateutil (2.6.0)\n",
      "pytz (2016.7)\n",
      "PyYAML (3.12)\n",
      "pyzmq (16.0.1)\n",
      "QtAwesome (0.3.3)\n",
      "qtconsole (4.2.1)\n",
      "QtPy (1.1.2)\n",
      "queuelib (1.4.2)\n",
      "redis (2.10.5)\n",
      "requests (2.12.1)\n",
      "rope-py3k (0.9.4.post1)\n",
      "ruamel-yaml (-VERSION)\n",
      "scikit-image (0.12.3)\n",
      "scikit-learn (0.18.1)\n",
      "scipy (0.18.1)\n",
      "Scrapy (1.1.1)\n",
      "service-identity (16.0.0)\n",
      "setuptools (27.2.0)\n",
      "simplegeneric (0.8.1)\n",
      "singledispatch (3.4.0.3)\n",
      "six (1.10.0)\n",
      "snowballstemmer (1.2.1)\n",
      "sockjs-tornado (1.0.3)\n",
      "Sphinx (1.4.8)\n",
      "spyder (3.0.2)\n",
      "SQLAlchemy (1.1.4)\n",
      "statsmodels (0.6.1)\n",
      "sympy (1.0)\n",
      "tables (3.3.0)\n",
      "terminado (0.6)\n",
      "toolz (0.8.0)\n",
      "tornado (4.4.2)\n",
      "traitlets (4.3.1)\n",
      "Twisted (16.5.0)\n",
      "unicodecsv (0.14.1)\n",
      "w3lib (1.16.0)\n",
      "wcwidth (0.1.7)\n",
      "Werkzeug (0.11.11)\n",
      "wget (2.2)\n",
      "wheel (0.29.0)\n",
      "widgetsnbextension (1.2.6)\n",
      "wrapt (1.10.8)\n",
      "xlrd (1.0.0)\n",
      "XlsxWriter (0.9.3)\n",
      "xlwings (0.10.0)\n",
      "xlwt (1.1.2)\n",
      "zope.interface (4.3.2)\n",
      "bash\n"
     ]
    }
   ],
   "source": [
    "!pip list; echo bash"
   ]
  },
  {
   "cell_type": "code",
   "execution_count": 3,
   "metadata": {
    "collapsed": false
   },
   "outputs": [
    {
     "data": {
      "application/json": {
       "cell": {
        "!": "OSMagics",
        "HTML": "Other",
        "SVG": "Other",
        "bash": "Other",
        "capture": "ExecutionMagics",
        "debug": "ExecutionMagics",
        "file": "Other",
        "html": "DisplayMagics",
        "javascript": "DisplayMagics",
        "js": "DisplayMagics",
        "latex": "DisplayMagics",
        "perl": "Other",
        "prun": "ExecutionMagics",
        "pypy": "Other",
        "python": "Other",
        "python2": "Other",
        "python3": "Other",
        "ruby": "Other",
        "script": "ScriptMagics",
        "sh": "Other",
        "svg": "DisplayMagics",
        "sx": "OSMagics",
        "system": "OSMagics",
        "time": "ExecutionMagics",
        "timeit": "ExecutionMagics",
        "writefile": "OSMagics"
       },
       "line": {
        "alias": "OSMagics",
        "alias_magic": "BasicMagics",
        "autocall": "AutoMagics",
        "automagic": "AutoMagics",
        "autosave": "KernelMagics",
        "bookmark": "OSMagics",
        "cat": "Other",
        "cd": "OSMagics",
        "clear": "KernelMagics",
        "colors": "BasicMagics",
        "config": "ConfigMagics",
        "connect_info": "KernelMagics",
        "cp": "Other",
        "debug": "ExecutionMagics",
        "dhist": "OSMagics",
        "dirs": "OSMagics",
        "doctest_mode": "BasicMagics",
        "ed": "Other",
        "edit": "KernelMagics",
        "env": "OSMagics",
        "gui": "BasicMagics",
        "hist": "Other",
        "history": "HistoryMagics",
        "killbgscripts": "ScriptMagics",
        "ldir": "Other",
        "less": "KernelMagics",
        "lf": "Other",
        "lk": "Other",
        "ll": "Other",
        "load": "CodeMagics",
        "load_ext": "ExtensionMagics",
        "loadpy": "CodeMagics",
        "logoff": "LoggingMagics",
        "logon": "LoggingMagics",
        "logstart": "LoggingMagics",
        "logstate": "LoggingMagics",
        "logstop": "LoggingMagics",
        "ls": "Other",
        "lsmagic": "BasicMagics",
        "lx": "Other",
        "macro": "ExecutionMagics",
        "magic": "BasicMagics",
        "man": "KernelMagics",
        "matplotlib": "PylabMagics",
        "mkdir": "Other",
        "more": "KernelMagics",
        "mv": "Other",
        "notebook": "BasicMagics",
        "page": "BasicMagics",
        "pastebin": "CodeMagics",
        "pdb": "ExecutionMagics",
        "pdef": "NamespaceMagics",
        "pdoc": "NamespaceMagics",
        "pfile": "NamespaceMagics",
        "pinfo": "NamespaceMagics",
        "pinfo2": "NamespaceMagics",
        "popd": "OSMagics",
        "pprint": "BasicMagics",
        "precision": "BasicMagics",
        "profile": "BasicMagics",
        "prun": "ExecutionMagics",
        "psearch": "NamespaceMagics",
        "psource": "NamespaceMagics",
        "pushd": "OSMagics",
        "pwd": "OSMagics",
        "pycat": "OSMagics",
        "pylab": "PylabMagics",
        "qtconsole": "KernelMagics",
        "quickref": "BasicMagics",
        "recall": "HistoryMagics",
        "rehashx": "OSMagics",
        "reload_ext": "ExtensionMagics",
        "rep": "Other",
        "rerun": "HistoryMagics",
        "reset": "NamespaceMagics",
        "reset_selective": "NamespaceMagics",
        "rm": "Other",
        "rmdir": "Other",
        "run": "ExecutionMagics",
        "save": "CodeMagics",
        "sc": "OSMagics",
        "set_env": "OSMagics",
        "store": "StoreMagics",
        "sx": "OSMagics",
        "system": "OSMagics",
        "tb": "ExecutionMagics",
        "time": "ExecutionMagics",
        "timeit": "ExecutionMagics",
        "unalias": "OSMagics",
        "unload_ext": "ExtensionMagics",
        "who": "NamespaceMagics",
        "who_ls": "NamespaceMagics",
        "whos": "NamespaceMagics",
        "xdel": "NamespaceMagics",
        "xmode": "BasicMagics"
       }
      },
      "text/plain": [
       "Available line magics:\n",
       "%alias  %alias_magic  %autocall  %automagic  %autosave  %bookmark  %cat  %cd  %clear  %colors  %config  %connect_info  %cp  %debug  %dhist  %dirs  %doctest_mode  %ed  %edit  %env  %gui  %hist  %history  %killbgscripts  %ldir  %less  %lf  %lk  %ll  %load  %load_ext  %loadpy  %logoff  %logon  %logstart  %logstate  %logstop  %ls  %lsmagic  %lx  %macro  %magic  %man  %matplotlib  %mkdir  %more  %mv  %notebook  %page  %pastebin  %pdb  %pdef  %pdoc  %pfile  %pinfo  %pinfo2  %popd  %pprint  %precision  %profile  %prun  %psearch  %psource  %pushd  %pwd  %pycat  %pylab  %qtconsole  %quickref  %recall  %rehashx  %reload_ext  %rep  %rerun  %reset  %reset_selective  %rm  %rmdir  %run  %save  %sc  %set_env  %store  %sx  %system  %tb  %time  %timeit  %unalias  %unload_ext  %who  %who_ls  %whos  %xdel  %xmode\n",
       "\n",
       "Available cell magics:\n",
       "%%!  %%HTML  %%SVG  %%bash  %%capture  %%debug  %%file  %%html  %%javascript  %%js  %%latex  %%perl  %%prun  %%pypy  %%python  %%python2  %%python3  %%ruby  %%script  %%sh  %%svg  %%sx  %%system  %%time  %%timeit  %%writefile\n",
       "\n",
       "Automagic is ON, % prefix IS NOT needed for line magics."
      ]
     },
     "execution_count": 3,
     "metadata": {},
     "output_type": "execute_result"
    }
   ],
   "source": [
    "%lsmagic"
   ]
  },
  {
   "cell_type": "code",
   "execution_count": 3,
   "metadata": {
    "collapsed": false
   },
   "outputs": [
    {
     "data": {
      "text/plain": [
       "'/Users/austin/OneDrive/Code/data_sci/ml'"
      ]
     },
     "execution_count": 3,
     "metadata": {},
     "output_type": "execute_result"
    }
   ],
   "source": [
    "%pwd"
   ]
  },
  {
   "cell_type": "code",
   "execution_count": 5,
   "metadata": {
    "collapsed": false
   },
   "outputs": [
    {
     "name": "stdout",
     "output_type": "stream",
     "text": [
      "total 112\r\n",
      "drwxr-xr-x  4 austin  staff    136 Dec 19 01:36 \u001b[1m\u001b[34m.\u001b[m\u001b[m/\r\n",
      "drwxr-xr-x  9 austin  staff    306 Dec 19 01:35 \u001b[1m\u001b[34m..\u001b[m\u001b[m/\r\n",
      "drwxr-xr-x  2 austin  staff     68 Dec 19 01:36 \u001b[1m\u001b[34m.ipynb_checkpoints\u001b[m\u001b[m/\r\n",
      "-rw-r--r--@ 1 austin  staff  54398 Dec 19 01:35 Example_Jupyter_Notebook.ipynb\r\n"
     ]
    }
   ],
   "source": [
    "%ls -la"
   ]
  },
  {
   "cell_type": "code",
   "execution_count": 4,
   "metadata": {
    "collapsed": true
   },
   "outputs": [],
   "source": [
    "%matplotlib inline"
   ]
  },
  {
   "cell_type": "code",
   "execution_count": 5,
   "metadata": {
    "collapsed": false,
    "scrolled": true
   },
   "outputs": [
    {
     "data": {
      "image/png": "[encoded data removed]",
      "text/plain": [
       "<matplotlib.figure.Figure at 0x10cf14a20>"
      ]
     },
     "metadata": {},
     "output_type": "display_data"
    }
   ],
   "source": [
    "import matplotlib.pyplot as plt\n",
    "import numpy as np\n",
    "\n",
    "t = np.arange(0.0, 2.0, 0.01)\n",
    "s = np.sin(2*np.pi*t)\n",
    "plt.plot(t, s)\n",
    "\n",
    "plt.xlabel('time (s)')\n",
    "plt.ylabel('voltage (mV)')\n",
    "plt.title('About as simple as it gets, folks')\n",
    "plt.grid(True)\n",
    "plt.savefig(\"graph.png\")\n",
    "plt.show()"
   ]
  },
  {
   "cell_type": "code",
   "execution_count": 6,
   "metadata": {
    "collapsed": false
   },
   "outputs": [
    {
     "data": {
      "text/html": [
       "<iframe width=\"420\" height=\"315\"\n",
       "src=\"https://www.youtube.com/embed/HW29067qVWk\">\n",
       "</iframe>  <!-- notice the /embed -->"
      ],
      "text/plain": [
       "<IPython.core.display.HTML object>"
      ]
     },
     "metadata": {},
     "output_type": "display_data"
    }
   ],
   "source": [
    "%%HTML\n",
    "<iframe width=\"420\" height=\"315\"\n",
    "src=\"https://www.youtube.com/embed/HW29067qVWk\">\n",
    "</iframe>  <!-- notice the /embed -->"
   ]
  },
  {
   "cell_type": "code",
   "execution_count": 9,
   "metadata": {
    "collapsed": false
   },
   "outputs": [
    {
     "name": "stdout",
     "output_type": "stream",
     "text": [
      "10000 loops, best of 3: 59.7 µs per loop\n"
     ]
    }
   ],
   "source": [
    "%%timeit\n",
    "square_evens = [n*n for n in range(1000)]"
   ]
  },
  {
   "cell_type": "code",
   "execution_count": 10,
   "metadata": {
    "collapsed": false
   },
   "outputs": [
    {
     "data": {
      "text/html": [
       "<div>\n",
       "<table border=\"1\" class=\"dataframe\">\n",
       "  <thead>\n",
       "    <tr style=\"text-align: right;\">\n",
       "      <th></th>\n",
       "      <th>0</th>\n",
       "      <th>1</th>\n",
       "      <th>2</th>\n",
       "      <th>3</th>\n",
       "      <th>4</th>\n",
       "    </tr>\n",
       "  </thead>\n",
       "  <tbody>\n",
       "    <tr>\n",
       "      <th>0</th>\n",
       "      <td>0.899415</td>\n",
       "      <td>0.513523</td>\n",
       "      <td>-0.822343</td>\n",
       "      <td>-0.344885</td>\n",
       "      <td>0.059472</td>\n",
       "    </tr>\n",
       "    <tr>\n",
       "      <th>1</th>\n",
       "      <td>1.363199</td>\n",
       "      <td>-0.230935</td>\n",
       "      <td>-0.121568</td>\n",
       "      <td>1.367167</td>\n",
       "      <td>1.679026</td>\n",
       "    </tr>\n",
       "    <tr>\n",
       "      <th>2</th>\n",
       "      <td>-1.353163</td>\n",
       "      <td>-1.877562</td>\n",
       "      <td>1.450645</td>\n",
       "      <td>-0.510655</td>\n",
       "      <td>-0.046119</td>\n",
       "    </tr>\n",
       "    <tr>\n",
       "      <th>3</th>\n",
       "      <td>-1.128682</td>\n",
       "      <td>0.165713</td>\n",
       "      <td>0.375837</td>\n",
       "      <td>-1.000752</td>\n",
       "      <td>0.024303</td>\n",
       "    </tr>\n",
       "    <tr>\n",
       "      <th>4</th>\n",
       "      <td>0.086969</td>\n",
       "      <td>0.194820</td>\n",
       "      <td>0.430395</td>\n",
       "      <td>-1.214187</td>\n",
       "      <td>-0.064596</td>\n",
       "    </tr>\n",
       "    <tr>\n",
       "      <th>5</th>\n",
       "      <td>1.379219</td>\n",
       "      <td>-1.855417</td>\n",
       "      <td>-0.573795</td>\n",
       "      <td>-0.840635</td>\n",
       "      <td>-0.436052</td>\n",
       "    </tr>\n",
       "    <tr>\n",
       "      <th>6</th>\n",
       "      <td>0.462069</td>\n",
       "      <td>0.529961</td>\n",
       "      <td>2.142653</td>\n",
       "      <td>-0.700599</td>\n",
       "      <td>1.991379</td>\n",
       "    </tr>\n",
       "    <tr>\n",
       "      <th>7</th>\n",
       "      <td>-1.629719</td>\n",
       "      <td>-0.028067</td>\n",
       "      <td>0.370632</td>\n",
       "      <td>-0.814967</td>\n",
       "      <td>-0.020045</td>\n",
       "    </tr>\n",
       "    <tr>\n",
       "      <th>8</th>\n",
       "      <td>0.160583</td>\n",
       "      <td>-0.387317</td>\n",
       "      <td>0.119626</td>\n",
       "      <td>-0.391080</td>\n",
       "      <td>0.604682</td>\n",
       "    </tr>\n",
       "    <tr>\n",
       "      <th>9</th>\n",
       "      <td>0.962817</td>\n",
       "      <td>-0.348718</td>\n",
       "      <td>0.401979</td>\n",
       "      <td>-0.665278</td>\n",
       "      <td>-1.070446</td>\n",
       "    </tr>\n",
       "  </tbody>\n",
       "</table>\n",
       "</div>"
      ],
      "text/plain": [
       "          0         1         2         3         4\n",
       "0  0.899415  0.513523 -0.822343 -0.344885  0.059472\n",
       "1  1.363199 -0.230935 -0.121568  1.367167  1.679026\n",
       "2 -1.353163 -1.877562  1.450645 -0.510655 -0.046119\n",
       "3 -1.128682  0.165713  0.375837 -1.000752  0.024303\n",
       "4  0.086969  0.194820  0.430395 -1.214187 -0.064596\n",
       "5  1.379219 -1.855417 -0.573795 -0.840635 -0.436052\n",
       "6  0.462069  0.529961  2.142653 -0.700599  1.991379\n",
       "7 -1.629719 -0.028067  0.370632 -0.814967 -0.020045\n",
       "8  0.160583 -0.387317  0.119626 -0.391080  0.604682\n",
       "9  0.962817 -0.348718  0.401979 -0.665278 -1.070446"
      ]
     },
     "execution_count": 10,
     "metadata": {},
     "output_type": "execute_result"
    }
   ],
   "source": [
    "import pandas as pd\n",
    "import numpy as np\n",
    "\n",
    "#pandas data frame\n",
    "df = pd.DataFrame(np.random.randn(10,5))\n",
    "df # outputs to notebook in nice readable form"
   ]
  },
  {
   "cell_type": "code",
   "execution_count": 11,
   "metadata": {
    "collapsed": false
   },
   "outputs": [
    {
     "name": "stdout",
     "output_type": "stream",
     "text": [
      "# conda environments:\r\n",
      "#\r\n",
      "tensorflow               /Users/austin/anaconda/envs/tensorflow\r\n",
      "root                  *  /Users/austin/anaconda\r\n",
      "\r\n"
     ]
    }
   ],
   "source": [
    "!conda env list"
   ]
  },
  {
   "cell_type": "markdown",
   "metadata": {},
   "source": [
    "https://github.com/ipython/ipython/wiki/A-gallery-of-interesting-IPython-Notebooks\n",
    "https://github.com/JWarmenhoven/ISLR-python/tree/master/Notebooks\n",
    "\n",
    "http://nbviewer.jupyter.org/"
   ]
  }
 ],
 "metadata": {
  "anaconda-cloud": {},
  "kernelspec": {
   "display_name": "Python [conda root]",
   "language": "python",
   "name": "conda-root-py"
  },
  "language_info": {
   "codemirror_mode": {
    "name": "ipython",
    "version": 3
   },
   "file_extension": ".py",
   "mimetype": "text/x-python",
   "name": "python",
   "nbconvert_exporter": "python",
   "pygments_lexer": "ipython3",
   "version": "3.5.2"
  }
 },
 "nbformat": 4,
 "nbformat_minor": 1
}
