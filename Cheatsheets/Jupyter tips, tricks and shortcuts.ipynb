{
 "cells": [
  {
   "cell_type": "markdown",
   "metadata": {},
   "source": [
    "Taken from: https://www.dataquest.io/blog/jupyter-notebook-tips-tricks-shortcuts/"
   ]
  },
  {
   "cell_type": "markdown",
   "metadata": {},
   "source": [
    "**1. Keyboard Shortcuts**"
   ]
  },
  {
   "cell_type": "markdown",
   "metadata": {},
   "source": [
    "While in command mode:  \n",
    "A to insert a new cell above, B to insert a new cell below  \n",
    "M to change the current cell to Markdown, Y to change it back to code  \n",
    "D+D to delete cell  \n",
    "Esc+F find and replace on your code  \n",
    "Esc+O toggle cell output  \n",
    "Shift+J or Shift+Down to select next cell downward  \n",
    "Shift+K or Shift+Up to select next cell upward  \n",
    "Shift+M to merge multiple cells  \n",
    "Code mode:  \n",
    "Ctrl+Shift+- to split current cell into two from cursor point "
   ]
  },
  {
   "cell_type": "markdown",
   "metadata": {},
   "source": [
    "**2. Pretty Display of Variables**"
   ]
  },
  {
   "cell_type": "code",
   "execution_count": 1,
   "metadata": {
    "collapsed": true
   },
   "outputs": [],
   "source": [
    "# See the value of multiple statements at once without need for print statement\n",
    "from IPython.core.interactiveshell import InteractiveShell\n",
    "InteractiveShell.ast_node_interactivity = \"all\""
   ]
  },
  {
   "cell_type": "markdown",
   "metadata": {},
   "source": [
    "**3. Easy Links to Documentation**  \n",
    "Check Help menu for docs on NumPy, Pandas, SciPy, and Matplotlib"
   ]
  },
  {
   "cell_type": "code",
   "execution_count": 2,
   "metadata": {
    "collapsed": true
   },
   "outputs": [],
   "source": [
    "# Prepend with ? to access Docstring for quick reference\n",
    "?str.replace()\n",
    "# Share notebooks online with nbviewer\n",
    "# https://nbviewer.jupyter.org/"
   ]
  },
  {
   "cell_type": "markdown",
   "metadata": {},
   "source": [
    "**4. Plotting in Notebooks**"
   ]
  },
  {
   "cell_type": "markdown",
   "metadata": {},
   "source": [
    "matplotlib (the de-facto standard), activated with %matplotlib inline  \n",
    "%matplotlib notebook provides interactivity but can be a little slow, since rendering is done server-side.  \n",
    "Seaborn is built over Matplotlib and makes building more attractive plots easier. Just by importing Seaborn, your matplotlib plots are made ‘prettier’ without any code modification!    \n",
    "mpld3 provides alternative renderer (using d3) for matplotlib code. Quite nice, though incomplete.  \n",
    "bokeh is a better option for building interactive plots.  \n",
    "plot.ly can generate nice plots - this used to be a paid service only but was recently open sourced.  \n",
    "Altair is a relatively new declarative visualization library for Python. It’s easy to use and makes great looking plots, however the ability to customize those plots is not nearly as powerful as in Matplotlib.  "
   ]
  },
  {
   "cell_type": "markdown",
   "metadata": {},
   "source": [
    "**5. IPython Magic Commands**"
   ]
  },
  {
   "cell_type": "code",
   "execution_count": 3,
   "metadata": {
    "collapsed": true
   },
   "outputs": [
    {
     "data": {
      "application/json": {
       "cell": {
        "!": "OSMagics",
        "HTML": "Other",
        "SVG": "Other",
        "bash": "Other",
        "capture": "ExecutionMagics",
        "debug": "ExecutionMagics",
        "file": "Other",
        "html": "DisplayMagics",
        "javascript": "DisplayMagics",
        "js": "DisplayMagics",
        "latex": "DisplayMagics",
        "perl": "Other",
        "prun": "ExecutionMagics",
        "pypy": "Other",
        "python": "Other",
        "python2": "Other",
        "python3": "Other",
        "ruby": "Other",
        "script": "ScriptMagics",
        "sh": "Other",
        "svg": "DisplayMagics",
        "sx": "OSMagics",
        "system": "OSMagics",
        "time": "ExecutionMagics",
        "timeit": "ExecutionMagics",
        "writefile": "OSMagics"
       },
       "line": {
        "alias": "OSMagics",
        "alias_magic": "BasicMagics",
        "autocall": "AutoMagics",
        "automagic": "AutoMagics",
        "autosave": "KernelMagics",
        "bookmark": "OSMagics",
        "cat": "Other",
        "cd": "OSMagics",
        "clear": "KernelMagics",
        "colors": "BasicMagics",
        "config": "ConfigMagics",
        "connect_info": "KernelMagics",
        "cp": "Other",
        "debug": "ExecutionMagics",
        "dhist": "OSMagics",
        "dirs": "OSMagics",
        "doctest_mode": "BasicMagics",
        "ed": "Other",
        "edit": "KernelMagics",
        "env": "OSMagics",
        "gui": "BasicMagics",
        "hist": "Other",
        "history": "HistoryMagics",
        "killbgscripts": "ScriptMagics",
        "ldir": "Other",
        "less": "KernelMagics",
        "lf": "Other",
        "lk": "Other",
        "ll": "Other",
        "load": "CodeMagics",
        "load_ext": "ExtensionMagics",
        "loadpy": "CodeMagics",
        "logoff": "LoggingMagics",
        "logon": "LoggingMagics",
        "logstart": "LoggingMagics",
        "logstate": "LoggingMagics",
        "logstop": "LoggingMagics",
        "ls": "Other",
        "lsmagic": "BasicMagics",
        "lx": "Other",
        "macro": "ExecutionMagics",
        "magic": "BasicMagics",
        "man": "KernelMagics",
        "matplotlib": "PylabMagics",
        "mkdir": "Other",
        "more": "KernelMagics",
        "mv": "Other",
        "notebook": "BasicMagics",
        "page": "BasicMagics",
        "pastebin": "CodeMagics",
        "pdb": "ExecutionMagics",
        "pdef": "NamespaceMagics",
        "pdoc": "NamespaceMagics",
        "pfile": "NamespaceMagics",
        "pinfo": "NamespaceMagics",
        "pinfo2": "NamespaceMagics",
        "popd": "OSMagics",
        "pprint": "BasicMagics",
        "precision": "BasicMagics",
        "profile": "BasicMagics",
        "prun": "ExecutionMagics",
        "psearch": "NamespaceMagics",
        "psource": "NamespaceMagics",
        "pushd": "OSMagics",
        "pwd": "OSMagics",
        "pycat": "OSMagics",
        "pylab": "PylabMagics",
        "qtconsole": "KernelMagics",
        "quickref": "BasicMagics",
        "recall": "HistoryMagics",
        "rehashx": "OSMagics",
        "reload_ext": "ExtensionMagics",
        "rep": "Other",
        "rerun": "HistoryMagics",
        "reset": "NamespaceMagics",
        "reset_selective": "NamespaceMagics",
        "rm": "Other",
        "rmdir": "Other",
        "run": "ExecutionMagics",
        "save": "CodeMagics",
        "sc": "OSMagics",
        "set_env": "OSMagics",
        "store": "StoreMagics",
        "sx": "OSMagics",
        "system": "OSMagics",
        "tb": "ExecutionMagics",
        "time": "ExecutionMagics",
        "timeit": "ExecutionMagics",
        "unalias": "OSMagics",
        "unload_ext": "ExtensionMagics",
        "who": "NamespaceMagics",
        "who_ls": "NamespaceMagics",
        "whos": "NamespaceMagics",
        "xdel": "NamespaceMagics",
        "xmode": "BasicMagics"
       }
      },
      "text/plain": [
       "Available line magics:\n",
       "%alias  %alias_magic  %autocall  %automagic  %autosave  %bookmark  %cat  %cd  %clear  %colors  %config  %connect_info  %cp  %debug  %dhist  %dirs  %doctest_mode  %ed  %edit  %env  %gui  %hist  %history  %killbgscripts  %ldir  %less  %lf  %lk  %ll  %load  %load_ext  %loadpy  %logoff  %logon  %logstart  %logstate  %logstop  %ls  %lsmagic  %lx  %macro  %magic  %man  %matplotlib  %mkdir  %more  %mv  %notebook  %page  %pastebin  %pdb  %pdef  %pdoc  %pfile  %pinfo  %pinfo2  %popd  %pprint  %precision  %profile  %prun  %psearch  %psource  %pushd  %pwd  %pycat  %pylab  %qtconsole  %quickref  %recall  %rehashx  %reload_ext  %rep  %rerun  %reset  %reset_selective  %rm  %rmdir  %run  %save  %sc  %set_env  %store  %sx  %system  %tb  %time  %timeit  %unalias  %unload_ext  %who  %who_ls  %whos  %xdel  %xmode\n",
       "\n",
       "Available cell magics:\n",
       "%%!  %%HTML  %%SVG  %%bash  %%capture  %%debug  %%file  %%html  %%javascript  %%js  %%latex  %%perl  %%prun  %%pypy  %%python  %%python2  %%python3  %%ruby  %%script  %%sh  %%svg  %%sx  %%system  %%time  %%timeit  %%writefile\n",
       "\n",
       "Automagic is ON, % prefix IS NOT needed for line magics."
      ]
     },
     "execution_count": 3,
     "metadata": {},
     "output_type": "execute_result"
    }
   ],
   "source": [
    "# List all magic commands\n",
    "%lsmagic"
   ]
  },
  {
   "cell_type": "markdown",
   "metadata": {},
   "source": [
    "**6. IPython Magic - %env: Set Environment Variables**"
   ]
  },
  {
   "cell_type": "code",
   "execution_count": 4,
   "metadata": {
    "collapsed": true
   },
   "outputs": [
    {
     "data": {
      "text/plain": [
       "{'Apple_PubSub_Socket_Render': '/private/tmp/com.apple.launchd.NT4fOXzkid/Render',\n",
       " 'CLICOLOR': '1',\n",
       " 'COLORFGBG': '7;0',\n",
       " 'CONDA_ROOT': '/Users/austin/anaconda',\n",
       " 'DISPLAY': '/private/tmp/com.apple.launchd.w5o83Wr9d9/org.macosforge.xquartz:0',\n",
       " 'GIT_PAGER': 'cat',\n",
       " 'HOME': '/Users/austin',\n",
       " 'ITERM_ORIG_PS1': '\\\\h:\\\\W \\\\u\\\\$ ',\n",
       " 'ITERM_PREV_PS1': '\\\\[\\x1b]133;D;$?\\x07\\x1b]1337;RemoteHost=austin@dhcp-wifi-8021x-155-41-29-14.bu.edu\\x07\\x1b]1337;CurrentDir=/Users/austin/OneDrive/Code/data_sci/ml\\x07\\x1b]133;A\\x07\\\\]\\\\h:\\\\W \\\\u\\\\$ \\\\[\\x1b]133;B\\x07\\\\]',\n",
       " 'ITERM_PROFILE': 'Basic',\n",
       " 'ITERM_SESSION_ID': 'w0t1p0:E416C6B4-DBC2-46D0-AD31-49EC96F958BB',\n",
       " 'JPY_PARENT_PID': '37645',\n",
       " 'LANG': 'en_US.UTF-8',\n",
       " 'LOGNAME': 'austin',\n",
       " 'LSCOLORS': 'ExFxCxDxBxegedabagacad',\n",
       " 'MPLBACKEND': 'module://ipykernel.pylab.backend_inline',\n",
       " 'OLDPWD': '/Users/austin/OneDrive/Code/data_sci',\n",
       " 'PAGER': 'cat',\n",
       " 'PATH': '/Users/austin/anaconda/bin:/Users/austin/anaconda/bin:/Users/austin/bin:/usr/local/bin:/usr/bin:/bin:/usr/sbin:/sbin:/opt/X11/bin',\n",
       " 'PS1': '\\\\h:\\\\W \\\\u\\\\$ ',\n",
       " 'PWD': '/Users/austin/OneDrive/Code/data_sci/ml',\n",
       " 'SHELL': '/bin/bash',\n",
       " 'SHLVL': '1',\n",
       " 'SSH_AUTH_SOCK': '/private/tmp/com.apple.launchd.UjIuZVuaqV/Listeners',\n",
       " 'TERM': 'xterm-color',\n",
       " 'TERM_PROGRAM': 'iTerm.app',\n",
       " 'TERM_PROGRAM_VERSION': '3.0.13',\n",
       " 'TERM_SESSION_ID': 'w0t1p0:E416C6B4-DBC2-46D0-AD31-49EC96F958BB',\n",
       " 'TMPDIR': '/var/folders/0h/180tq4_x45979d0y4m8wkbfm0000gn/T/',\n",
       " 'USER': 'austin',\n",
       " 'XPC_FLAGS': '0x0',\n",
       " 'XPC_SERVICE_NAME': '0',\n",
       " '_': '/Users/austin/anaconda/bin/jupyter',\n",
       " '__CF_USER_TEXT_ENCODING': '0x1F5:0x0:0x0'}"
      ]
     },
     "execution_count": 4,
     "metadata": {},
     "output_type": "execute_result"
    },
    {
     "name": "stdout",
     "output_type": "stream",
     "text": [
      "env: OMP_NUM_THREADS=4\n"
     ]
    }
   ],
   "source": [
    "%env\n",
    "%env OMP_NUM_THREADS=4"
   ]
  },
  {
   "cell_type": "markdown",
   "metadata": {},
   "source": [
    "**7. IPython Magic - %store: Pass variables between notebooks**"
   ]
  },
  {
   "cell_type": "code",
   "execution_count": 5,
   "metadata": {
    "collapsed": false
   },
   "outputs": [
    {
     "name": "stdout",
     "output_type": "stream",
     "text": [
      "Stored 'data' (str)\n"
     ]
    }
   ],
   "source": [
    "data = 'this is the string I want to pass to different notebook'\n",
    "%store data\n",
    "del data # This has deleted the variable"
   ]
  },
  {
   "cell_type": "markdown",
   "metadata": {},
   "source": [
    "Now in a new notebook..."
   ]
  },
  {
   "cell_type": "code",
   "execution_count": 6,
   "metadata": {
    "collapsed": false
   },
   "outputs": [
    {
     "name": "stdout",
     "output_type": "stream",
     "text": [
      "this is the string I want to pass to different notebook\n"
     ]
    }
   ],
   "source": [
    "%store -r data\n",
    "print(data)"
   ]
  },
  {
   "cell_type": "markdown",
   "metadata": {},
   "source": [
    "**10. IPython Magic - %who: List all variables of global scope**"
   ]
  },
  {
   "cell_type": "code",
   "execution_count": 7,
   "metadata": {
    "collapsed": false
   },
   "outputs": [
    {
     "name": "stdout",
     "output_type": "stream",
     "text": [
      "data\t one\t two\t \n"
     ]
    }
   ],
   "source": [
    "one = \"for the money\"\n",
    "two = \"for the show\"\n",
    "%who str"
   ]
  },
  {
   "cell_type": "markdown",
   "metadata": {},
   "source": [
    "**11. IPython Magic - Timing**"
   ]
  },
  {
   "cell_type": "markdown",
   "metadata": {},
   "source": [
    "%%time will give you information about a single run of the code in your cell."
   ]
  },
  {
   "cell_type": "code",
   "execution_count": 8,
   "metadata": {
    "collapsed": false
   },
   "outputs": [
    {
     "name": "stdout",
     "output_type": "stream",
     "text": [
      "CPU times: user 18.9 ms, sys: 14.5 ms, total: 33.4 ms\n",
      "Wall time: 11.3 s\n"
     ]
    }
   ],
   "source": [
    "%%time\n",
    "import time\n",
    "for _ in range(1000):\n",
    "    time.sleep(0.01)# sleep for 0.01 seconds"
   ]
  },
  {
   "cell_type": "markdown",
   "metadata": {},
   "source": [
    "%%timeit uses the Python timeit module which runs a statement 100,000 times (by default) and then provides the mean of the fastest three times."
   ]
  },
  {
   "cell_type": "code",
   "execution_count": 9,
   "metadata": {
    "collapsed": false
   },
   "outputs": [
    {
     "name": "stdout",
     "output_type": "stream",
     "text": [
      "The slowest run took 7.21 times longer than the fastest. This could mean that an intermediate result is being cached.\n",
      "100000 loops, best of 3: 6.88 µs per loop\n"
     ]
    }
   ],
   "source": [
    "import numpy\n",
    "%timeit numpy.random.normal(size=100)"
   ]
  },
  {
   "cell_type": "markdown",
   "metadata": {},
   "source": [
    "**12. IPython Magic - %%writefile and %pycat: Export the contents of a cell/Show the contents of an external script**"
   ]
  },
  {
   "cell_type": "markdown",
   "metadata": {},
   "source": [
    "Using the %%writefile magic saves the contents of that cell to an external file.  \n",
    "%pycat does the opposite, and shows you (in a popup) the syntax highlighted contents of an external file."
   ]
  },
  {
   "cell_type": "code",
   "execution_count": 10,
   "metadata": {
    "collapsed": false
   },
   "outputs": [
    {
     "name": "stdout",
     "output_type": "stream",
     "text": [
      "Overwriting pythoncode.py\n"
     ]
    }
   ],
   "source": [
    "%%writefile pythoncode.py\n",
    "\n",
    "import numpy\n",
    "def append_if_not_exists(arr, x):\n",
    "    if x not in arr:\n",
    "        arr.append(x)\n",
    "        \n",
    "def some_useless_slow_function():\n",
    "    arr = list()\n",
    "    for i in range(10000):\n",
    "        x = numpy.random.randint(0, 10000)\n",
    "        append_if_not_exists(arr, x)"
   ]
  },
  {
   "cell_type": "code",
   "execution_count": 11,
   "metadata": {
    "collapsed": true
   },
   "outputs": [],
   "source": [
    "%pycat pythoncode.py"
   ]
  },
  {
   "cell_type": "markdown",
   "metadata": {},
   "source": [
    "**13. IPython Magic - %prun: Show how much time your program spent in each function**"
   ]
  },
  {
   "cell_type": "markdown",
   "metadata": {},
   "source": [
    "Using %prun statement_name will give you an ordered table showing you the number of times each internal function was called within the statement, the time each call took as well as the cumulative time of all runs of the function."
   ]
  },
  {
   "cell_type": "code",
   "execution_count": 12,
   "metadata": {
    "collapsed": true
   },
   "outputs": [
    {
     "ename": "NameError",
     "evalue": "name 'some_useless_slow_function' is not defined",
     "output_type": "error",
     "traceback": [
      "\u001b[0;31m---------------------------------------------------------------------------\u001b[0m",
      "\u001b[0;31mNameError\u001b[0m                                 Traceback (most recent call last)",
      "\u001b[0;32m<ipython-input-12-b4fa5db2cdd1>\u001b[0m in \u001b[0;36m<module>\u001b[0;34m()\u001b[0m\n\u001b[0;32m----> 1\u001b[0;31m \u001b[0mget_ipython\u001b[0m\u001b[0;34m(\u001b[0m\u001b[0;34m)\u001b[0m\u001b[0;34m.\u001b[0m\u001b[0mmagic\u001b[0m\u001b[0;34m(\u001b[0m\u001b[0;34m'prun some_useless_slow_function()'\u001b[0m\u001b[0;34m)\u001b[0m\u001b[0;34m\u001b[0m\u001b[0m\n\u001b[0m",
      "\u001b[0;32m/Users/austin/anaconda/lib/python3.5/site-packages/IPython/core/interactiveshell.py\u001b[0m in \u001b[0;36mmagic\u001b[0;34m(self, arg_s)\u001b[0m\n\u001b[1;32m   2156\u001b[0m         \u001b[0mmagic_name\u001b[0m\u001b[0;34m,\u001b[0m \u001b[0m_\u001b[0m\u001b[0;34m,\u001b[0m \u001b[0mmagic_arg_s\u001b[0m \u001b[0;34m=\u001b[0m \u001b[0marg_s\u001b[0m\u001b[0;34m.\u001b[0m\u001b[0mpartition\u001b[0m\u001b[0;34m(\u001b[0m\u001b[0;34m' '\u001b[0m\u001b[0;34m)\u001b[0m\u001b[0;34m\u001b[0m\u001b[0m\n\u001b[1;32m   2157\u001b[0m         \u001b[0mmagic_name\u001b[0m \u001b[0;34m=\u001b[0m \u001b[0mmagic_name\u001b[0m\u001b[0;34m.\u001b[0m\u001b[0mlstrip\u001b[0m\u001b[0;34m(\u001b[0m\u001b[0mprefilter\u001b[0m\u001b[0;34m.\u001b[0m\u001b[0mESC_MAGIC\u001b[0m\u001b[0;34m)\u001b[0m\u001b[0;34m\u001b[0m\u001b[0m\n\u001b[0;32m-> 2158\u001b[0;31m         \u001b[0;32mreturn\u001b[0m \u001b[0mself\u001b[0m\u001b[0;34m.\u001b[0m\u001b[0mrun_line_magic\u001b[0m\u001b[0;34m(\u001b[0m\u001b[0mmagic_name\u001b[0m\u001b[0;34m,\u001b[0m \u001b[0mmagic_arg_s\u001b[0m\u001b[0;34m)\u001b[0m\u001b[0;34m\u001b[0m\u001b[0m\n\u001b[0m\u001b[1;32m   2159\u001b[0m \u001b[0;34m\u001b[0m\u001b[0m\n\u001b[1;32m   2160\u001b[0m     \u001b[0;31m#-------------------------------------------------------------------------\u001b[0m\u001b[0;34m\u001b[0m\u001b[0;34m\u001b[0m\u001b[0m\n",
      "\u001b[0;32m/Users/austin/anaconda/lib/python3.5/site-packages/IPython/core/interactiveshell.py\u001b[0m in \u001b[0;36mrun_line_magic\u001b[0;34m(self, magic_name, line)\u001b[0m\n\u001b[1;32m   2077\u001b[0m                 \u001b[0mkwargs\u001b[0m\u001b[0;34m[\u001b[0m\u001b[0;34m'local_ns'\u001b[0m\u001b[0;34m]\u001b[0m \u001b[0;34m=\u001b[0m \u001b[0msys\u001b[0m\u001b[0;34m.\u001b[0m\u001b[0m_getframe\u001b[0m\u001b[0;34m(\u001b[0m\u001b[0mstack_depth\u001b[0m\u001b[0;34m)\u001b[0m\u001b[0;34m.\u001b[0m\u001b[0mf_locals\u001b[0m\u001b[0;34m\u001b[0m\u001b[0m\n\u001b[1;32m   2078\u001b[0m             \u001b[0;32mwith\u001b[0m \u001b[0mself\u001b[0m\u001b[0;34m.\u001b[0m\u001b[0mbuiltin_trap\u001b[0m\u001b[0;34m:\u001b[0m\u001b[0;34m\u001b[0m\u001b[0m\n\u001b[0;32m-> 2079\u001b[0;31m                 \u001b[0mresult\u001b[0m \u001b[0;34m=\u001b[0m \u001b[0mfn\u001b[0m\u001b[0;34m(\u001b[0m\u001b[0;34m*\u001b[0m\u001b[0margs\u001b[0m\u001b[0;34m,\u001b[0m\u001b[0;34m**\u001b[0m\u001b[0mkwargs\u001b[0m\u001b[0;34m)\u001b[0m\u001b[0;34m\u001b[0m\u001b[0m\n\u001b[0m\u001b[1;32m   2080\u001b[0m             \u001b[0;32mreturn\u001b[0m \u001b[0mresult\u001b[0m\u001b[0;34m\u001b[0m\u001b[0m\n\u001b[1;32m   2081\u001b[0m \u001b[0;34m\u001b[0m\u001b[0m\n",
      "\u001b[0;32m<decorator-gen-53>\u001b[0m in \u001b[0;36mprun\u001b[0;34m(self, parameter_s, cell)\u001b[0m\n",
      "\u001b[0;32m/Users/austin/anaconda/lib/python3.5/site-packages/IPython/core/magic.py\u001b[0m in \u001b[0;36m<lambda>\u001b[0;34m(f, *a, **k)\u001b[0m\n\u001b[1;32m    186\u001b[0m     \u001b[0;31m# but it's overkill for just that one bit of state.\u001b[0m\u001b[0;34m\u001b[0m\u001b[0;34m\u001b[0m\u001b[0m\n\u001b[1;32m    187\u001b[0m     \u001b[0;32mdef\u001b[0m \u001b[0mmagic_deco\u001b[0m\u001b[0;34m(\u001b[0m\u001b[0marg\u001b[0m\u001b[0;34m)\u001b[0m\u001b[0;34m:\u001b[0m\u001b[0;34m\u001b[0m\u001b[0m\n\u001b[0;32m--> 188\u001b[0;31m         \u001b[0mcall\u001b[0m \u001b[0;34m=\u001b[0m \u001b[0;32mlambda\u001b[0m \u001b[0mf\u001b[0m\u001b[0;34m,\u001b[0m \u001b[0;34m*\u001b[0m\u001b[0ma\u001b[0m\u001b[0;34m,\u001b[0m \u001b[0;34m**\u001b[0m\u001b[0mk\u001b[0m\u001b[0;34m:\u001b[0m \u001b[0mf\u001b[0m\u001b[0;34m(\u001b[0m\u001b[0;34m*\u001b[0m\u001b[0ma\u001b[0m\u001b[0;34m,\u001b[0m \u001b[0;34m**\u001b[0m\u001b[0mk\u001b[0m\u001b[0;34m)\u001b[0m\u001b[0;34m\u001b[0m\u001b[0m\n\u001b[0m\u001b[1;32m    189\u001b[0m \u001b[0;34m\u001b[0m\u001b[0m\n\u001b[1;32m    190\u001b[0m         \u001b[0;32mif\u001b[0m \u001b[0mcallable\u001b[0m\u001b[0;34m(\u001b[0m\u001b[0marg\u001b[0m\u001b[0;34m)\u001b[0m\u001b[0;34m:\u001b[0m\u001b[0;34m\u001b[0m\u001b[0m\n",
      "\u001b[0;32m/Users/austin/anaconda/lib/python3.5/site-packages/IPython/core/magics/execution.py\u001b[0m in \u001b[0;36mprun\u001b[0;34m(self, parameter_s, cell)\u001b[0m\n\u001b[1;32m    279\u001b[0m             \u001b[0marg_str\u001b[0m \u001b[0;34m+=\u001b[0m \u001b[0;34m'\\n'\u001b[0m \u001b[0;34m+\u001b[0m \u001b[0mcell\u001b[0m\u001b[0;34m\u001b[0m\u001b[0m\n\u001b[1;32m    280\u001b[0m         \u001b[0marg_str\u001b[0m \u001b[0;34m=\u001b[0m \u001b[0mself\u001b[0m\u001b[0;34m.\u001b[0m\u001b[0mshell\u001b[0m\u001b[0;34m.\u001b[0m\u001b[0minput_splitter\u001b[0m\u001b[0;34m.\u001b[0m\u001b[0mtransform_cell\u001b[0m\u001b[0;34m(\u001b[0m\u001b[0marg_str\u001b[0m\u001b[0;34m)\u001b[0m\u001b[0;34m\u001b[0m\u001b[0m\n\u001b[0;32m--> 281\u001b[0;31m         \u001b[0;32mreturn\u001b[0m \u001b[0mself\u001b[0m\u001b[0;34m.\u001b[0m\u001b[0m_run_with_profiler\u001b[0m\u001b[0;34m(\u001b[0m\u001b[0marg_str\u001b[0m\u001b[0;34m,\u001b[0m \u001b[0mopts\u001b[0m\u001b[0;34m,\u001b[0m \u001b[0mself\u001b[0m\u001b[0;34m.\u001b[0m\u001b[0mshell\u001b[0m\u001b[0;34m.\u001b[0m\u001b[0muser_ns\u001b[0m\u001b[0;34m)\u001b[0m\u001b[0;34m\u001b[0m\u001b[0m\n\u001b[0m\u001b[1;32m    282\u001b[0m \u001b[0;34m\u001b[0m\u001b[0m\n\u001b[1;32m    283\u001b[0m     \u001b[0;32mdef\u001b[0m \u001b[0m_run_with_profiler\u001b[0m\u001b[0;34m(\u001b[0m\u001b[0mself\u001b[0m\u001b[0;34m,\u001b[0m \u001b[0mcode\u001b[0m\u001b[0;34m,\u001b[0m \u001b[0mopts\u001b[0m\u001b[0;34m,\u001b[0m \u001b[0mnamespace\u001b[0m\u001b[0;34m)\u001b[0m\u001b[0;34m:\u001b[0m\u001b[0;34m\u001b[0m\u001b[0m\n",
      "\u001b[0;32m/Users/austin/anaconda/lib/python3.5/site-packages/IPython/core/magics/execution.py\u001b[0m in \u001b[0;36m_run_with_profiler\u001b[0;34m(self, code, opts, namespace)\u001b[0m\n\u001b[1;32m    301\u001b[0m         \u001b[0mprof\u001b[0m \u001b[0;34m=\u001b[0m \u001b[0mprofile\u001b[0m\u001b[0;34m.\u001b[0m\u001b[0mProfile\u001b[0m\u001b[0;34m(\u001b[0m\u001b[0;34m)\u001b[0m\u001b[0;34m\u001b[0m\u001b[0m\n\u001b[1;32m    302\u001b[0m         \u001b[0;32mtry\u001b[0m\u001b[0;34m:\u001b[0m\u001b[0;34m\u001b[0m\u001b[0m\n\u001b[0;32m--> 303\u001b[0;31m             \u001b[0mprof\u001b[0m \u001b[0;34m=\u001b[0m \u001b[0mprof\u001b[0m\u001b[0;34m.\u001b[0m\u001b[0mrunctx\u001b[0m\u001b[0;34m(\u001b[0m\u001b[0mcode\u001b[0m\u001b[0;34m,\u001b[0m \u001b[0mnamespace\u001b[0m\u001b[0;34m,\u001b[0m \u001b[0mnamespace\u001b[0m\u001b[0;34m)\u001b[0m\u001b[0;34m\u001b[0m\u001b[0m\n\u001b[0m\u001b[1;32m    304\u001b[0m             \u001b[0msys_exit\u001b[0m \u001b[0;34m=\u001b[0m \u001b[0;34m''\u001b[0m\u001b[0;34m\u001b[0m\u001b[0m\n\u001b[1;32m    305\u001b[0m         \u001b[0;32mexcept\u001b[0m \u001b[0mSystemExit\u001b[0m\u001b[0;34m:\u001b[0m\u001b[0;34m\u001b[0m\u001b[0m\n",
      "\u001b[0;32m/Users/austin/anaconda/lib/python3.5/cProfile.py\u001b[0m in \u001b[0;36mrunctx\u001b[0;34m(self, cmd, globals, locals)\u001b[0m\n\u001b[1;32m     98\u001b[0m         \u001b[0mself\u001b[0m\u001b[0;34m.\u001b[0m\u001b[0menable\u001b[0m\u001b[0;34m(\u001b[0m\u001b[0;34m)\u001b[0m\u001b[0;34m\u001b[0m\u001b[0m\n\u001b[1;32m     99\u001b[0m         \u001b[0;32mtry\u001b[0m\u001b[0;34m:\u001b[0m\u001b[0;34m\u001b[0m\u001b[0m\n\u001b[0;32m--> 100\u001b[0;31m             \u001b[0mexec\u001b[0m\u001b[0;34m(\u001b[0m\u001b[0mcmd\u001b[0m\u001b[0;34m,\u001b[0m \u001b[0mglobals\u001b[0m\u001b[0;34m,\u001b[0m \u001b[0mlocals\u001b[0m\u001b[0;34m)\u001b[0m\u001b[0;34m\u001b[0m\u001b[0m\n\u001b[0m\u001b[1;32m    101\u001b[0m         \u001b[0;32mfinally\u001b[0m\u001b[0;34m:\u001b[0m\u001b[0;34m\u001b[0m\u001b[0m\n\u001b[1;32m    102\u001b[0m             \u001b[0mself\u001b[0m\u001b[0;34m.\u001b[0m\u001b[0mdisable\u001b[0m\u001b[0;34m(\u001b[0m\u001b[0;34m)\u001b[0m\u001b[0;34m\u001b[0m\u001b[0m\n",
      "\u001b[0;32m<string>\u001b[0m in \u001b[0;36m<module>\u001b[0;34m()\u001b[0m\n",
      "\u001b[0;31mNameError\u001b[0m: name 'some_useless_slow_function' is not defined"
     ]
    }
   ],
   "source": [
    "%prun some_useless_slow_function()"
   ]
  },
  {
   "cell_type": "markdown",
   "metadata": {},
   "source": [
    "**14. IPython Magiv - Febugging with %pdb**"
   ]
  },
  {
   "cell_type": "markdown",
   "metadata": {},
   "source": [
    "Jupyter has own interface for The Python Debugger (pdb). This makes it possible to go inside the function and investigate what happens there.  \n",
    "List of %pdb commands: https://docs.python.org/3.5/library/pdb.html#debugger-commands"
   ]
  },
  {
   "cell_type": "code",
   "execution_count": null,
   "metadata": {
    "collapsed": true
   },
   "outputs": [],
   "source": [
    "%pdb\n",
    "\n",
    "def pick_and_take():\n",
    "    picked = numpy.random.randint(0, 1000)\n",
    "    raise NotImplementedError()\n",
    "    \n",
    "pick_and_take()"
   ]
  },
  {
   "cell_type": "markdown",
   "metadata": {},
   "source": [
    "**15. IPython Magic - High-resolution plot outputs for Retina notebooks**"
   ]
  },
  {
   "cell_type": "code",
   "execution_count": 15,
   "metadata": {
    "collapsed": false
   },
   "outputs": [
    {
     "data": {
      "image/png": "[encoded data removed]",
      "text/plain": [
       "<matplotlib.figure.Figure at 0x1085f8eb8>"
      ]
     },
     "metadata": {},
     "output_type": "display_data"
    }
   ],
   "source": [
    "x = range(1000)\n",
    "y = [i ** 2 for i in x]\n",
    "plt.plot(x,y)\n",
    "plt.show();"
   ]
  },
  {
   "cell_type": "code",
   "execution_count": 16,
   "metadata": {
    "collapsed": false
   },
   "outputs": [
    {
     "data": {
      "image/png": "[encoded data removed]",
      "text/plain": [
       "<matplotlib.figure.Figure at 0x107658b38>"
      ]
     },
     "metadata": {
      "image/png": {
       "height": 356,
       "width": 569
      }
     },
     "output_type": "display_data"
    }
   ],
   "source": [
    "%config InlineBackend.figure_format = 'retina'\n",
    "plt.plot(x,y)\n",
    "plt.show();"
   ]
  },
  {
   "cell_type": "markdown",
   "metadata": {},
   "source": [
    "**16. Suppress the output of a final function**"
   ]
  },
  {
   "cell_type": "code",
   "execution_count": 17,
   "metadata": {
    "collapsed": true
   },
   "outputs": [],
   "source": [
    "%matplotlib inline\n",
    "from matplotlib import pyplot as plt\n",
    "import numpy\n",
    "x = numpy.linspace(0, 1, 1000)**1.5  # linspace"
   ]
  },
  {
   "cell_type": "code",
   "execution_count": 18,
   "metadata": {
    "collapsed": false
   },
   "outputs": [
    {
     "data": {
      "text/plain": [
       "(array([ 216.,  126.,  106.,   95.,   87.,   81.,   77.,   73.,   71.,   68.]),\n",
       " array([ 0. ,  0.1,  0.2,  0.3,  0.4,  0.5,  0.6,  0.7,  0.8,  0.9,  1. ]),\n",
       " <a list of 10 Patch objects>)"
      ]
     },
     "execution_count": 18,
     "metadata": {},
     "output_type": "execute_result"
    },
    {
     "data": {
      "image/png": "[encoded data removed]",
      "text/plain": [
       "<matplotlib.figure.Figure at 0x1086cf2b0>"
      ]
     },
     "metadata": {
      "image/png": {
       "height": 356,
       "width": 528
      }
     },
     "output_type": "display_data"
    }
   ],
   "source": [
    "# Here you get the output of the function\n",
    "plt.hist(x)"
   ]
  },
  {
   "cell_type": "code",
   "execution_count": 19,
   "metadata": {
    "collapsed": false
   },
   "outputs": [
    {
     "data": {
      "image/png": "[encoded data removed]",
      "text/plain": [
       "<matplotlib.figure.Figure at 0x108a28160>"
      ]
     },
     "metadata": {
      "image/png": {
       "height": 356,
       "width": 528
      }
     },
     "output_type": "display_data"
    }
   ],
   "source": [
    "# By adding a semicolon at the end, the output is suppressed.\n",
    "plt.hist(x);"
   ]
  },
  {
   "cell_type": "markdown",
   "metadata": {},
   "source": [
    "**17. Executing Shell Commands**"
   ]
  },
  {
   "cell_type": "code",
   "execution_count": 20,
   "metadata": {
    "collapsed": false
   },
   "outputs": [
    {
     "name": "stdout",
     "output_type": "stream",
     "text": [
      "ls: *.csv: No such file or directory\r\n"
     ]
    }
   ],
   "source": [
    "!ls *.csv"
   ]
  },
  {
   "cell_type": "code",
   "execution_count": 21,
   "metadata": {
    "collapsed": false
   },
   "outputs": [
    {
     "name": "stdout",
     "output_type": "stream",
     "text": [
      "Requirement already satisfied: numpy in /Users/austin/anaconda/lib/python3.5/site-packages\n",
      "\u001b[31mDEPRECATION: The default format will switch to columns in the future. You can use --format=(legacy|columns) (or define a format=(legacy|columns) in your pip.conf under the [list] section) to disable this warning.\u001b[0m\n",
      "pandas (0.19.1)\n"
     ]
    }
   ],
   "source": [
    "!pip install numpy\n",
    "!pip list | grep pandas"
   ]
  },
  {
   "cell_type": "markdown",
   "metadata": {},
   "source": [
    "**18. Using LaTeX for formulas**  \n",
    "rendered with MathJax  \n",
    "  \n",
    "$$ P(A \\mid B) = \\frac{P(B \\mid A) \\, P(A)}{P(B)} $$"
   ]
  },
  {
   "cell_type": "markdown",
   "metadata": {},
   "source": [
    "**19. Run code from a different kernel in a notebook**  \n",
    "If you want to, you can combine code from multiple kernels into one notebook.  \n",
    "  \n",
    "Just use IPython Magics with the name of your kernel at the start of each cell that you want to use that Kernel for:  \n",
    "  \n",
    "%%bash  \n",
    "%%HTML  \n",
    "%%python2  \n",
    "%%python3  \n",
    "%%ruby  \n",
    "%%perl  "
   ]
  },
  {
   "cell_type": "code",
   "execution_count": 22,
   "metadata": {
    "collapsed": false
   },
   "outputs": [
    {
     "name": "stdout",
     "output_type": "stream",
     "text": [
      "i is 1\n",
      "i is 2\n",
      "i is 3\n",
      "i is 4\n",
      "i is 5\n"
     ]
    }
   ],
   "source": [
    "%%bash\n",
    "for i in {1..5}\n",
    "do\n",
    "   echo \"i is $i\"\n",
    "done"
   ]
  },
  {
   "cell_type": "markdown",
   "metadata": {},
   "source": [
    "**20. Install other kernels for Jupyter**  \n",
    "One of the nice features about Jupyter is ability to run kernels for different languages. As an example, here is how to get an R kernel running.  \n",
    "  \n",
    "**Easy Option: Installing the R Kernel Using Anaconda**  \n",
    "If you used Anaconda to set up your environment, getting R working is extremely easy. Just run the below in your terminal:  "
   ]
  },
  {
   "cell_type": "code",
   "execution_count": 46,
   "metadata": {
    "collapsed": false
   },
   "outputs": [
    {
     "name": "stdout",
     "output_type": "stream",
     "text": [
      "Fetching package metadata ...........\n",
      "Solving package specifications: .\n",
      "\n",
      "# All requested packages already installed.\n",
      "# packages in environment at /Users/austin/anaconda:\n",
      "#\n",
      "r-essentials              1.5.1                         0    r\n"
     ]
    }
   ],
   "source": [
    "%%bash\n",
    "conda install -c r r-essentials"
   ]
  },
  {
   "cell_type": "markdown",
   "metadata": {},
   "source": [
    "**21. Running R and Python in the same notebook**"
   ]
  },
  {
   "cell_type": "code",
   "execution_count": 25,
   "metadata": {
    "collapsed": false
   },
   "outputs": [
    {
     "name": "stdout",
     "output_type": "stream",
     "text": [
      "Collecting rpy2\n",
      "  Downloading rpy2-2.8.5.tar.gz (184kB)\n",
      "Requirement already satisfied: six in /Users/austin/anaconda/lib/python3.5/site-packages (from rpy2)\n",
      "Building wheels for collected packages: rpy2\n",
      "  Running setup.py bdist_wheel for rpy2: started\n",
      "  Running setup.py bdist_wheel for rpy2: finished with status 'done'\n",
      "  Stored in directory: /Users/austin/Library/Caches/pip/wheels/23/9e/ee/0e5f6a00aafef9935d40ebf7657278220139f0101321e30d07\n",
      "Successfully built rpy2\n",
      "Installing collected packages: rpy2\n",
      "Successfully installed rpy2-2.8.5\n"
     ]
    }
   ],
   "source": [
    "%%bash\n",
    "pip install rpy2"
   ]
  },
  {
   "cell_type": "markdown",
   "metadata": {},
   "source": [
    "You can then use the two languages together, and even pass variables inbetween:\n",
    "\n"
   ]
  },
  {
   "cell_type": "code",
   "execution_count": 42,
   "metadata": {
    "collapsed": true
   },
   "outputs": [
    {
     "ename": "ImportError",
     "evalue": "dlopen(/Users/austin/anaconda/lib/python3.5/site-packages/rpy2/rinterface/_rinterface.cpython-35m-darwin.so, 2): Library not loaded: libicuuc.54.dylib\n  Referenced from: /Users/austin/anaconda/lib/python3.5/site-packages/rpy2/rinterface/_rinterface.cpython-35m-darwin.so\n  Reason: image not found",
     "output_type": "error",
     "traceback": [
      "\u001b[0;31m---------------------------------------------------------------------------\u001b[0m",
      "\u001b[0;31mImportError\u001b[0m                               Traceback (most recent call last)",
      "\u001b[0;32m<ipython-input-42-a69f80d0128e>\u001b[0m in \u001b[0;36m<module>\u001b[0;34m()\u001b[0m\n\u001b[0;32m----> 1\u001b[0;31m \u001b[0mget_ipython\u001b[0m\u001b[0;34m(\u001b[0m\u001b[0;34m)\u001b[0m\u001b[0;34m.\u001b[0m\u001b[0mmagic\u001b[0m\u001b[0;34m(\u001b[0m\u001b[0;34m'load_ext rpy2.ipython'\u001b[0m\u001b[0;34m)\u001b[0m\u001b[0;34m\u001b[0m\u001b[0m\n\u001b[0m",
      "\u001b[0;32m/Users/austin/anaconda/lib/python3.5/site-packages/IPython/core/interactiveshell.py\u001b[0m in \u001b[0;36mmagic\u001b[0;34m(self, arg_s)\u001b[0m\n\u001b[1;32m   2156\u001b[0m         \u001b[0mmagic_name\u001b[0m\u001b[0;34m,\u001b[0m \u001b[0m_\u001b[0m\u001b[0;34m,\u001b[0m \u001b[0mmagic_arg_s\u001b[0m \u001b[0;34m=\u001b[0m \u001b[0marg_s\u001b[0m\u001b[0;34m.\u001b[0m\u001b[0mpartition\u001b[0m\u001b[0;34m(\u001b[0m\u001b[0;34m' '\u001b[0m\u001b[0;34m)\u001b[0m\u001b[0;34m\u001b[0m\u001b[0m\n\u001b[1;32m   2157\u001b[0m         \u001b[0mmagic_name\u001b[0m \u001b[0;34m=\u001b[0m \u001b[0mmagic_name\u001b[0m\u001b[0;34m.\u001b[0m\u001b[0mlstrip\u001b[0m\u001b[0;34m(\u001b[0m\u001b[0mprefilter\u001b[0m\u001b[0;34m.\u001b[0m\u001b[0mESC_MAGIC\u001b[0m\u001b[0;34m)\u001b[0m\u001b[0;34m\u001b[0m\u001b[0m\n\u001b[0;32m-> 2158\u001b[0;31m         \u001b[0;32mreturn\u001b[0m \u001b[0mself\u001b[0m\u001b[0;34m.\u001b[0m\u001b[0mrun_line_magic\u001b[0m\u001b[0;34m(\u001b[0m\u001b[0mmagic_name\u001b[0m\u001b[0;34m,\u001b[0m \u001b[0mmagic_arg_s\u001b[0m\u001b[0;34m)\u001b[0m\u001b[0;34m\u001b[0m\u001b[0m\n\u001b[0m\u001b[1;32m   2159\u001b[0m \u001b[0;34m\u001b[0m\u001b[0m\n\u001b[1;32m   2160\u001b[0m     \u001b[0;31m#-------------------------------------------------------------------------\u001b[0m\u001b[0;34m\u001b[0m\u001b[0;34m\u001b[0m\u001b[0m\n",
      "\u001b[0;32m/Users/austin/anaconda/lib/python3.5/site-packages/IPython/core/interactiveshell.py\u001b[0m in \u001b[0;36mrun_line_magic\u001b[0;34m(self, magic_name, line)\u001b[0m\n\u001b[1;32m   2077\u001b[0m                 \u001b[0mkwargs\u001b[0m\u001b[0;34m[\u001b[0m\u001b[0;34m'local_ns'\u001b[0m\u001b[0;34m]\u001b[0m \u001b[0;34m=\u001b[0m \u001b[0msys\u001b[0m\u001b[0;34m.\u001b[0m\u001b[0m_getframe\u001b[0m\u001b[0;34m(\u001b[0m\u001b[0mstack_depth\u001b[0m\u001b[0;34m)\u001b[0m\u001b[0;34m.\u001b[0m\u001b[0mf_locals\u001b[0m\u001b[0;34m\u001b[0m\u001b[0m\n\u001b[1;32m   2078\u001b[0m             \u001b[0;32mwith\u001b[0m \u001b[0mself\u001b[0m\u001b[0;34m.\u001b[0m\u001b[0mbuiltin_trap\u001b[0m\u001b[0;34m:\u001b[0m\u001b[0;34m\u001b[0m\u001b[0m\n\u001b[0;32m-> 2079\u001b[0;31m                 \u001b[0mresult\u001b[0m \u001b[0;34m=\u001b[0m \u001b[0mfn\u001b[0m\u001b[0;34m(\u001b[0m\u001b[0;34m*\u001b[0m\u001b[0margs\u001b[0m\u001b[0;34m,\u001b[0m\u001b[0;34m**\u001b[0m\u001b[0mkwargs\u001b[0m\u001b[0;34m)\u001b[0m\u001b[0;34m\u001b[0m\u001b[0m\n\u001b[0m\u001b[1;32m   2080\u001b[0m             \u001b[0;32mreturn\u001b[0m \u001b[0mresult\u001b[0m\u001b[0;34m\u001b[0m\u001b[0m\n\u001b[1;32m   2081\u001b[0m \u001b[0;34m\u001b[0m\u001b[0m\n",
      "\u001b[0;32m<decorator-gen-62>\u001b[0m in \u001b[0;36mload_ext\u001b[0;34m(self, module_str)\u001b[0m\n",
      "\u001b[0;32m/Users/austin/anaconda/lib/python3.5/site-packages/IPython/core/magic.py\u001b[0m in \u001b[0;36m<lambda>\u001b[0;34m(f, *a, **k)\u001b[0m\n\u001b[1;32m    186\u001b[0m     \u001b[0;31m# but it's overkill for just that one bit of state.\u001b[0m\u001b[0;34m\u001b[0m\u001b[0;34m\u001b[0m\u001b[0m\n\u001b[1;32m    187\u001b[0m     \u001b[0;32mdef\u001b[0m \u001b[0mmagic_deco\u001b[0m\u001b[0;34m(\u001b[0m\u001b[0marg\u001b[0m\u001b[0;34m)\u001b[0m\u001b[0;34m:\u001b[0m\u001b[0;34m\u001b[0m\u001b[0m\n\u001b[0;32m--> 188\u001b[0;31m         \u001b[0mcall\u001b[0m \u001b[0;34m=\u001b[0m \u001b[0;32mlambda\u001b[0m \u001b[0mf\u001b[0m\u001b[0;34m,\u001b[0m \u001b[0;34m*\u001b[0m\u001b[0ma\u001b[0m\u001b[0;34m,\u001b[0m \u001b[0;34m**\u001b[0m\u001b[0mk\u001b[0m\u001b[0;34m:\u001b[0m \u001b[0mf\u001b[0m\u001b[0;34m(\u001b[0m\u001b[0;34m*\u001b[0m\u001b[0ma\u001b[0m\u001b[0;34m,\u001b[0m \u001b[0;34m**\u001b[0m\u001b[0mk\u001b[0m\u001b[0;34m)\u001b[0m\u001b[0;34m\u001b[0m\u001b[0m\n\u001b[0m\u001b[1;32m    189\u001b[0m \u001b[0;34m\u001b[0m\u001b[0m\n\u001b[1;32m    190\u001b[0m         \u001b[0;32mif\u001b[0m \u001b[0mcallable\u001b[0m\u001b[0;34m(\u001b[0m\u001b[0marg\u001b[0m\u001b[0;34m)\u001b[0m\u001b[0;34m:\u001b[0m\u001b[0;34m\u001b[0m\u001b[0m\n",
      "\u001b[0;32m/Users/austin/anaconda/lib/python3.5/site-packages/IPython/core/magics/extension.py\u001b[0m in \u001b[0;36mload_ext\u001b[0;34m(self, module_str)\u001b[0m\n\u001b[1;32m     35\u001b[0m         \u001b[0;32mif\u001b[0m \u001b[0;32mnot\u001b[0m \u001b[0mmodule_str\u001b[0m\u001b[0;34m:\u001b[0m\u001b[0;34m\u001b[0m\u001b[0m\n\u001b[1;32m     36\u001b[0m             \u001b[0;32mraise\u001b[0m \u001b[0mUsageError\u001b[0m\u001b[0;34m(\u001b[0m\u001b[0;34m'Missing module name.'\u001b[0m\u001b[0;34m)\u001b[0m\u001b[0;34m\u001b[0m\u001b[0m\n\u001b[0;32m---> 37\u001b[0;31m         \u001b[0mres\u001b[0m \u001b[0;34m=\u001b[0m \u001b[0mself\u001b[0m\u001b[0;34m.\u001b[0m\u001b[0mshell\u001b[0m\u001b[0;34m.\u001b[0m\u001b[0mextension_manager\u001b[0m\u001b[0;34m.\u001b[0m\u001b[0mload_extension\u001b[0m\u001b[0;34m(\u001b[0m\u001b[0mmodule_str\u001b[0m\u001b[0;34m)\u001b[0m\u001b[0;34m\u001b[0m\u001b[0m\n\u001b[0m\u001b[1;32m     38\u001b[0m \u001b[0;34m\u001b[0m\u001b[0m\n\u001b[1;32m     39\u001b[0m         \u001b[0;32mif\u001b[0m \u001b[0mres\u001b[0m \u001b[0;34m==\u001b[0m \u001b[0;34m'already loaded'\u001b[0m\u001b[0;34m:\u001b[0m\u001b[0;34m\u001b[0m\u001b[0m\n",
      "\u001b[0;32m/Users/austin/anaconda/lib/python3.5/site-packages/IPython/core/extensions.py\u001b[0m in \u001b[0;36mload_extension\u001b[0;34m(self, module_str)\u001b[0m\n\u001b[1;32m     81\u001b[0m             \u001b[0;32mif\u001b[0m \u001b[0mmodule_str\u001b[0m \u001b[0;32mnot\u001b[0m \u001b[0;32min\u001b[0m \u001b[0msys\u001b[0m\u001b[0;34m.\u001b[0m\u001b[0mmodules\u001b[0m\u001b[0;34m:\u001b[0m\u001b[0;34m\u001b[0m\u001b[0m\n\u001b[1;32m     82\u001b[0m                 \u001b[0;32mwith\u001b[0m \u001b[0mprepended_to_syspath\u001b[0m\u001b[0;34m(\u001b[0m\u001b[0mself\u001b[0m\u001b[0;34m.\u001b[0m\u001b[0mipython_extension_dir\u001b[0m\u001b[0;34m)\u001b[0m\u001b[0;34m:\u001b[0m\u001b[0;34m\u001b[0m\u001b[0m\n\u001b[0;32m---> 83\u001b[0;31m                     \u001b[0m__import__\u001b[0m\u001b[0;34m(\u001b[0m\u001b[0mmodule_str\u001b[0m\u001b[0;34m)\u001b[0m\u001b[0;34m\u001b[0m\u001b[0m\n\u001b[0m\u001b[1;32m     84\u001b[0m             \u001b[0mmod\u001b[0m \u001b[0;34m=\u001b[0m \u001b[0msys\u001b[0m\u001b[0;34m.\u001b[0m\u001b[0mmodules\u001b[0m\u001b[0;34m[\u001b[0m\u001b[0mmodule_str\u001b[0m\u001b[0;34m]\u001b[0m\u001b[0;34m\u001b[0m\u001b[0m\n\u001b[1;32m     85\u001b[0m             \u001b[0;32mif\u001b[0m \u001b[0mself\u001b[0m\u001b[0;34m.\u001b[0m\u001b[0m_call_load_ipython_extension\u001b[0m\u001b[0;34m(\u001b[0m\u001b[0mmod\u001b[0m\u001b[0;34m)\u001b[0m\u001b[0;34m:\u001b[0m\u001b[0;34m\u001b[0m\u001b[0m\n",
      "\u001b[0;32m/Users/austin/anaconda/lib/python3.5/site-packages/rpy2/ipython/__init__.py\u001b[0m in \u001b[0;36m<module>\u001b[0;34m()\u001b[0m\n\u001b[0;32m----> 1\u001b[0;31m \u001b[0;32mfrom\u001b[0m \u001b[0;34m.\u001b[0m\u001b[0mrmagic\u001b[0m \u001b[0;32mimport\u001b[0m \u001b[0mload_ipython_extension\u001b[0m\u001b[0;34m\u001b[0m\u001b[0m\n\u001b[0m",
      "\u001b[0;32m/Users/austin/anaconda/lib/python3.5/site-packages/rpy2/ipython/rmagic.py\u001b[0m in \u001b[0;36m<module>\u001b[0;34m()\u001b[0m\n\u001b[1;32m     50\u001b[0m \u001b[0;31m# numpy and rpy2 imports\u001b[0m\u001b[0;34m\u001b[0m\u001b[0;34m\u001b[0m\u001b[0m\n\u001b[1;32m     51\u001b[0m \u001b[0;34m\u001b[0m\u001b[0m\n\u001b[0;32m---> 52\u001b[0;31m \u001b[0;32mimport\u001b[0m \u001b[0mrpy2\u001b[0m\u001b[0;34m.\u001b[0m\u001b[0mrinterface\u001b[0m \u001b[0;32mas\u001b[0m \u001b[0mri\u001b[0m\u001b[0;34m\u001b[0m\u001b[0m\n\u001b[0m\u001b[1;32m     53\u001b[0m \u001b[0;32mimport\u001b[0m \u001b[0mrpy2\u001b[0m\u001b[0;34m.\u001b[0m\u001b[0mrobjects\u001b[0m \u001b[0;32mas\u001b[0m \u001b[0mro\u001b[0m\u001b[0;34m\u001b[0m\u001b[0m\n\u001b[1;32m     54\u001b[0m \u001b[0;32mimport\u001b[0m \u001b[0mrpy2\u001b[0m\u001b[0;34m.\u001b[0m\u001b[0mrobjects\u001b[0m\u001b[0;34m.\u001b[0m\u001b[0mpackages\u001b[0m \u001b[0;32mas\u001b[0m \u001b[0mrpacks\u001b[0m\u001b[0;34m\u001b[0m\u001b[0m\n",
      "\u001b[0;32m/Users/austin/anaconda/lib/python3.5/site-packages/rpy2/rinterface/__init__.py\u001b[0m in \u001b[0;36m<module>\u001b[0;34m()\u001b[0m\n\u001b[1;32m     90\u001b[0m \u001b[0;32mdel\u001b[0m\u001b[0;34m(\u001b[0m\u001b[0mos\u001b[0m\u001b[0;34m)\u001b[0m\u001b[0;34m\u001b[0m\u001b[0m\n\u001b[1;32m     91\u001b[0m \u001b[0;34m\u001b[0m\u001b[0m\n\u001b[0;32m---> 92\u001b[0;31m from rpy2.rinterface._rinterface import (baseenv,\n\u001b[0m\u001b[1;32m     93\u001b[0m                                          \u001b[0memptyenv\u001b[0m\u001b[0;34m,\u001b[0m\u001b[0;34m\u001b[0m\u001b[0m\n\u001b[1;32m     94\u001b[0m                                          \u001b[0mendr\u001b[0m\u001b[0;34m,\u001b[0m\u001b[0;34m\u001b[0m\u001b[0m\n",
      "\u001b[0;31mImportError\u001b[0m: dlopen(/Users/austin/anaconda/lib/python3.5/site-packages/rpy2/rinterface/_rinterface.cpython-35m-darwin.so, 2): Library not loaded: libicuuc.54.dylib\n  Referenced from: /Users/austin/anaconda/lib/python3.5/site-packages/rpy2/rinterface/_rinterface.cpython-35m-darwin.so\n  Reason: image not found"
     ]
    }
   ],
   "source": [
    "%load_ext rpy2.ipython"
   ]
  },
  {
   "cell_type": "code",
   "execution_count": 43,
   "metadata": {
    "collapsed": true
   },
   "outputs": [
    {
     "name": "stderr",
     "output_type": "stream",
     "text": [
      "ERROR:root:Line magic function `%R` not found.\n"
     ]
    }
   ],
   "source": [
    "%R require(ggplot2)"
   ]
  },
  {
   "cell_type": "code",
   "execution_count": 44,
   "metadata": {
    "collapsed": true
   },
   "outputs": [],
   "source": [
    "import pandas as pd\n",
    "df = pd.DataFrame({\n",
    "        'Letter': ['a', 'a', 'a', 'b', 'b', 'b', 'c', 'c', 'c'],\n",
    "        'X': [4, 3, 5, 2, 1, 7, 7, 5, 9],\n",
    "        'Y': [0, 4, 3, 6, 7, 10, 11, 9, 13],\n",
    "        'Z': [1, 2, 3, 1, 2, 3, 1, 2, 3]\n",
    "    })"
   ]
  },
  {
   "cell_type": "code",
   "execution_count": 45,
   "metadata": {
    "collapsed": true
   },
   "outputs": [
    {
     "name": "stderr",
     "output_type": "stream",
     "text": [
      "ERROR:root:Cell magic `%%R` not found.\n"
     ]
    }
   ],
   "source": [
    "%%R -i df\n",
    "ggplot(data = df) + geom_point(aes(x = X, y= Y, color = Letter, size = Z))"
   ]
  },
  {
   "cell_type": "markdown",
   "metadata": {},
   "source": [
    "**22. Writing functions in other languages (Like C!)**  \n",
    "Sometimes the speed of numpy is not enough and I need to write some fast code. In principle, you can compile function in the dynamic library and write python wrappers…  \n",
    "  \n",
    "But it is much better when this boring part is done for you, right?  \n",
    "  \n",
    "You can write functions in cython or fortran and use those directly from python code.   \n",
    "  \n",
    "First you’ll need to install:  "
   ]
  },
  {
   "cell_type": "code",
   "execution_count": 33,
   "metadata": {
    "collapsed": false
   },
   "outputs": [
    {
     "name": "stdout",
     "output_type": "stream",
     "text": [
      "Requirement already satisfied: cython in /Users/austin/anaconda/lib/python3.5/site-packages\n",
      "Collecting fortran-magic\n",
      "  Downloading fortran_magic-0.7-py3-none-any.whl\n",
      "Requirement already satisfied: numpy in /Users/austin/anaconda/lib/python3.5/site-packages (from fortran-magic)\n",
      "Requirement already satisfied: ipython in /Users/austin/anaconda/lib/python3.5/site-packages (from fortran-magic)\n",
      "Installing collected packages: fortran-magic\n",
      "Successfully installed fortran-magic-0.7\n"
     ]
    }
   ],
   "source": [
    "!pip install cython fortran-magic "
   ]
  },
  {
   "cell_type": "code",
   "execution_count": 34,
   "metadata": {
    "collapsed": true
   },
   "outputs": [],
   "source": [
    "%load_ext Cython"
   ]
  },
  {
   "cell_type": "code",
   "execution_count": 35,
   "metadata": {
    "collapsed": true
   },
   "outputs": [],
   "source": [
    "%%cython\n",
    "def myltiply_by_2(float x):\n",
    "    return 2.0 * x"
   ]
  },
  {
   "cell_type": "code",
   "execution_count": 38,
   "metadata": {
    "collapsed": false
   },
   "outputs": [
    {
     "data": {
      "text/plain": [
       "46.0"
      ]
     },
     "execution_count": 38,
     "metadata": {},
     "output_type": "execute_result"
    }
   ],
   "source": [
    "# running C code\n",
    "myltiply_by_2(23.)"
   ]
  },
  {
   "cell_type": "code",
   "execution_count": 39,
   "metadata": {
    "collapsed": true
   },
   "outputs": [
    {
     "name": "stderr",
     "output_type": "stream",
     "text": [
      "/Users/austin/anaconda/lib/python3.5/site-packages/IPython/utils/path.py:265: UserWarning: get_ipython_cache_dir has moved to the IPython.paths module\n",
      "  warn(\"get_ipython_cache_dir has moved to the IPython.paths module\")\n"
     ]
    },
    {
     "data": {
      "application/javascript": [
       "$.getScript(\"https://raw.github.com/marijnh/CodeMirror/master/mode/fortran/fortran.js\", function () {\n",
       "IPython.config.cell_magic_highlight['magic_fortran'] = {'reg':[/^%%fortran/]};});\n"
      ]
     },
     "metadata": {},
     "output_type": "display_data"
    }
   ],
   "source": [
    "%load_ext fortranmagic"
   ]
  },
  {
   "cell_type": "code",
   "execution_count": 40,
   "metadata": {
    "collapsed": true
   },
   "outputs": [
    {
     "ename": "RuntimeError",
     "evalue": "f2py failed, see output",
     "output_type": "error",
     "traceback": [
      "\u001b[0;31m---------------------------------------------------------------------------\u001b[0m",
      "\u001b[0;31mRuntimeError\u001b[0m                              Traceback (most recent call last)",
      "\u001b[0;32m<ipython-input-40-4d1db620daf1>\u001b[0m in \u001b[0;36m<module>\u001b[0;34m()\u001b[0m\n\u001b[0;32m----> 1\u001b[0;31m \u001b[0mget_ipython\u001b[0m\u001b[0;34m(\u001b[0m\u001b[0;34m)\u001b[0m\u001b[0;34m.\u001b[0m\u001b[0mrun_cell_magic\u001b[0m\u001b[0;34m(\u001b[0m\u001b[0;34m'fortran'\u001b[0m\u001b[0;34m,\u001b[0m \u001b[0;34m''\u001b[0m\u001b[0;34m,\u001b[0m \u001b[0;34m'subroutine compute_fortran(x, y, z)\\n    real, intent(in) :: x(:), y(:)\\n    real, intent(out) :: z(size(x, 1))\\n\\n    z = sin(x + y)\\n\\nend subroutine compute_fortran'\u001b[0m\u001b[0;34m)\u001b[0m\u001b[0;34m\u001b[0m\u001b[0m\n\u001b[0m",
      "\u001b[0;32m/Users/austin/anaconda/lib/python3.5/site-packages/IPython/core/interactiveshell.py\u001b[0m in \u001b[0;36mrun_cell_magic\u001b[0;34m(self, magic_name, line, cell)\u001b[0m\n\u001b[1;32m   2113\u001b[0m             \u001b[0mmagic_arg_s\u001b[0m \u001b[0;34m=\u001b[0m \u001b[0mself\u001b[0m\u001b[0;34m.\u001b[0m\u001b[0mvar_expand\u001b[0m\u001b[0;34m(\u001b[0m\u001b[0mline\u001b[0m\u001b[0;34m,\u001b[0m \u001b[0mstack_depth\u001b[0m\u001b[0;34m)\u001b[0m\u001b[0;34m\u001b[0m\u001b[0m\n\u001b[1;32m   2114\u001b[0m             \u001b[0;32mwith\u001b[0m \u001b[0mself\u001b[0m\u001b[0;34m.\u001b[0m\u001b[0mbuiltin_trap\u001b[0m\u001b[0;34m:\u001b[0m\u001b[0;34m\u001b[0m\u001b[0m\n\u001b[0;32m-> 2115\u001b[0;31m                 \u001b[0mresult\u001b[0m \u001b[0;34m=\u001b[0m \u001b[0mfn\u001b[0m\u001b[0;34m(\u001b[0m\u001b[0mmagic_arg_s\u001b[0m\u001b[0;34m,\u001b[0m \u001b[0mcell\u001b[0m\u001b[0;34m)\u001b[0m\u001b[0;34m\u001b[0m\u001b[0m\n\u001b[0m\u001b[1;32m   2116\u001b[0m             \u001b[0;32mreturn\u001b[0m \u001b[0mresult\u001b[0m\u001b[0;34m\u001b[0m\u001b[0m\n\u001b[1;32m   2117\u001b[0m \u001b[0;34m\u001b[0m\u001b[0m\n",
      "\u001b[0;32m<decorator-gen-127>\u001b[0m in \u001b[0;36mfortran\u001b[0;34m(self, line, cell)\u001b[0m\n",
      "\u001b[0;32m/Users/austin/anaconda/lib/python3.5/site-packages/IPython/core/magic.py\u001b[0m in \u001b[0;36m<lambda>\u001b[0;34m(f, *a, **k)\u001b[0m\n\u001b[1;32m    186\u001b[0m     \u001b[0;31m# but it's overkill for just that one bit of state.\u001b[0m\u001b[0;34m\u001b[0m\u001b[0;34m\u001b[0m\u001b[0m\n\u001b[1;32m    187\u001b[0m     \u001b[0;32mdef\u001b[0m \u001b[0mmagic_deco\u001b[0m\u001b[0;34m(\u001b[0m\u001b[0marg\u001b[0m\u001b[0;34m)\u001b[0m\u001b[0;34m:\u001b[0m\u001b[0;34m\u001b[0m\u001b[0m\n\u001b[0;32m--> 188\u001b[0;31m         \u001b[0mcall\u001b[0m \u001b[0;34m=\u001b[0m \u001b[0;32mlambda\u001b[0m \u001b[0mf\u001b[0m\u001b[0;34m,\u001b[0m \u001b[0;34m*\u001b[0m\u001b[0ma\u001b[0m\u001b[0;34m,\u001b[0m \u001b[0;34m**\u001b[0m\u001b[0mk\u001b[0m\u001b[0;34m:\u001b[0m \u001b[0mf\u001b[0m\u001b[0;34m(\u001b[0m\u001b[0;34m*\u001b[0m\u001b[0ma\u001b[0m\u001b[0;34m,\u001b[0m \u001b[0;34m**\u001b[0m\u001b[0mk\u001b[0m\u001b[0;34m)\u001b[0m\u001b[0;34m\u001b[0m\u001b[0m\n\u001b[0m\u001b[1;32m    189\u001b[0m \u001b[0;34m\u001b[0m\u001b[0m\n\u001b[1;32m    190\u001b[0m         \u001b[0;32mif\u001b[0m \u001b[0mcallable\u001b[0m\u001b[0;34m(\u001b[0m\u001b[0marg\u001b[0m\u001b[0;34m)\u001b[0m\u001b[0;34m:\u001b[0m\u001b[0;34m\u001b[0m\u001b[0m\n",
      "\u001b[0;32m/Users/austin/anaconda/lib/python3.5/site-packages/fortranmagic.py\u001b[0m in \u001b[0;36mfortran\u001b[0;34m(self, line, cell)\u001b[0m\n\u001b[1;32m    377\u001b[0m                              verbosity=args.verbosity)\n\u001b[1;32m    378\u001b[0m         \u001b[0;32mif\u001b[0m \u001b[0mres\u001b[0m \u001b[0;34m!=\u001b[0m \u001b[0;36m0\u001b[0m\u001b[0;34m:\u001b[0m\u001b[0;34m\u001b[0m\u001b[0m\n\u001b[0;32m--> 379\u001b[0;31m            \u001b[0;32mraise\u001b[0m \u001b[0mRuntimeError\u001b[0m\u001b[0;34m(\u001b[0m\u001b[0;34m\"f2py failed, see output\"\u001b[0m\u001b[0;34m)\u001b[0m\u001b[0;34m\u001b[0m\u001b[0m\n\u001b[0m\u001b[1;32m    380\u001b[0m \u001b[0;34m\u001b[0m\u001b[0m\n\u001b[1;32m    381\u001b[0m         \u001b[0mself\u001b[0m\u001b[0;34m.\u001b[0m\u001b[0m_code_cache\u001b[0m\u001b[0;34m[\u001b[0m\u001b[0mkey\u001b[0m\u001b[0;34m]\u001b[0m \u001b[0;34m=\u001b[0m \u001b[0mmodule_name\u001b[0m\u001b[0;34m\u001b[0m\u001b[0m\n",
      "\u001b[0;31mRuntimeError\u001b[0m: f2py failed, see output"
     ]
    }
   ],
   "source": [
    "%%fortran\n",
    "subroutine compute_fortran(x, y, z)\n",
    "    real, intent(in) :: x(:), y(:)\n",
    "    real, intent(out) :: z(size(x, 1))\n",
    "\n",
    "    z = sin(x + y)\n",
    "\n",
    "end subroutine compute_fortran"
   ]
  },
  {
   "cell_type": "code",
   "execution_count": 41,
   "metadata": {
    "collapsed": true
   },
   "outputs": [
    {
     "ename": "NameError",
     "evalue": "name 'compute_fortran' is not defined",
     "output_type": "error",
     "traceback": [
      "\u001b[0;31m---------------------------------------------------------------------------\u001b[0m",
      "\u001b[0;31mNameError\u001b[0m                                 Traceback (most recent call last)",
      "\u001b[0;32m<ipython-input-41-137157058749>\u001b[0m in \u001b[0;36m<module>\u001b[0;34m()\u001b[0m\n\u001b[0;32m----> 1\u001b[0;31m \u001b[0mcompute_fortran\u001b[0m\u001b[0;34m(\u001b[0m\u001b[0;34m[\u001b[0m\u001b[0;36m1\u001b[0m\u001b[0;34m,\u001b[0m \u001b[0;36m2\u001b[0m\u001b[0;34m,\u001b[0m \u001b[0;36m3\u001b[0m\u001b[0;34m]\u001b[0m\u001b[0;34m,\u001b[0m \u001b[0;34m[\u001b[0m\u001b[0;36m4\u001b[0m\u001b[0;34m,\u001b[0m \u001b[0;36m5\u001b[0m\u001b[0;34m,\u001b[0m \u001b[0;36m6\u001b[0m\u001b[0;34m]\u001b[0m\u001b[0;34m)\u001b[0m\u001b[0;34m\u001b[0m\u001b[0m\n\u001b[0m",
      "\u001b[0;31mNameError\u001b[0m: name 'compute_fortran' is not defined"
     ]
    }
   ],
   "source": [
    "compute_fortran([1, 2, 3], [4, 5, 6])"
   ]
  },
  {
   "cell_type": "markdown",
   "metadata": {},
   "source": [
    "**23. Multicursor support**  \n",
    "Jupyter supports mutiple cursors, similar to Sublime Text. Simply click and drag your mouse while holding down Alt."
   ]
  },
  {
   "cell_type": "code",
   "execution_count": 48,
   "metadata": {
    "collapsed": false
   },
   "outputs": [],
   "source": [
    "# Try it on this to add or remove all commas at once\n",
    "x = [\n",
    "    'one',\n",
    "    'two',\n",
    "    'three',\n",
    "]"
   ]
  },
  {
   "cell_type": "markdown",
   "metadata": {},
   "source": [
    "**24. Jupyter-contrib extensions**  \n",
    "Jupyter-contrib extensions is a family of extensions which give Jupyter a lot more functionality, including e.g. jupyter spell-checker and code-formatter.  \n",
    "  \n",
    "The following commands will install the extensions, as well as a menu based configurator that will help you browse and enable the extensions from the main Jupyter notebook screen.  "
   ]
  },
  {
   "cell_type": "code",
   "execution_count": 49,
   "metadata": {
    "collapsed": false
   },
   "outputs": [
    {
     "name": "stdout",
     "output_type": "stream",
     "text": [
      "Collecting https://github.com/ipython-contrib/jupyter_contrib_nbextensions/tarball/master\n",
      "  Downloading https://github.com/ipython-contrib/jupyter_contrib_nbextensions/tarball/master (19.6MB)\n",
      "\u001b[K    100% |████████████████████████████████| 19.6MB 40kB/s \n",
      "\u001b[?25hRequirement already satisfied: ipython_genutils in /Users/austin/anaconda/lib/python3.5/site-packages (from jupyter-contrib-nbextensions==0.2.3)\n",
      "Collecting jupyter_contrib_core>=0.3 (from jupyter-contrib-nbextensions==0.2.3)\n",
      "  Downloading jupyter_contrib_core-0.3.0-py2.py3-none-any.whl\n",
      "Requirement already satisfied: jupyter_core in /Users/austin/anaconda/lib/python3.5/site-packages (from jupyter-contrib-nbextensions==0.2.3)\n",
      "Collecting jupyter_highlight_selected_word>=0.0.5 (from jupyter-contrib-nbextensions==0.2.3)\n",
      "  Downloading jupyter_highlight_selected_word-0.0.7-py2.py3-none-any.whl\n",
      "Collecting jupyter_latex_envs>=1.3.6 (from jupyter-contrib-nbextensions==0.2.3)\n",
      "  Downloading jupyter_latex_envs-1.3.6.tar.gz (658kB)\n",
      "\u001b[K    100% |████████████████████████████████| 665kB 896kB/s \n",
      "\u001b[?25hCollecting jupyter_nbextensions_configurator (from jupyter-contrib-nbextensions==0.2.3)\n",
      "  Downloading jupyter_nbextensions_configurator-0.2.3-py2.py3-none-any.whl (463kB)\n",
      "\u001b[K    100% |████████████████████████████████| 471kB 1.1MB/s \n",
      "\u001b[?25hRequirement already satisfied: nbconvert in /Users/austin/anaconda/lib/python3.5/site-packages (from jupyter-contrib-nbextensions==0.2.3)\n",
      "Requirement already satisfied: notebook>=4.0 in /Users/austin/anaconda/lib/python3.5/site-packages (from jupyter-contrib-nbextensions==0.2.3)\n",
      "Requirement already satisfied: psutil>=2.2.1 in /Users/austin/anaconda/lib/python3.5/site-packages (from jupyter-contrib-nbextensions==0.2.3)\n",
      "Requirement already satisfied: pyyaml in /Users/austin/anaconda/lib/python3.5/site-packages (from jupyter-contrib-nbextensions==0.2.3)\n",
      "Requirement already satisfied: tornado in /Users/austin/anaconda/lib/python3.5/site-packages (from jupyter-contrib-nbextensions==0.2.3)\n",
      "Requirement already satisfied: traitlets in /Users/austin/anaconda/lib/python3.5/site-packages (from jupyter-contrib-nbextensions==0.2.3)\n",
      "Requirement already satisfied: setuptools in /Users/austin/anaconda/lib/python3.5/site-packages/setuptools-27.2.0-py3.5.egg (from jupyter_contrib_core>=0.3->jupyter-contrib-nbextensions==0.2.3)\n",
      "Building wheels for collected packages: jupyter-latex-envs\n",
      "  Running setup.py bdist_wheel for jupyter-latex-envs ... \u001b[?25l-\b \b\\\b \bdone\n",
      "\u001b[?25h  Stored in directory: /Users/austin/Library/Caches/pip/wheels/cd/7c/18/a4804b43d2c907b802beb0fc9432f03ef16588335266fc45ec\n",
      "Successfully built jupyter-latex-envs\n",
      "Installing collected packages: jupyter-contrib-core, jupyter-highlight-selected-word, jupyter-latex-envs, jupyter-nbextensions-configurator, jupyter-contrib-nbextensions\n",
      "  Running setup.py install for jupyter-contrib-nbextensions ... \u001b[?25l-\b \b\\\b \b|\b \b/\b \b-\b \bdone\n",
      "\u001b[?25hSuccessfully installed jupyter-contrib-core-0.3.0 jupyter-contrib-nbextensions-0.2.3 jupyter-highlight-selected-word-0.0.7 jupyter-latex-envs-1.3.6 jupyter-nbextensions-configurator-0.2.3\n",
      "Requirement already satisfied: jupyter_nbextensions_configurator in /Users/austin/anaconda/lib/python3.5/site-packages\n",
      "Requirement already satisfied: notebook>=4.0 in /Users/austin/anaconda/lib/python3.5/site-packages (from jupyter_nbextensions_configurator)\n",
      "Requirement already satisfied: tornado in /Users/austin/anaconda/lib/python3.5/site-packages (from jupyter_nbextensions_configurator)\n",
      "Requirement already satisfied: jupyter-contrib-core>=0.2 in /Users/austin/anaconda/lib/python3.5/site-packages (from jupyter_nbextensions_configurator)\n",
      "Requirement already satisfied: pyyaml in /Users/austin/anaconda/lib/python3.5/site-packages (from jupyter_nbextensions_configurator)\n",
      "Requirement already satisfied: traitlets in /Users/austin/anaconda/lib/python3.5/site-packages (from jupyter_nbextensions_configurator)\n",
      "Requirement already satisfied: jupyter-core in /Users/austin/anaconda/lib/python3.5/site-packages (from jupyter_nbextensions_configurator)\n",
      "Requirement already satisfied: setuptools in /Users/austin/anaconda/lib/python3.5/site-packages/setuptools-27.2.0-py3.5.egg (from jupyter-contrib-core>=0.2->jupyter_nbextensions_configurator)\n",
      "\u001b[32m[I 01:38:12 InstallContribNbextensionsApp]\u001b[m jupyter contrib nbextension install --user\n",
      "\u001b[32m[I 01:38:12 InstallContribNbextensionsApp]\u001b[m Installing jupyter_contrib_nbextensions nbextension files to jupyter data directory\n",
      "\u001b[32m[I 01:38:12 InstallContribNbextensionsApp]\u001b[m Installing /Users/austin/anaconda/lib/python3.5/site-packages/jupyter_contrib_nbextensions/nbextensions/init_cell -> init_cell\n",
      "\u001b[32m[I 01:38:12 InstallContribNbextensionsApp]\u001b[m Making directory: /Users/austin/Library/Jupyter/nbextensions/init_cell/\n",
      "\u001b[32m[I 01:38:12 InstallContribNbextensionsApp]\u001b[m Copying: /Users/austin/anaconda/lib/python3.5/site-packages/jupyter_contrib_nbextensions/nbextensions/init_cell/icon.png -> /Users/austin/Library/Jupyter/nbextensions/init_cell/icon.png\n",
      "\u001b[32m[I 01:38:12 InstallContribNbextensionsApp]\u001b[m Copying: /Users/austin/anaconda/lib/python3.5/site-packages/jupyter_contrib_nbextensions/nbextensions/init_cell/init_cell.yaml -> /Users/austin/Library/Jupyter/nbextensions/init_cell/init_cell.yaml\n",
      "\u001b[32m[I 01:38:12 InstallContribNbextensionsApp]\u001b[m Copying: /Users/austin/anaconda/lib/python3.5/site-packages/jupyter_contrib_nbextensions/nbextensions/init_cell/main.js -> /Users/austin/Library/Jupyter/nbextensions/init_cell/main.js\n",
      "\u001b[32m[I 01:38:12 InstallContribNbextensionsApp]\u001b[m Copying: /Users/austin/anaconda/lib/python3.5/site-packages/jupyter_contrib_nbextensions/nbextensions/init_cell/README.md -> /Users/austin/Library/Jupyter/nbextensions/init_cell/README.md\n",
      "\u001b[32m[I 01:38:12 InstallContribNbextensionsApp]\u001b[m - Validating: \u001b[32mOK\u001b[0m\n",
      "\u001b[32m[I 01:38:12 InstallContribNbextensionsApp]\u001b[m Installing /Users/austin/anaconda/lib/python3.5/site-packages/jupyter_contrib_nbextensions/nbextensions/printview -> printview\n",
      "\u001b[32m[I 01:38:12 InstallContribNbextensionsApp]\u001b[m Making directory: /Users/austin/Library/Jupyter/nbextensions/printview/\n",
      "\u001b[32m[I 01:38:12 InstallContribNbextensionsApp]\u001b[m Copying: /Users/austin/anaconda/lib/python3.5/site-packages/jupyter_contrib_nbextensions/nbextensions/printview/icon.png -> /Users/austin/Library/Jupyter/nbextensions/printview/icon.png\n",
      "\u001b[32m[I 01:38:13 InstallContribNbextensionsApp]\u001b[m Copying: /Users/austin/anaconda/lib/python3.5/site-packages/jupyter_contrib_nbextensions/nbextensions/printview/main.js -> /Users/austin/Library/Jupyter/nbextensions/printview/main.js\n",
      "\u001b[32m[I 01:38:13 InstallContribNbextensionsApp]\u001b[m Copying: /Users/austin/anaconda/lib/python3.5/site-packages/jupyter_contrib_nbextensions/nbextensions/printview/printview-button.png -> /Users/austin/Library/Jupyter/nbextensions/printview/printview-button.png\n",
      "\u001b[32m[I 01:38:13 InstallContribNbextensionsApp]\u001b[m Copying: /Users/austin/anaconda/lib/python3.5/site-packages/jupyter_contrib_nbextensions/nbextensions/printview/printview.yaml -> /Users/austin/Library/Jupyter/nbextensions/printview/printview.yaml\n",
      "\u001b[32m[I 01:38:13 InstallContribNbextensionsApp]\u001b[m Copying: /Users/austin/anaconda/lib/python3.5/site-packages/jupyter_contrib_nbextensions/nbextensions/printview/readme.md -> /Users/austin/Library/Jupyter/nbextensions/printview/readme.md\n",
      "\u001b[32m[I 01:38:13 InstallContribNbextensionsApp]\u001b[m - Validating: \u001b[32mOK\u001b[0m\n",
      "\u001b[32m[I 01:38:13 InstallContribNbextensionsApp]\u001b[m Installing /Users/austin/anaconda/lib/python3.5/site-packages/jupyter_contrib_nbextensions/nbextensions/splitcell -> splitcell\n",
      "\u001b[32m[I 01:38:13 InstallContribNbextensionsApp]\u001b[m Making directory: /Users/austin/Library/Jupyter/nbextensions/splitcell/\n",
      "\u001b[32m[I 01:38:13 InstallContribNbextensionsApp]\u001b[m Copying: /Users/austin/anaconda/lib/python3.5/site-packages/jupyter_contrib_nbextensions/nbextensions/splitcell/icon.png -> /Users/austin/Library/Jupyter/nbextensions/splitcell/icon.png\n",
      "\u001b[32m[I 01:38:13 InstallContribNbextensionsApp]\u001b[m Copying: /Users/austin/anaconda/lib/python3.5/site-packages/jupyter_contrib_nbextensions/nbextensions/splitcell/readme.md -> /Users/austin/Library/Jupyter/nbextensions/splitcell/readme.md\n",
      "\u001b[32m[I 01:38:13 InstallContribNbextensionsApp]\u001b[m Copying: /Users/austin/anaconda/lib/python3.5/site-packages/jupyter_contrib_nbextensions/nbextensions/splitcell/splitcell.js -> /Users/austin/Library/Jupyter/nbextensions/splitcell/splitcell.js\n",
      "\u001b[32m[I 01:38:13 InstallContribNbextensionsApp]\u001b[m Copying: /Users/austin/anaconda/lib/python3.5/site-packages/jupyter_contrib_nbextensions/nbextensions/splitcell/splitcell.yaml -> /Users/austin/Library/Jupyter/nbextensions/splitcell/splitcell.yaml\n",
      "\u001b[32m[I 01:38:13 InstallContribNbextensionsApp]\u001b[m - Validating: \u001b[32mOK\u001b[0m\n",
      "\u001b[32m[I 01:38:13 InstallContribNbextensionsApp]\u001b[m Installing /Users/austin/anaconda/lib/python3.5/site-packages/jupyter_contrib_nbextensions/nbextensions/highlighter -> highlighter\n",
      "\u001b[32m[I 01:38:13 InstallContribNbextensionsApp]\u001b[m Making directory: /Users/austin/Library/Jupyter/nbextensions/highlighter/\n",
      "\u001b[32m[I 01:38:13 InstallContribNbextensionsApp]\u001b[m Copying: /Users/austin/anaconda/lib/python3.5/site-packages/jupyter_contrib_nbextensions/nbextensions/highlighter/demo_highlighter.html -> /Users/austin/Library/Jupyter/nbextensions/highlighter/demo_highlighter.html\n",
      "\u001b[32m[I 01:38:13 InstallContribNbextensionsApp]\u001b[m Copying: /Users/austin/anaconda/lib/python3.5/site-packages/jupyter_contrib_nbextensions/nbextensions/highlighter/demo_highlighter.ipynb -> /Users/austin/Library/Jupyter/nbextensions/highlighter/demo_highlighter.ipynb\n",
      "\u001b[32m[I 01:38:13 InstallContribNbextensionsApp]\u001b[m Copying: /Users/austin/anaconda/lib/python3.5/site-packages/jupyter_contrib_nbextensions/nbextensions/highlighter/export_highlights.html -> /Users/austin/Library/Jupyter/nbextensions/highlighter/export_highlights.html\n",
      "\u001b[32m[I 01:38:13 InstallContribNbextensionsApp]\u001b[m Copying: /Users/austin/anaconda/lib/python3.5/site-packages/jupyter_contrib_nbextensions/nbextensions/highlighter/export_highlights.ipynb -> /Users/austin/Library/Jupyter/nbextensions/highlighter/export_highlights.ipynb\n",
      "\u001b[32m[I 01:38:13 InstallContribNbextensionsApp]\u001b[m Copying: /Users/austin/anaconda/lib/python3.5/site-packages/jupyter_contrib_nbextensions/nbextensions/highlighter/export_highlights.pdf -> /Users/austin/Library/Jupyter/nbextensions/highlighter/export_highlights.pdf\n",
      "\u001b[32m[I 01:38:13 InstallContribNbextensionsApp]\u001b[m Copying: /Users/austin/anaconda/lib/python3.5/site-packages/jupyter_contrib_nbextensions/nbextensions/highlighter/export_highlights.tex -> /Users/austin/Library/Jupyter/nbextensions/highlighter/export_highlights.tex\n",
      "\u001b[32m[I 01:38:13 InstallContribNbextensionsApp]\u001b[m Copying: /Users/austin/anaconda/lib/python3.5/site-packages/jupyter_contrib_nbextensions/nbextensions/highlighter/highlighter.css -> /Users/austin/Library/Jupyter/nbextensions/highlighter/highlighter.css\n",
      "\u001b[32m[I 01:38:13 InstallContribNbextensionsApp]\u001b[m Copying: /Users/austin/anaconda/lib/python3.5/site-packages/jupyter_contrib_nbextensions/nbextensions/highlighter/highlighter.js -> /Users/austin/Library/Jupyter/nbextensions/highlighter/highlighter.js\n",
      "\u001b[32m[I 01:38:13 InstallContribNbextensionsApp]\u001b[m Copying: /Users/austin/anaconda/lib/python3.5/site-packages/jupyter_contrib_nbextensions/nbextensions/highlighter/highlighter.old.js -> /Users/austin/Library/Jupyter/nbextensions/highlighter/highlighter.old.js\n",
      "\u001b[32m[I 01:38:13 InstallContribNbextensionsApp]\u001b[m Copying: /Users/austin/anaconda/lib/python3.5/site-packages/jupyter_contrib_nbextensions/nbextensions/highlighter/highlighter.yaml -> /Users/austin/Library/Jupyter/nbextensions/highlighter/highlighter.yaml\n",
      "\u001b[32m[I 01:38:13 InstallContribNbextensionsApp]\u001b[m Copying: /Users/austin/anaconda/lib/python3.5/site-packages/jupyter_contrib_nbextensions/nbextensions/highlighter/icon.png -> /Users/austin/Library/Jupyter/nbextensions/highlighter/icon.png\n",
      "\u001b[32m[I 01:38:13 InstallContribNbextensionsApp]\u001b[m Copying: /Users/austin/anaconda/lib/python3.5/site-packages/jupyter_contrib_nbextensions/nbextensions/highlighter/image.gif -> /Users/austin/Library/Jupyter/nbextensions/highlighter/image.gif\n",
      "\u001b[32m[I 01:38:13 InstallContribNbextensionsApp]\u001b[m Copying: /Users/austin/anaconda/lib/python3.5/site-packages/jupyter_contrib_nbextensions/nbextensions/highlighter/readme.md -> /Users/austin/Library/Jupyter/nbextensions/highlighter/readme.md\n",
      "\u001b[32m[I 01:38:13 InstallContribNbextensionsApp]\u001b[m Copying: /Users/austin/anaconda/lib/python3.5/site-packages/jupyter_contrib_nbextensions/nbextensions/highlighter/tst_highlights.html -> /Users/austin/Library/Jupyter/nbextensions/highlighter/tst_highlights.html\n",
      "\u001b[32m[I 01:38:13 InstallContribNbextensionsApp]\u001b[m Copying: /Users/austin/anaconda/lib/python3.5/site-packages/jupyter_contrib_nbextensions/nbextensions/highlighter/tst_highlights.ipynb -> /Users/austin/Library/Jupyter/nbextensions/highlighter/tst_highlights.ipynb\n",
      "\u001b[32m[I 01:38:13 InstallContribNbextensionsApp]\u001b[m Copying: /Users/austin/anaconda/lib/python3.5/site-packages/jupyter_contrib_nbextensions/nbextensions/highlighter/tst_highlights.pdf -> /Users/austin/Library/Jupyter/nbextensions/highlighter/tst_highlights.pdf\n",
      "\u001b[32m[I 01:38:13 InstallContribNbextensionsApp]\u001b[m Copying: /Users/austin/anaconda/lib/python3.5/site-packages/jupyter_contrib_nbextensions/nbextensions/highlighter/tst_highlights.tex -> /Users/austin/Library/Jupyter/nbextensions/highlighter/tst_highlights.tex\n",
      "\u001b[32m[I 01:38:13 InstallContribNbextensionsApp]\u001b[m - Validating: \u001b[32mOK\u001b[0m\n",
      "\u001b[32m[I 01:38:13 InstallContribNbextensionsApp]\u001b[m Installing /Users/austin/anaconda/lib/python3.5/site-packages/jupyter_contrib_nbextensions/nbextensions/nbTranslate -> nbTranslate\n",
      "\u001b[32m[I 01:38:13 InstallContribNbextensionsApp]\u001b[m Making directory: /Users/austin/Library/Jupyter/nbextensions/nbTranslate/\n",
      "\u001b[32m[I 01:38:13 InstallContribNbextensionsApp]\u001b[m Copying: /Users/austin/anaconda/lib/python3.5/site-packages/jupyter_contrib_nbextensions/nbextensions/nbTranslate/demo1.gif -> /Users/austin/Library/Jupyter/nbextensions/nbTranslate/demo1.gif\n",
      "\u001b[32m[I 01:38:13 InstallContribNbextensionsApp]\u001b[m Copying: /Users/austin/anaconda/lib/python3.5/site-packages/jupyter_contrib_nbextensions/nbextensions/nbTranslate/demo2.gif -> /Users/austin/Library/Jupyter/nbextensions/nbTranslate/demo2.gif\n",
      "\u001b[32m[I 01:38:13 InstallContribNbextensionsApp]\u001b[m Copying: /Users/austin/anaconda/lib/python3.5/site-packages/jupyter_contrib_nbextensions/nbextensions/nbTranslate/languages.js -> /Users/austin/Library/Jupyter/nbextensions/nbTranslate/languages.js\n",
      "\u001b[32m[I 01:38:13 InstallContribNbextensionsApp]\u001b[m Copying: /Users/austin/anaconda/lib/python3.5/site-packages/jupyter_contrib_nbextensions/nbextensions/nbTranslate/main.js -> /Users/austin/Library/Jupyter/nbextensions/nbTranslate/main.js\n",
      "\u001b[32m[I 01:38:13 InstallContribNbextensionsApp]\u001b[m Copying: /Users/austin/anaconda/lib/python3.5/site-packages/jupyter_contrib_nbextensions/nbextensions/nbTranslate/mutils.js -> /Users/austin/Library/Jupyter/nbextensions/nbTranslate/mutils.js\n",
      "\u001b[32m[I 01:38:13 InstallContribNbextensionsApp]\u001b[m Copying: /Users/austin/anaconda/lib/python3.5/site-packages/jupyter_contrib_nbextensions/nbextensions/nbTranslate/nbTranslate.js -> /Users/austin/Library/Jupyter/nbextensions/nbTranslate/nbTranslate.js\n",
      "\u001b[32m[I 01:38:13 InstallContribNbextensionsApp]\u001b[m Copying: /Users/austin/anaconda/lib/python3.5/site-packages/jupyter_contrib_nbextensions/nbextensions/nbTranslate/nbTranslate.py -> /Users/austin/Library/Jupyter/nbextensions/nbTranslate/nbTranslate.py\n",
      "\u001b[32m[I 01:38:13 InstallContribNbextensionsApp]\u001b[m Copying: /Users/austin/anaconda/lib/python3.5/site-packages/jupyter_contrib_nbextensions/nbextensions/nbTranslate/nbTranslate.yaml -> /Users/austin/Library/Jupyter/nbextensions/nbTranslate/nbTranslate.yaml\n",
      "\u001b[32m[I 01:38:13 InstallContribNbextensionsApp]\u001b[m Copying: /Users/austin/anaconda/lib/python3.5/site-packages/jupyter_contrib_nbextensions/nbextensions/nbTranslate/README.md -> /Users/austin/Library/Jupyter/nbextensions/nbTranslate/README.md\n",
      "\u001b[32m[I 01:38:13 InstallContribNbextensionsApp]\u001b[m Making directory: /Users/austin/Library/Jupyter/nbextensions/nbTranslate/__pycache__\n",
      "\u001b[32m[I 01:38:13 InstallContribNbextensionsApp]\u001b[m Copying: /Users/austin/anaconda/lib/python3.5/site-packages/jupyter_contrib_nbextensions/nbextensions/nbTranslate/__pycache__/nbTranslate.cpython-35.pyc -> /Users/austin/Library/Jupyter/nbextensions/nbTranslate/__pycache__/nbTranslate.cpython-35.pyc\n",
      "\u001b[32m[I 01:38:13 InstallContribNbextensionsApp]\u001b[m - Validating: \u001b[32mOK\u001b[0m\n",
      "\u001b[32m[I 01:38:13 InstallContribNbextensionsApp]\u001b[m Installing /Users/austin/anaconda/lib/python3.5/site-packages/jupyter_contrib_nbextensions/nbextensions/code_font_size -> code_font_size\n",
      "\u001b[32m[I 01:38:13 InstallContribNbextensionsApp]\u001b[m Making directory: /Users/austin/Library/Jupyter/nbextensions/code_font_size/\n",
      "\u001b[32m[I 01:38:13 InstallContribNbextensionsApp]\u001b[m Copying: /Users/austin/anaconda/lib/python3.5/site-packages/jupyter_contrib_nbextensions/nbextensions/code_font_size/code_font_size.js -> /Users/austin/Library/Jupyter/nbextensions/code_font_size/code_font_size.js\n",
      "\u001b[32m[I 01:38:13 InstallContribNbextensionsApp]\u001b[m Copying: /Users/austin/anaconda/lib/python3.5/site-packages/jupyter_contrib_nbextensions/nbextensions/code_font_size/code_font_size.yaml -> /Users/austin/Library/Jupyter/nbextensions/code_font_size/code_font_size.yaml\n",
      "\u001b[32m[I 01:38:13 InstallContribNbextensionsApp]\u001b[m Copying: /Users/austin/anaconda/lib/python3.5/site-packages/jupyter_contrib_nbextensions/nbextensions/code_font_size/README.md -> /Users/austin/Library/Jupyter/nbextensions/code_font_size/README.md\n",
      "\u001b[32m[I 01:38:13 InstallContribNbextensionsApp]\u001b[m - Validating: \u001b[32mOK\u001b[0m\n",
      "\u001b[32m[I 01:38:13 InstallContribNbextensionsApp]\u001b[m Installing /Users/austin/anaconda/lib/python3.5/site-packages/jupyter_contrib_nbextensions/nbextensions/ruler -> ruler\n",
      "\u001b[32m[I 01:38:13 InstallContribNbextensionsApp]\u001b[m Making directory: /Users/austin/Library/Jupyter/nbextensions/ruler/\n",
      "\u001b[32m[I 01:38:13 InstallContribNbextensionsApp]\u001b[m Copying: /Users/austin/anaconda/lib/python3.5/site-packages/jupyter_contrib_nbextensions/nbextensions/ruler/icon.png -> /Users/austin/Library/Jupyter/nbextensions/ruler/icon.png\n",
      "\u001b[32m[I 01:38:13 InstallContribNbextensionsApp]\u001b[m Copying: /Users/austin/anaconda/lib/python3.5/site-packages/jupyter_contrib_nbextensions/nbextensions/ruler/main.js -> /Users/austin/Library/Jupyter/nbextensions/ruler/main.js\n",
      "\u001b[32m[I 01:38:13 InstallContribNbextensionsApp]\u001b[m Copying: /Users/austin/anaconda/lib/python3.5/site-packages/jupyter_contrib_nbextensions/nbextensions/ruler/readme.md -> /Users/austin/Library/Jupyter/nbextensions/ruler/readme.md\n",
      "\u001b[32m[I 01:38:13 InstallContribNbextensionsApp]\u001b[m Copying: /Users/austin/anaconda/lib/python3.5/site-packages/jupyter_contrib_nbextensions/nbextensions/ruler/ruler.yaml -> /Users/austin/Library/Jupyter/nbextensions/ruler/ruler.yaml\n",
      "\u001b[32m[I 01:38:13 InstallContribNbextensionsApp]\u001b[m - Validating: \u001b[32mOK\u001b[0m\n",
      "\u001b[32m[I 01:38:13 InstallContribNbextensionsApp]\u001b[m Installing /Users/austin/anaconda/lib/python3.5/site-packages/jupyter_contrib_nbextensions/nbextensions/skill -> skill\n",
      "\u001b[32m[I 01:38:13 InstallContribNbextensionsApp]\u001b[m Making directory: /Users/austin/Library/Jupyter/nbextensions/skill/\n",
      "\u001b[32m[I 01:38:13 InstallContribNbextensionsApp]\u001b[m Copying: /Users/austin/anaconda/lib/python3.5/site-packages/jupyter_contrib_nbextensions/nbextensions/skill/README.md -> /Users/austin/Library/Jupyter/nbextensions/skill/README.md\n",
      "\u001b[32m[I 01:38:13 InstallContribNbextensionsApp]\u001b[m Copying: /Users/austin/anaconda/lib/python3.5/site-packages/jupyter_contrib_nbextensions/nbextensions/skill/skill.js -> /Users/austin/Library/Jupyter/nbextensions/skill/skill.js\n",
      "\u001b[32m[I 01:38:13 InstallContribNbextensionsApp]\u001b[m Copying: /Users/austin/anaconda/lib/python3.5/site-packages/jupyter_contrib_nbextensions/nbextensions/skill/skill.yaml -> /Users/austin/Library/Jupyter/nbextensions/skill/skill.yaml\n",
      "\u001b[32m[I 01:38:13 InstallContribNbextensionsApp]\u001b[m - Validating: \u001b[32mOK\u001b[0m\n",
      "\u001b[32m[I 01:38:13 InstallContribNbextensionsApp]\u001b[m Installing /Users/austin/anaconda/lib/python3.5/site-packages/jupyter_contrib_nbextensions/nbextensions/qtconsole -> qtconsole\n",
      "\u001b[32m[I 01:38:13 InstallContribNbextensionsApp]\u001b[m Making directory: /Users/austin/Library/Jupyter/nbextensions/qtconsole/\n",
      "\u001b[32m[I 01:38:13 InstallContribNbextensionsApp]\u001b[m Copying: /Users/austin/anaconda/lib/python3.5/site-packages/jupyter_contrib_nbextensions/nbextensions/qtconsole/qtconsole.js -> /Users/austin/Library/Jupyter/nbextensions/qtconsole/qtconsole.js\n",
      "\u001b[32m[I 01:38:13 InstallContribNbextensionsApp]\u001b[m Copying: /Users/austin/anaconda/lib/python3.5/site-packages/jupyter_contrib_nbextensions/nbextensions/qtconsole/qtconsole.yaml -> /Users/austin/Library/Jupyter/nbextensions/qtconsole/qtconsole.yaml\n",
      "\u001b[32m[I 01:38:13 InstallContribNbextensionsApp]\u001b[m Copying: /Users/austin/anaconda/lib/python3.5/site-packages/jupyter_contrib_nbextensions/nbextensions/qtconsole/README.md -> /Users/austin/Library/Jupyter/nbextensions/qtconsole/README.md\n",
      "\u001b[32m[I 01:38:13 InstallContribNbextensionsApp]\u001b[m - Validating: \u001b[32mOK\u001b[0m\n",
      "\u001b[32m[I 01:38:13 InstallContribNbextensionsApp]\u001b[m Installing /Users/austin/anaconda/lib/python3.5/site-packages/jupyter_contrib_nbextensions/nbextensions/addbefore -> addbefore\n",
      "\u001b[32m[I 01:38:13 InstallContribNbextensionsApp]\u001b[m Making directory: /Users/austin/Library/Jupyter/nbextensions/addbefore/\n",
      "\u001b[32m[I 01:38:13 InstallContribNbextensionsApp]\u001b[m Copying: /Users/austin/anaconda/lib/python3.5/site-packages/jupyter_contrib_nbextensions/nbextensions/addbefore/addbefore.yaml -> /Users/austin/Library/Jupyter/nbextensions/addbefore/addbefore.yaml\n",
      "\u001b[32m[I 01:38:13 InstallContribNbextensionsApp]\u001b[m Copying: /Users/austin/anaconda/lib/python3.5/site-packages/jupyter_contrib_nbextensions/nbextensions/addbefore/icon.png -> /Users/austin/Library/Jupyter/nbextensions/addbefore/icon.png\n",
      "\u001b[32m[I 01:38:13 InstallContribNbextensionsApp]\u001b[m Copying: /Users/austin/anaconda/lib/python3.5/site-packages/jupyter_contrib_nbextensions/nbextensions/addbefore/main.js -> /Users/austin/Library/Jupyter/nbextensions/addbefore/main.js\n",
      "\u001b[32m[I 01:38:13 InstallContribNbextensionsApp]\u001b[m Copying: /Users/austin/anaconda/lib/python3.5/site-packages/jupyter_contrib_nbextensions/nbextensions/addbefore/readme.md -> /Users/austin/Library/Jupyter/nbextensions/addbefore/readme.md\n",
      "\u001b[32m[I 01:38:13 InstallContribNbextensionsApp]\u001b[m - Validating: \u001b[32mOK\u001b[0m\n",
      "\u001b[32m[I 01:38:13 InstallContribNbextensionsApp]\u001b[m Installing /Users/austin/anaconda/lib/python3.5/site-packages/jupyter_contrib_nbextensions/nbextensions/snippets_menu -> snippets_menu\n",
      "\u001b[32m[I 01:38:13 InstallContribNbextensionsApp]\u001b[m Making directory: /Users/austin/Library/Jupyter/nbextensions/snippets_menu/\n",
      "\u001b[32m[I 01:38:13 InstallContribNbextensionsApp]\u001b[m Copying: /Users/austin/anaconda/lib/python3.5/site-packages/jupyter_contrib_nbextensions/nbextensions/snippets_menu/config.yaml -> /Users/austin/Library/Jupyter/nbextensions/snippets_menu/config.yaml\n",
      "\u001b[32m[I 01:38:13 InstallContribNbextensionsApp]\u001b[m Copying: /Users/austin/anaconda/lib/python3.5/site-packages/jupyter_contrib_nbextensions/nbextensions/snippets_menu/examples_for_custom.js -> /Users/austin/Library/Jupyter/nbextensions/snippets_menu/examples_for_custom.js\n",
      "\u001b[32m[I 01:38:13 InstallContribNbextensionsApp]\u001b[m Copying: /Users/austin/anaconda/lib/python3.5/site-packages/jupyter_contrib_nbextensions/nbextensions/snippets_menu/main.js -> /Users/austin/Library/Jupyter/nbextensions/snippets_menu/main.js\n",
      "\u001b[32m[I 01:38:13 InstallContribNbextensionsApp]\u001b[m Copying: /Users/austin/anaconda/lib/python3.5/site-packages/jupyter_contrib_nbextensions/nbextensions/snippets_menu/readme.md -> /Users/austin/Library/Jupyter/nbextensions/snippets_menu/readme.md\n",
      "\u001b[32m[I 01:38:13 InstallContribNbextensionsApp]\u001b[m Copying: /Users/austin/anaconda/lib/python3.5/site-packages/jupyter_contrib_nbextensions/nbextensions/snippets_menu/screenshot1.png -> /Users/austin/Library/Jupyter/nbextensions/snippets_menu/screenshot1.png\n",
      "\u001b[32m[I 01:38:13 InstallContribNbextensionsApp]\u001b[m Copying: /Users/austin/anaconda/lib/python3.5/site-packages/jupyter_contrib_nbextensions/nbextensions/snippets_menu/screenshot2.png -> /Users/austin/Library/Jupyter/nbextensions/snippets_menu/screenshot2.png\n",
      "\u001b[32m[I 01:38:13 InstallContribNbextensionsApp]\u001b[m Copying: /Users/austin/anaconda/lib/python3.5/site-packages/jupyter_contrib_nbextensions/nbextensions/snippets_menu/screenshot3.png -> /Users/austin/Library/Jupyter/nbextensions/snippets_menu/screenshot3.png\n",
      "\u001b[32m[I 01:38:13 InstallContribNbextensionsApp]\u001b[m Copying: /Users/austin/anaconda/lib/python3.5/site-packages/jupyter_contrib_nbextensions/nbextensions/snippets_menu/snippets_menu.css -> /Users/austin/Library/Jupyter/nbextensions/snippets_menu/snippets_menu.css\n",
      "\u001b[32m[I 01:38:13 InstallContribNbextensionsApp]\u001b[m Copying: /Users/austin/anaconda/lib/python3.5/site-packages/jupyter_contrib_nbextensions/nbextensions/snippets_menu/snippets_submenu_markdown.js -> /Users/austin/Library/Jupyter/nbextensions/snippets_menu/snippets_submenu_markdown.js\n",
      "\u001b[32m[I 01:38:13 InstallContribNbextensionsApp]\u001b[m Copying: /Users/austin/anaconda/lib/python3.5/site-packages/jupyter_contrib_nbextensions/nbextensions/snippets_menu/snippets_submenu_python.js -> /Users/austin/Library/Jupyter/nbextensions/snippets_menu/snippets_submenu_python.js\n",
      "\u001b[32m[I 01:38:13 InstallContribNbextensionsApp]\u001b[m Copying: /Users/austin/anaconda/lib/python3.5/site-packages/jupyter_contrib_nbextensions/nbextensions/snippets_menu/thumbnail.png -> /Users/austin/Library/Jupyter/nbextensions/snippets_menu/thumbnail.png\n",
      "\u001b[32m[I 01:38:13 InstallContribNbextensionsApp]\u001b[m Making directory: /Users/austin/Library/Jupyter/nbextensions/snippets_menu/snippets_submenus_python\n",
      "\u001b[32m[I 01:38:13 InstallContribNbextensionsApp]\u001b[m Copying: /Users/austin/anaconda/lib/python3.5/site-packages/jupyter_contrib_nbextensions/nbextensions/snippets_menu/snippets_submenus_python/astropy.js -> /Users/austin/Library/Jupyter/nbextensions/snippets_menu/snippets_submenus_python/astropy.js\n",
      "\u001b[32m[I 01:38:13 InstallContribNbextensionsApp]\u001b[m Copying: /Users/austin/anaconda/lib/python3.5/site-packages/jupyter_contrib_nbextensions/nbextensions/snippets_menu/snippets_submenus_python/h5py.js -> /Users/austin/Library/Jupyter/nbextensions/snippets_menu/snippets_submenus_python/h5py.js\n",
      "\u001b[32m[I 01:38:13 InstallContribNbextensionsApp]\u001b[m Copying: /Users/austin/anaconda/lib/python3.5/site-packages/jupyter_contrib_nbextensions/nbextensions/snippets_menu/snippets_submenus_python/matplotlib.js -> /Users/austin/Library/Jupyter/nbextensions/snippets_menu/snippets_submenus_python/matplotlib.js\n",
      "\u001b[32m[I 01:38:13 InstallContribNbextensionsApp]\u001b[m Copying: /Users/austin/anaconda/lib/python3.5/site-packages/jupyter_contrib_nbextensions/nbextensions/snippets_menu/snippets_submenus_python/numba.js -> /Users/austin/Library/Jupyter/nbextensions/snippets_menu/snippets_submenus_python/numba.js\n",
      "\u001b[32m[I 01:38:13 InstallContribNbextensionsApp]\u001b[m Copying: /Users/austin/anaconda/lib/python3.5/site-packages/jupyter_contrib_nbextensions/nbextensions/snippets_menu/snippets_submenus_python/numpy.js -> /Users/austin/Library/Jupyter/nbextensions/snippets_menu/snippets_submenus_python/numpy.js\n",
      "\u001b[32m[I 01:38:13 InstallContribNbextensionsApp]\u001b[m Copying: /Users/austin/anaconda/lib/python3.5/site-packages/jupyter_contrib_nbextensions/nbextensions/snippets_menu/snippets_submenus_python/numpy_polynomial.js -> /Users/austin/Library/Jupyter/nbextensions/snippets_menu/snippets_submenus_python/numpy_polynomial.js\n",
      "\u001b[32m[I 01:38:13 InstallContribNbextensionsApp]\u001b[m Copying: /Users/austin/anaconda/lib/python3.5/site-packages/jupyter_contrib_nbextensions/nbextensions/snippets_menu/snippets_submenus_python/numpy_ufuncs.js -> /Users/austin/Library/Jupyter/nbextensions/snippets_menu/snippets_submenus_python/numpy_ufuncs.js\n",
      "\u001b[32m[I 01:38:13 InstallContribNbextensionsApp]\u001b[m Copying: /Users/austin/anaconda/lib/python3.5/site-packages/jupyter_contrib_nbextensions/nbextensions/snippets_menu/snippets_submenus_python/pandas.js -> /Users/austin/Library/Jupyter/nbextensions/snippets_menu/snippets_submenus_python/pandas.js\n",
      "\u001b[32m[I 01:38:13 InstallContribNbextensionsApp]\u001b[m Copying: /Users/austin/anaconda/lib/python3.5/site-packages/jupyter_contrib_nbextensions/nbextensions/snippets_menu/snippets_submenus_python/python.js -> /Users/austin/Library/Jupyter/nbextensions/snippets_menu/snippets_submenus_python/python.js\n",
      "\u001b[32m[I 01:38:13 InstallContribNbextensionsApp]\u001b[m Copying: /Users/austin/anaconda/lib/python3.5/site-packages/jupyter_contrib_nbextensions/nbextensions/snippets_menu/snippets_submenus_python/python_regex.js -> /Users/austin/Library/Jupyter/nbextensions/snippets_menu/snippets_submenus_python/python_regex.js\n",
      "\u001b[32m[I 01:38:13 InstallContribNbextensionsApp]\u001b[m Copying: /Users/austin/anaconda/lib/python3.5/site-packages/jupyter_contrib_nbextensions/nbextensions/snippets_menu/snippets_submenus_python/scipy.js -> /Users/austin/Library/Jupyter/nbextensions/snippets_menu/snippets_submenus_python/scipy.js\n",
      "\u001b[32m[I 01:38:13 InstallContribNbextensionsApp]\u001b[m Copying: /Users/austin/anaconda/lib/python3.5/site-packages/jupyter_contrib_nbextensions/nbextensions/snippets_menu/snippets_submenus_python/scipy_constants.js -> /Users/austin/Library/Jupyter/nbextensions/snippets_menu/snippets_submenus_python/scipy_constants.js\n",
      "\u001b[32m[I 01:38:13 InstallContribNbextensionsApp]\u001b[m Copying: /Users/austin/anaconda/lib/python3.5/site-packages/jupyter_contrib_nbextensions/nbextensions/snippets_menu/snippets_submenus_python/scipy_special.js -> /Users/austin/Library/Jupyter/nbextensions/snippets_menu/snippets_submenus_python/scipy_special.js\n",
      "\u001b[32m[I 01:38:13 InstallContribNbextensionsApp]\u001b[m Copying: /Users/austin/anaconda/lib/python3.5/site-packages/jupyter_contrib_nbextensions/nbextensions/snippets_menu/snippets_submenus_python/sympy.js -> /Users/austin/Library/Jupyter/nbextensions/snippets_menu/snippets_submenus_python/sympy.js\n",
      "\u001b[32m[I 01:38:13 InstallContribNbextensionsApp]\u001b[m Copying: /Users/austin/anaconda/lib/python3.5/site-packages/jupyter_contrib_nbextensions/nbextensions/snippets_menu/snippets_submenus_python/sympy_assumptions.js -> /Users/austin/Library/Jupyter/nbextensions/snippets_menu/snippets_submenus_python/sympy_assumptions.js\n",
      "\u001b[32m[I 01:38:13 InstallContribNbextensionsApp]\u001b[m Copying: /Users/austin/anaconda/lib/python3.5/site-packages/jupyter_contrib_nbextensions/nbextensions/snippets_menu/snippets_submenus_python/sympy_functions.js -> /Users/austin/Library/Jupyter/nbextensions/snippets_menu/snippets_submenus_python/sympy_functions.js\n",
      "\u001b[32m[I 01:38:13 InstallContribNbextensionsApp]\u001b[m - Validating: \u001b[32mOK\u001b[0m\n",
      "\u001b[32m[I 01:38:13 InstallContribNbextensionsApp]\u001b[m Installing /Users/austin/anaconda/lib/python3.5/site-packages/jupyter_contrib_nbextensions/nbextensions/toc2 -> toc2\n",
      "\u001b[32m[I 01:38:13 InstallContribNbextensionsApp]\u001b[m Making directory: /Users/austin/Library/Jupyter/nbextensions/toc2/\n",
      "\u001b[32m[I 01:38:13 InstallContribNbextensionsApp]\u001b[m Copying: /Users/austin/anaconda/lib/python3.5/site-packages/jupyter_contrib_nbextensions/nbextensions/toc2/demo.gif -> /Users/austin/Library/Jupyter/nbextensions/toc2/demo.gif\n",
      "\u001b[32m[I 01:38:13 InstallContribNbextensionsApp]\u001b[m Copying: /Users/austin/anaconda/lib/python3.5/site-packages/jupyter_contrib_nbextensions/nbextensions/toc2/demo2.gif -> /Users/austin/Library/Jupyter/nbextensions/toc2/demo2.gif\n",
      "\u001b[32m[I 01:38:13 InstallContribNbextensionsApp]\u001b[m Copying: /Users/austin/anaconda/lib/python3.5/site-packages/jupyter_contrib_nbextensions/nbextensions/toc2/demo3.gif -> /Users/austin/Library/Jupyter/nbextensions/toc2/demo3.gif\n",
      "\u001b[32m[I 01:38:13 InstallContribNbextensionsApp]\u001b[m Copying: /Users/austin/anaconda/lib/python3.5/site-packages/jupyter_contrib_nbextensions/nbextensions/toc2/icon.png -> /Users/austin/Library/Jupyter/nbextensions/toc2/icon.png\n",
      "\u001b[32m[I 01:38:13 InstallContribNbextensionsApp]\u001b[m Copying: /Users/austin/anaconda/lib/python3.5/site-packages/jupyter_contrib_nbextensions/nbextensions/toc2/image.png -> /Users/austin/Library/Jupyter/nbextensions/toc2/image.png\n",
      "\u001b[32m[I 01:38:13 InstallContribNbextensionsApp]\u001b[m Copying: /Users/austin/anaconda/lib/python3.5/site-packages/jupyter_contrib_nbextensions/nbextensions/toc2/main.css -> /Users/austin/Library/Jupyter/nbextensions/toc2/main.css\n",
      "\u001b[32m[I 01:38:13 InstallContribNbextensionsApp]\u001b[m Copying: /Users/austin/anaconda/lib/python3.5/site-packages/jupyter_contrib_nbextensions/nbextensions/toc2/main.js -> /Users/austin/Library/Jupyter/nbextensions/toc2/main.js\n",
      "\u001b[32m[I 01:38:13 InstallContribNbextensionsApp]\u001b[m Copying: /Users/austin/anaconda/lib/python3.5/site-packages/jupyter_contrib_nbextensions/nbextensions/toc2/README.md -> /Users/austin/Library/Jupyter/nbextensions/toc2/README.md\n",
      "\u001b[32m[I 01:38:13 InstallContribNbextensionsApp]\u001b[m Copying: /Users/austin/anaconda/lib/python3.5/site-packages/jupyter_contrib_nbextensions/nbextensions/toc2/toc2.js -> /Users/austin/Library/Jupyter/nbextensions/toc2/toc2.js\n",
      "\u001b[32m[I 01:38:13 InstallContribNbextensionsApp]\u001b[m Copying: /Users/austin/anaconda/lib/python3.5/site-packages/jupyter_contrib_nbextensions/nbextensions/toc2/toc2.yaml -> /Users/austin/Library/Jupyter/nbextensions/toc2/toc2.yaml\n",
      "\u001b[32m[I 01:38:13 InstallContribNbextensionsApp]\u001b[m - Validating: \u001b[32mOK\u001b[0m\n",
      "\u001b[32m[I 01:38:13 InstallContribNbextensionsApp]\u001b[m Installing /Users/austin/anaconda/lib/python3.5/site-packages/jupyter_contrib_nbextensions/nbextensions/zenmode -> zenmode\n",
      "\u001b[32m[I 01:38:13 InstallContribNbextensionsApp]\u001b[m Making directory: /Users/austin/Library/Jupyter/nbextensions/zenmode/\n",
      "\u001b[32m[I 01:38:13 InstallContribNbextensionsApp]\u001b[m Copying: /Users/austin/anaconda/lib/python3.5/site-packages/jupyter_contrib_nbextensions/nbextensions/zenmode/main.css -> /Users/austin/Library/Jupyter/nbextensions/zenmode/main.css\n",
      "\u001b[32m[I 01:38:13 InstallContribNbextensionsApp]\u001b[m Copying: /Users/austin/anaconda/lib/python3.5/site-packages/jupyter_contrib_nbextensions/nbextensions/zenmode/main.js -> /Users/austin/Library/Jupyter/nbextensions/zenmode/main.js\n",
      "\u001b[32m[I 01:38:13 InstallContribNbextensionsApp]\u001b[m Copying: /Users/austin/anaconda/lib/python3.5/site-packages/jupyter_contrib_nbextensions/nbextensions/zenmode/README.md -> /Users/austin/Library/Jupyter/nbextensions/zenmode/README.md\n",
      "\u001b[32m[I 01:38:13 InstallContribNbextensionsApp]\u001b[m Copying: /Users/austin/anaconda/lib/python3.5/site-packages/jupyter_contrib_nbextensions/nbextensions/zenmode/zenmode.yaml -> /Users/austin/Library/Jupyter/nbextensions/zenmode/zenmode.yaml\n",
      "\u001b[32m[I 01:38:13 InstallContribNbextensionsApp]\u001b[m Making directory: /Users/austin/Library/Jupyter/nbextensions/zenmode/images\n",
      "\u001b[32m[I 01:38:13 InstallContribNbextensionsApp]\u001b[m Copying: /Users/austin/anaconda/lib/python3.5/site-packages/jupyter_contrib_nbextensions/nbextensions/zenmode/images/back1.jpg -> /Users/austin/Library/Jupyter/nbextensions/zenmode/images/back1.jpg\n",
      "\u001b[32m[I 01:38:13 InstallContribNbextensionsApp]\u001b[m Copying: /Users/austin/anaconda/lib/python3.5/site-packages/jupyter_contrib_nbextensions/nbextensions/zenmode/images/back11.jpg -> /Users/austin/Library/Jupyter/nbextensions/zenmode/images/back11.jpg\n",
      "\u001b[32m[I 01:38:13 InstallContribNbextensionsApp]\u001b[m Copying: /Users/austin/anaconda/lib/python3.5/site-packages/jupyter_contrib_nbextensions/nbextensions/zenmode/images/back12.jpg -> /Users/austin/Library/Jupyter/nbextensions/zenmode/images/back12.jpg\n",
      "\u001b[32m[I 01:38:13 InstallContribNbextensionsApp]\u001b[m Copying: /Users/austin/anaconda/lib/python3.5/site-packages/jupyter_contrib_nbextensions/nbextensions/zenmode/images/back2.jpg -> /Users/austin/Library/Jupyter/nbextensions/zenmode/images/back2.jpg\n",
      "\u001b[32m[I 01:38:13 InstallContribNbextensionsApp]\u001b[m Copying: /Users/austin/anaconda/lib/python3.5/site-packages/jupyter_contrib_nbextensions/nbextensions/zenmode/images/back21.jpg -> /Users/austin/Library/Jupyter/nbextensions/zenmode/images/back21.jpg\n",
      "\u001b[32m[I 01:38:13 InstallContribNbextensionsApp]\u001b[m Copying: /Users/austin/anaconda/lib/python3.5/site-packages/jupyter_contrib_nbextensions/nbextensions/zenmode/images/back22.jpg -> /Users/austin/Library/Jupyter/nbextensions/zenmode/images/back22.jpg\n",
      "\u001b[32m[I 01:38:13 InstallContribNbextensionsApp]\u001b[m Copying: /Users/austin/anaconda/lib/python3.5/site-packages/jupyter_contrib_nbextensions/nbextensions/zenmode/images/back3.jpg -> /Users/austin/Library/Jupyter/nbextensions/zenmode/images/back3.jpg\n",
      "\u001b[32m[I 01:38:13 InstallContribNbextensionsApp]\u001b[m Copying: /Users/austin/anaconda/lib/python3.5/site-packages/jupyter_contrib_nbextensions/nbextensions/zenmode/images/ipynblogo0.png -> /Users/austin/Library/Jupyter/nbextensions/zenmode/images/ipynblogo0.png\n",
      "\u001b[32m[I 01:38:13 InstallContribNbextensionsApp]\u001b[m Copying: /Users/austin/anaconda/lib/python3.5/site-packages/jupyter_contrib_nbextensions/nbextensions/zenmode/images/ipynblogo1.png -> /Users/austin/Library/Jupyter/nbextensions/zenmode/images/ipynblogo1.png\n",
      "\u001b[32m[I 01:38:13 InstallContribNbextensionsApp]\u001b[m - Validating: \u001b[32mOK\u001b[0m\n",
      "\u001b[32m[I 01:38:13 InstallContribNbextensionsApp]\u001b[m Installing /Users/austin/anaconda/lib/python3.5/site-packages/jupyter_contrib_nbextensions/nbextensions/snippets -> snippets\n",
      "\u001b[32m[I 01:38:13 InstallContribNbextensionsApp]\u001b[m Making directory: /Users/austin/Library/Jupyter/nbextensions/snippets/\n",
      "\u001b[32m[I 01:38:13 InstallContribNbextensionsApp]\u001b[m Copying: /Users/austin/anaconda/lib/python3.5/site-packages/jupyter_contrib_nbextensions/nbextensions/snippets/main.js -> /Users/austin/Library/Jupyter/nbextensions/snippets/main.js\n",
      "\u001b[32m[I 01:38:13 InstallContribNbextensionsApp]\u001b[m Copying: /Users/austin/anaconda/lib/python3.5/site-packages/jupyter_contrib_nbextensions/nbextensions/snippets/README.md -> /Users/austin/Library/Jupyter/nbextensions/snippets/README.md\n",
      "\u001b[32m[I 01:38:13 InstallContribNbextensionsApp]\u001b[m Copying: /Users/austin/anaconda/lib/python3.5/site-packages/jupyter_contrib_nbextensions/nbextensions/snippets/snippets-demo.gif -> /Users/austin/Library/Jupyter/nbextensions/snippets/snippets-demo.gif\n",
      "\u001b[32m[I 01:38:13 InstallContribNbextensionsApp]\u001b[m Copying: /Users/austin/anaconda/lib/python3.5/site-packages/jupyter_contrib_nbextensions/nbextensions/snippets/snippets.json -> /Users/austin/Library/Jupyter/nbextensions/snippets/snippets.json\n",
      "\u001b[32m[I 01:38:13 InstallContribNbextensionsApp]\u001b[m Copying: /Users/austin/anaconda/lib/python3.5/site-packages/jupyter_contrib_nbextensions/nbextensions/snippets/snippets.yaml -> /Users/austin/Library/Jupyter/nbextensions/snippets/snippets.yaml\n",
      "\u001b[32m[I 01:38:13 InstallContribNbextensionsApp]\u001b[m - Validating: \u001b[32mOK\u001b[0m\n",
      "\u001b[32m[I 01:38:13 InstallContribNbextensionsApp]\u001b[m Installing /Users/austin/anaconda/lib/python3.5/site-packages/jupyter_contrib_nbextensions/nbextensions/hinterland -> hinterland\n",
      "\u001b[32m[I 01:38:13 InstallContribNbextensionsApp]\u001b[m Making directory: /Users/austin/Library/Jupyter/nbextensions/hinterland/\n",
      "\u001b[32m[I 01:38:13 InstallContribNbextensionsApp]\u001b[m Copying: /Users/austin/anaconda/lib/python3.5/site-packages/jupyter_contrib_nbextensions/nbextensions/hinterland/hinterland.js -> /Users/austin/Library/Jupyter/nbextensions/hinterland/hinterland.js\n",
      "\u001b[32m[I 01:38:13 InstallContribNbextensionsApp]\u001b[m Copying: /Users/austin/anaconda/lib/python3.5/site-packages/jupyter_contrib_nbextensions/nbextensions/hinterland/hinterland.yaml -> /Users/austin/Library/Jupyter/nbextensions/hinterland/hinterland.yaml\n",
      "\u001b[32m[I 01:38:13 InstallContribNbextensionsApp]\u001b[m Copying: /Users/austin/anaconda/lib/python3.5/site-packages/jupyter_contrib_nbextensions/nbextensions/hinterland/README.md -> /Users/austin/Library/Jupyter/nbextensions/hinterland/README.md\n",
      "\u001b[32m[I 01:38:13 InstallContribNbextensionsApp]\u001b[m - Validating: \u001b[32mOK\u001b[0m\n",
      "\u001b[32m[I 01:38:13 InstallContribNbextensionsApp]\u001b[m Installing /Users/austin/anaconda/lib/python3.5/site-packages/jupyter_contrib_nbextensions/nbextensions/codefolding -> codefolding\n",
      "\u001b[32m[I 01:38:13 InstallContribNbextensionsApp]\u001b[m Making directory: /Users/austin/Library/Jupyter/nbextensions/codefolding/\n",
      "\u001b[32m[I 01:38:13 InstallContribNbextensionsApp]\u001b[m Copying: /Users/austin/anaconda/lib/python3.5/site-packages/jupyter_contrib_nbextensions/nbextensions/codefolding/codefolding.yaml -> /Users/austin/Library/Jupyter/nbextensions/codefolding/codefolding.yaml\n",
      "\u001b[32m[I 01:38:13 InstallContribNbextensionsApp]\u001b[m Copying: /Users/austin/anaconda/lib/python3.5/site-packages/jupyter_contrib_nbextensions/nbextensions/codefolding/codefolding_firstline_folded.png -> /Users/austin/Library/Jupyter/nbextensions/codefolding/codefolding_firstline_folded.png\n",
      "\u001b[32m[I 01:38:13 InstallContribNbextensionsApp]\u001b[m Copying: /Users/austin/anaconda/lib/python3.5/site-packages/jupyter_contrib_nbextensions/nbextensions/codefolding/codefolding_firstline_unfolded.png -> /Users/austin/Library/Jupyter/nbextensions/codefolding/codefolding_firstline_unfolded.png\n",
      "\u001b[32m[I 01:38:13 InstallContribNbextensionsApp]\u001b[m Copying: /Users/austin/anaconda/lib/python3.5/site-packages/jupyter_contrib_nbextensions/nbextensions/codefolding/codefolding_indent_folded_1.png -> /Users/austin/Library/Jupyter/nbextensions/codefolding/codefolding_indent_folded_1.png\n",
      "\u001b[32m[I 01:38:13 InstallContribNbextensionsApp]\u001b[m Copying: /Users/austin/anaconda/lib/python3.5/site-packages/jupyter_contrib_nbextensions/nbextensions/codefolding/codefolding_indent_folded_2.png -> /Users/austin/Library/Jupyter/nbextensions/codefolding/codefolding_indent_folded_2.png\n",
      "\u001b[32m[I 01:38:13 InstallContribNbextensionsApp]\u001b[m Copying: /Users/austin/anaconda/lib/python3.5/site-packages/jupyter_contrib_nbextensions/nbextensions/codefolding/codefolding_indent_unfolded.png -> /Users/austin/Library/Jupyter/nbextensions/codefolding/codefolding_indent_unfolded.png\n",
      "\u001b[32m[I 01:38:13 InstallContribNbextensionsApp]\u001b[m Copying: /Users/austin/anaconda/lib/python3.5/site-packages/jupyter_contrib_nbextensions/nbextensions/codefolding/firstline-fold.js -> /Users/austin/Library/Jupyter/nbextensions/codefolding/firstline-fold.js\n",
      "\u001b[32m[I 01:38:13 InstallContribNbextensionsApp]\u001b[m Copying: /Users/austin/anaconda/lib/python3.5/site-packages/jupyter_contrib_nbextensions/nbextensions/codefolding/foldgutter.css -> /Users/austin/Library/Jupyter/nbextensions/codefolding/foldgutter.css\n",
      "\u001b[32m[I 01:38:13 InstallContribNbextensionsApp]\u001b[m Copying: /Users/austin/anaconda/lib/python3.5/site-packages/jupyter_contrib_nbextensions/nbextensions/codefolding/icon.png -> /Users/austin/Library/Jupyter/nbextensions/codefolding/icon.png\n",
      "\u001b[32m[I 01:38:13 InstallContribNbextensionsApp]\u001b[m Copying: /Users/austin/anaconda/lib/python3.5/site-packages/jupyter_contrib_nbextensions/nbextensions/codefolding/magic-fold.js -> /Users/austin/Library/Jupyter/nbextensions/codefolding/magic-fold.js\n",
      "\u001b[32m[I 01:38:13 InstallContribNbextensionsApp]\u001b[m Copying: /Users/austin/anaconda/lib/python3.5/site-packages/jupyter_contrib_nbextensions/nbextensions/codefolding/magic-folded.png -> /Users/austin/Library/Jupyter/nbextensions/codefolding/magic-folded.png\n",
      "\u001b[32m[I 01:38:13 InstallContribNbextensionsApp]\u001b[m Copying: /Users/austin/anaconda/lib/python3.5/site-packages/jupyter_contrib_nbextensions/nbextensions/codefolding/magic-unfolded.png -> /Users/austin/Library/Jupyter/nbextensions/codefolding/magic-unfolded.png\n",
      "\u001b[32m[I 01:38:13 InstallContribNbextensionsApp]\u001b[m Copying: /Users/austin/anaconda/lib/python3.5/site-packages/jupyter_contrib_nbextensions/nbextensions/codefolding/main.js -> /Users/austin/Library/Jupyter/nbextensions/codefolding/main.js\n",
      "\u001b[32m[I 01:38:13 InstallContribNbextensionsApp]\u001b[m Copying: /Users/austin/anaconda/lib/python3.5/site-packages/jupyter_contrib_nbextensions/nbextensions/codefolding/readme.md -> /Users/austin/Library/Jupyter/nbextensions/codefolding/readme.md\n",
      "\u001b[32m[I 01:38:13 InstallContribNbextensionsApp]\u001b[m - Validating: \u001b[32mOK\u001b[0m\n",
      "\u001b[32m[I 01:38:13 InstallContribNbextensionsApp]\u001b[m Installing /Users/austin/anaconda/lib/python3.5/site-packages/jupyter_contrib_nbextensions/nbextensions/scratchpad -> scratchpad\n",
      "\u001b[32m[I 01:38:13 InstallContribNbextensionsApp]\u001b[m Making directory: /Users/austin/Library/Jupyter/nbextensions/scratchpad/\n",
      "\u001b[32m[I 01:38:13 InstallContribNbextensionsApp]\u001b[m Copying: /Users/austin/anaconda/lib/python3.5/site-packages/jupyter_contrib_nbextensions/nbextensions/scratchpad/demo.gif -> /Users/austin/Library/Jupyter/nbextensions/scratchpad/demo.gif\n",
      "\u001b[32m[I 01:38:13 InstallContribNbextensionsApp]\u001b[m Copying: /Users/austin/anaconda/lib/python3.5/site-packages/jupyter_contrib_nbextensions/nbextensions/scratchpad/LICENSE -> /Users/austin/Library/Jupyter/nbextensions/scratchpad/LICENSE\n",
      "\u001b[32m[I 01:38:13 InstallContribNbextensionsApp]\u001b[m Copying: /Users/austin/anaconda/lib/python3.5/site-packages/jupyter_contrib_nbextensions/nbextensions/scratchpad/main.js -> /Users/austin/Library/Jupyter/nbextensions/scratchpad/main.js\n",
      "\u001b[32m[I 01:38:13 InstallContribNbextensionsApp]\u001b[m Copying: /Users/austin/anaconda/lib/python3.5/site-packages/jupyter_contrib_nbextensions/nbextensions/scratchpad/README.md -> /Users/austin/Library/Jupyter/nbextensions/scratchpad/README.md\n",
      "\u001b[32m[I 01:38:13 InstallContribNbextensionsApp]\u001b[m Copying: /Users/austin/anaconda/lib/python3.5/site-packages/jupyter_contrib_nbextensions/nbextensions/scratchpad/scratchpad.css -> /Users/austin/Library/Jupyter/nbextensions/scratchpad/scratchpad.css\n",
      "\u001b[32m[I 01:38:13 InstallContribNbextensionsApp]\u001b[m Copying: /Users/austin/anaconda/lib/python3.5/site-packages/jupyter_contrib_nbextensions/nbextensions/scratchpad/scratchpad.yaml -> /Users/austin/Library/Jupyter/nbextensions/scratchpad/scratchpad.yaml\n",
      "\u001b[32m[I 01:38:13 InstallContribNbextensionsApp]\u001b[m - Validating: \u001b[32mOK\u001b[0m\n",
      "\u001b[32m[I 01:38:13 InstallContribNbextensionsApp]\u001b[m Installing /Users/austin/anaconda/lib/python3.5/site-packages/jupyter_contrib_nbextensions/nbextensions/code_prettify -> code_prettify\n",
      "\u001b[32m[I 01:38:13 InstallContribNbextensionsApp]\u001b[m Making directory: /Users/austin/Library/Jupyter/nbextensions/code_prettify/\n",
      "\u001b[32m[I 01:38:13 InstallContribNbextensionsApp]\u001b[m Copying: /Users/austin/anaconda/lib/python3.5/site-packages/jupyter_contrib_nbextensions/nbextensions/code_prettify/2to3.js -> /Users/austin/Library/Jupyter/nbextensions/code_prettify/2to3.js\n",
      "\u001b[32m[I 01:38:13 InstallContribNbextensionsApp]\u001b[m Copying: /Users/austin/anaconda/lib/python3.5/site-packages/jupyter_contrib_nbextensions/nbextensions/code_prettify/2to3.yaml -> /Users/austin/Library/Jupyter/nbextensions/code_prettify/2to3.yaml\n",
      "\u001b[32m[I 01:38:13 InstallContribNbextensionsApp]\u001b[m Copying: /Users/austin/anaconda/lib/python3.5/site-packages/jupyter_contrib_nbextensions/nbextensions/code_prettify/autopep8.js -> /Users/austin/Library/Jupyter/nbextensions/code_prettify/autopep8.js\n",
      "\u001b[32m[I 01:38:13 InstallContribNbextensionsApp]\u001b[m Copying: /Users/austin/anaconda/lib/python3.5/site-packages/jupyter_contrib_nbextensions/nbextensions/code_prettify/autopep8.yaml -> /Users/austin/Library/Jupyter/nbextensions/code_prettify/autopep8.yaml\n",
      "\u001b[32m[I 01:38:13 InstallContribNbextensionsApp]\u001b[m Copying: /Users/austin/anaconda/lib/python3.5/site-packages/jupyter_contrib_nbextensions/nbextensions/code_prettify/code_prettify.js -> /Users/austin/Library/Jupyter/nbextensions/code_prettify/code_prettify.js\n",
      "\u001b[32m[I 01:38:13 InstallContribNbextensionsApp]\u001b[m Copying: /Users/austin/anaconda/lib/python3.5/site-packages/jupyter_contrib_nbextensions/nbextensions/code_prettify/code_prettify.yaml -> /Users/austin/Library/Jupyter/nbextensions/code_prettify/code_prettify.yaml\n",
      "\u001b[32m[I 01:38:13 InstallContribNbextensionsApp]\u001b[m Copying: /Users/austin/anaconda/lib/python3.5/site-packages/jupyter_contrib_nbextensions/nbextensions/code_prettify/demo-jv.gif -> /Users/austin/Library/Jupyter/nbextensions/code_prettify/demo-jv.gif\n",
      "\u001b[32m[I 01:38:13 InstallContribNbextensionsApp]\u001b[m Copying: /Users/austin/anaconda/lib/python3.5/site-packages/jupyter_contrib_nbextensions/nbextensions/code_prettify/demo-py.gif -> /Users/austin/Library/Jupyter/nbextensions/code_prettify/demo-py.gif\n",
      "\u001b[32m[I 01:38:13 InstallContribNbextensionsApp]\u001b[m Copying: /Users/austin/anaconda/lib/python3.5/site-packages/jupyter_contrib_nbextensions/nbextensions/code_prettify/demo-R.gif -> /Users/austin/Library/Jupyter/nbextensions/code_prettify/demo-R.gif\n",
      "\u001b[32m[I 01:38:13 InstallContribNbextensionsApp]\u001b[m Copying: /Users/austin/anaconda/lib/python3.5/site-packages/jupyter_contrib_nbextensions/nbextensions/code_prettify/demo_2to3.gif -> /Users/austin/Library/Jupyter/nbextensions/code_prettify/demo_2to3.gif\n",
      "\u001b[32m[I 01:38:13 InstallContribNbextensionsApp]\u001b[m Copying: /Users/austin/anaconda/lib/python3.5/site-packages/jupyter_contrib_nbextensions/nbextensions/code_prettify/kernel_exec_on_cell.js -> /Users/austin/Library/Jupyter/nbextensions/code_prettify/kernel_exec_on_cell.js\n",
      "\u001b[32m[I 01:38:13 InstallContribNbextensionsApp]\u001b[m Copying: /Users/austin/anaconda/lib/python3.5/site-packages/jupyter_contrib_nbextensions/nbextensions/code_prettify/README.md -> /Users/austin/Library/Jupyter/nbextensions/code_prettify/README.md\n",
      "\u001b[32m[I 01:38:13 InstallContribNbextensionsApp]\u001b[m Copying: /Users/austin/anaconda/lib/python3.5/site-packages/jupyter_contrib_nbextensions/nbextensions/code_prettify/README_2to3.md -> /Users/austin/Library/Jupyter/nbextensions/code_prettify/README_2to3.md\n",
      "\u001b[32m[I 01:38:13 InstallContribNbextensionsApp]\u001b[m Copying: /Users/austin/anaconda/lib/python3.5/site-packages/jupyter_contrib_nbextensions/nbextensions/code_prettify/README_autopep8.md -> /Users/austin/Library/Jupyter/nbextensions/code_prettify/README_autopep8.md\n",
      "\u001b[32m[I 01:38:13 InstallContribNbextensionsApp]\u001b[m Copying: /Users/austin/anaconda/lib/python3.5/site-packages/jupyter_contrib_nbextensions/nbextensions/code_prettify/README_code_prettify.md -> /Users/austin/Library/Jupyter/nbextensions/code_prettify/README_code_prettify.md\n",
      "\u001b[32m[I 01:38:13 InstallContribNbextensionsApp]\u001b[m - Validating: \u001b[32mOK\u001b[0m\n",
      "\u001b[32m[I 01:38:13 InstallContribNbextensionsApp]\u001b[m Installing /Users/austin/anaconda/lib/python3.5/site-packages/jupyter_contrib_nbextensions/nbextensions/search-replace -> search-replace\n",
      "\u001b[32m[I 01:38:13 InstallContribNbextensionsApp]\u001b[m Making directory: /Users/austin/Library/Jupyter/nbextensions/search-replace/\n",
      "\u001b[32m[I 01:38:13 InstallContribNbextensionsApp]\u001b[m Copying: /Users/austin/anaconda/lib/python3.5/site-packages/jupyter_contrib_nbextensions/nbextensions/search-replace/icon.png -> /Users/austin/Library/Jupyter/nbextensions/search-replace/icon.png\n",
      "\u001b[32m[I 01:38:13 InstallContribNbextensionsApp]\u001b[m Copying: /Users/austin/anaconda/lib/python3.5/site-packages/jupyter_contrib_nbextensions/nbextensions/search-replace/main.css -> /Users/austin/Library/Jupyter/nbextensions/search-replace/main.css\n",
      "\u001b[32m[I 01:38:13 InstallContribNbextensionsApp]\u001b[m Copying: /Users/austin/anaconda/lib/python3.5/site-packages/jupyter_contrib_nbextensions/nbextensions/search-replace/main.js -> /Users/austin/Library/Jupyter/nbextensions/search-replace/main.js\n",
      "\u001b[32m[I 01:38:13 InstallContribNbextensionsApp]\u001b[m Copying: /Users/austin/anaconda/lib/python3.5/site-packages/jupyter_contrib_nbextensions/nbextensions/search-replace/readme.md -> /Users/austin/Library/Jupyter/nbextensions/search-replace/readme.md\n",
      "\u001b[32m[I 01:38:13 InstallContribNbextensionsApp]\u001b[m Copying: /Users/austin/anaconda/lib/python3.5/site-packages/jupyter_contrib_nbextensions/nbextensions/search-replace/search-replace.yaml -> /Users/austin/Library/Jupyter/nbextensions/search-replace/search-replace.yaml\n",
      "\u001b[32m[I 01:38:13 InstallContribNbextensionsApp]\u001b[m - Validating: \u001b[32mOK\u001b[0m\n",
      "\u001b[32m[I 01:38:13 InstallContribNbextensionsApp]\u001b[m Installing /Users/austin/anaconda/lib/python3.5/site-packages/jupyter_contrib_nbextensions/nbextensions/datestamper -> datestamper\n",
      "\u001b[32m[I 01:38:13 InstallContribNbextensionsApp]\u001b[m Making directory: /Users/austin/Library/Jupyter/nbextensions/datestamper/\n",
      "\u001b[32m[I 01:38:13 InstallContribNbextensionsApp]\u001b[m Copying: /Users/austin/anaconda/lib/python3.5/site-packages/jupyter_contrib_nbextensions/nbextensions/datestamper/icon.png -> /Users/austin/Library/Jupyter/nbextensions/datestamper/icon.png\n",
      "\u001b[32m[I 01:38:13 InstallContribNbextensionsApp]\u001b[m Copying: /Users/austin/anaconda/lib/python3.5/site-packages/jupyter_contrib_nbextensions/nbextensions/datestamper/main.js -> /Users/austin/Library/Jupyter/nbextensions/datestamper/main.js\n",
      "\u001b[32m[I 01:38:13 InstallContribNbextensionsApp]\u001b[m Copying: /Users/austin/anaconda/lib/python3.5/site-packages/jupyter_contrib_nbextensions/nbextensions/datestamper/main.yaml -> /Users/austin/Library/Jupyter/nbextensions/datestamper/main.yaml\n",
      "\u001b[32m[I 01:38:13 InstallContribNbextensionsApp]\u001b[m Copying: /Users/austin/anaconda/lib/python3.5/site-packages/jupyter_contrib_nbextensions/nbextensions/datestamper/readme.md -> /Users/austin/Library/Jupyter/nbextensions/datestamper/readme.md\n",
      "\u001b[32m[I 01:38:13 InstallContribNbextensionsApp]\u001b[m - Validating: \u001b[32mOK\u001b[0m\n",
      "\u001b[32m[I 01:38:13 InstallContribNbextensionsApp]\u001b[m Installing /Users/austin/anaconda/lib/python3.5/site-packages/jupyter_contrib_nbextensions/nbextensions/table_beautifier -> table_beautifier\n",
      "\u001b[32m[I 01:38:13 InstallContribNbextensionsApp]\u001b[m Making directory: /Users/austin/Library/Jupyter/nbextensions/table_beautifier/\n",
      "\u001b[32m[I 01:38:13 InstallContribNbextensionsApp]\u001b[m Copying: /Users/austin/anaconda/lib/python3.5/site-packages/jupyter_contrib_nbextensions/nbextensions/table_beautifier/main.css -> /Users/austin/Library/Jupyter/nbextensions/table_beautifier/main.css\n",
      "\u001b[32m[I 01:38:13 InstallContribNbextensionsApp]\u001b[m Copying: /Users/austin/anaconda/lib/python3.5/site-packages/jupyter_contrib_nbextensions/nbextensions/table_beautifier/main.js -> /Users/austin/Library/Jupyter/nbextensions/table_beautifier/main.js\n",
      "\u001b[32m[I 01:38:13 InstallContribNbextensionsApp]\u001b[m Copying: /Users/austin/anaconda/lib/python3.5/site-packages/jupyter_contrib_nbextensions/nbextensions/table_beautifier/README.md -> /Users/austin/Library/Jupyter/nbextensions/table_beautifier/README.md\n",
      "\u001b[32m[I 01:38:13 InstallContribNbextensionsApp]\u001b[m Copying: /Users/austin/anaconda/lib/python3.5/site-packages/jupyter_contrib_nbextensions/nbextensions/table_beautifier/table_beautifier.yaml -> /Users/austin/Library/Jupyter/nbextensions/table_beautifier/table_beautifier.yaml\n",
      "\u001b[32m[I 01:38:13 InstallContribNbextensionsApp]\u001b[m - Validating: \u001b[32mOK\u001b[0m\n",
      "\u001b[32m[I 01:38:13 InstallContribNbextensionsApp]\u001b[m Installing /Users/austin/anaconda/lib/python3.5/site-packages/jupyter_contrib_nbextensions/nbextensions/tree-filter -> tree-filter\n",
      "\u001b[32m[I 01:38:13 InstallContribNbextensionsApp]\u001b[m Making directory: /Users/austin/Library/Jupyter/nbextensions/tree-filter/\n",
      "\u001b[32m[I 01:38:13 InstallContribNbextensionsApp]\u001b[m Copying: /Users/austin/anaconda/lib/python3.5/site-packages/jupyter_contrib_nbextensions/nbextensions/tree-filter/demo.gif -> /Users/austin/Library/Jupyter/nbextensions/tree-filter/demo.gif\n",
      "\u001b[32m[I 01:38:13 InstallContribNbextensionsApp]\u001b[m Copying: /Users/austin/anaconda/lib/python3.5/site-packages/jupyter_contrib_nbextensions/nbextensions/tree-filter/index.js -> /Users/austin/Library/Jupyter/nbextensions/tree-filter/index.js\n",
      "\u001b[32m[I 01:38:13 InstallContribNbextensionsApp]\u001b[m Copying: /Users/austin/anaconda/lib/python3.5/site-packages/jupyter_contrib_nbextensions/nbextensions/tree-filter/readme.md -> /Users/austin/Library/Jupyter/nbextensions/tree-filter/readme.md\n",
      "\u001b[32m[I 01:38:13 InstallContribNbextensionsApp]\u001b[m Copying: /Users/austin/anaconda/lib/python3.5/site-packages/jupyter_contrib_nbextensions/nbextensions/tree-filter/tree-filter.yaml -> /Users/austin/Library/Jupyter/nbextensions/tree-filter/tree-filter.yaml\n",
      "\u001b[32m[I 01:38:13 InstallContribNbextensionsApp]\u001b[m - Validating: \u001b[32mOK\u001b[0m\n",
      "\u001b[32m[I 01:38:13 InstallContribNbextensionsApp]\u001b[m Installing /Users/austin/anaconda/lib/python3.5/site-packages/jupyter_contrib_nbextensions/nbextensions/scroll_down -> scroll_down\n",
      "\u001b[32m[I 01:38:13 InstallContribNbextensionsApp]\u001b[m Making directory: /Users/austin/Library/Jupyter/nbextensions/scroll_down/\n",
      "\u001b[32m[I 01:38:13 InstallContribNbextensionsApp]\u001b[m Copying: /Users/austin/anaconda/lib/python3.5/site-packages/jupyter_contrib_nbextensions/nbextensions/scroll_down/config.yaml -> /Users/austin/Library/Jupyter/nbextensions/scroll_down/config.yaml\n",
      "\u001b[32m[I 01:38:13 InstallContribNbextensionsApp]\u001b[m Copying: /Users/austin/anaconda/lib/python3.5/site-packages/jupyter_contrib_nbextensions/nbextensions/scroll_down/icon.png -> /Users/austin/Library/Jupyter/nbextensions/scroll_down/icon.png\n",
      "\u001b[32m[I 01:38:13 InstallContribNbextensionsApp]\u001b[m Copying: /Users/austin/anaconda/lib/python3.5/site-packages/jupyter_contrib_nbextensions/nbextensions/scroll_down/main.js -> /Users/austin/Library/Jupyter/nbextensions/scroll_down/main.js\n",
      "\u001b[32m[I 01:38:13 InstallContribNbextensionsApp]\u001b[m Copying: /Users/austin/anaconda/lib/python3.5/site-packages/jupyter_contrib_nbextensions/nbextensions/scroll_down/readme.md -> /Users/austin/Library/Jupyter/nbextensions/scroll_down/readme.md\n",
      "\u001b[32m[I 01:38:13 InstallContribNbextensionsApp]\u001b[m - Validating: \u001b[32mOK\u001b[0m\n",
      "\u001b[32m[I 01:38:13 InstallContribNbextensionsApp]\u001b[m Installing /Users/austin/anaconda/lib/python3.5/site-packages/jupyter_contrib_nbextensions/nbextensions/execute_time -> execute_time\n",
      "\u001b[32m[I 01:38:13 InstallContribNbextensionsApp]\u001b[m Making directory: /Users/austin/Library/Jupyter/nbextensions/execute_time/\n",
      "\u001b[32m[I 01:38:13 InstallContribNbextensionsApp]\u001b[m Copying: /Users/austin/anaconda/lib/python3.5/site-packages/jupyter_contrib_nbextensions/nbextensions/execute_time/ExecuteTime.css -> /Users/austin/Library/Jupyter/nbextensions/execute_time/ExecuteTime.css\n",
      "\u001b[32m[I 01:38:13 InstallContribNbextensionsApp]\u001b[m Copying: /Users/austin/anaconda/lib/python3.5/site-packages/jupyter_contrib_nbextensions/nbextensions/execute_time/ExecuteTime.js -> /Users/austin/Library/Jupyter/nbextensions/execute_time/ExecuteTime.js\n",
      "\u001b[32m[I 01:38:13 InstallContribNbextensionsApp]\u001b[m Copying: /Users/austin/anaconda/lib/python3.5/site-packages/jupyter_contrib_nbextensions/nbextensions/execute_time/ExecuteTime.yaml -> /Users/austin/Library/Jupyter/nbextensions/execute_time/ExecuteTime.yaml\n",
      "\u001b[32m[I 01:38:13 InstallContribNbextensionsApp]\u001b[m Copying: /Users/austin/anaconda/lib/python3.5/site-packages/jupyter_contrib_nbextensions/nbextensions/execute_time/execution-timings-box.png -> /Users/austin/Library/Jupyter/nbextensions/execute_time/execution-timings-box.png\n",
      "\u001b[32m[I 01:38:13 InstallContribNbextensionsApp]\u001b[m Copying: /Users/austin/anaconda/lib/python3.5/site-packages/jupyter_contrib_nbextensions/nbextensions/execute_time/execution-timings-menu.png -> /Users/austin/Library/Jupyter/nbextensions/execute_time/execution-timings-menu.png\n",
      "\u001b[32m[I 01:38:13 InstallContribNbextensionsApp]\u001b[m Copying: /Users/austin/anaconda/lib/python3.5/site-packages/jupyter_contrib_nbextensions/nbextensions/execute_time/icon.png -> /Users/austin/Library/Jupyter/nbextensions/execute_time/icon.png\n",
      "\u001b[32m[I 01:38:13 InstallContribNbextensionsApp]\u001b[m Copying: /Users/austin/anaconda/lib/python3.5/site-packages/jupyter_contrib_nbextensions/nbextensions/execute_time/readme.md -> /Users/austin/Library/Jupyter/nbextensions/execute_time/readme.md\n",
      "\u001b[32m[I 01:38:13 InstallContribNbextensionsApp]\u001b[m - Validating: \u001b[32mOK\u001b[0m\n",
      "\u001b[32m[I 01:38:13 InstallContribNbextensionsApp]\u001b[m Installing /Users/austin/anaconda/lib/python3.5/site-packages/jupyter_contrib_nbextensions/nbextensions/move_selected_cells -> move_selected_cells\n",
      "\u001b[32m[I 01:38:13 InstallContribNbextensionsApp]\u001b[m Making directory: /Users/austin/Library/Jupyter/nbextensions/move_selected_cells/\n",
      "\u001b[32m[I 01:38:13 InstallContribNbextensionsApp]\u001b[m Copying: /Users/austin/anaconda/lib/python3.5/site-packages/jupyter_contrib_nbextensions/nbextensions/move_selected_cells/main.js -> /Users/austin/Library/Jupyter/nbextensions/move_selected_cells/main.js\n",
      "\u001b[32m[I 01:38:13 InstallContribNbextensionsApp]\u001b[m Copying: /Users/austin/anaconda/lib/python3.5/site-packages/jupyter_contrib_nbextensions/nbextensions/move_selected_cells/move_selected_cells.yaml -> /Users/austin/Library/Jupyter/nbextensions/move_selected_cells/move_selected_cells.yaml\n",
      "\u001b[32m[I 01:38:13 InstallContribNbextensionsApp]\u001b[m Copying: /Users/austin/anaconda/lib/python3.5/site-packages/jupyter_contrib_nbextensions/nbextensions/move_selected_cells/README.md -> /Users/austin/Library/Jupyter/nbextensions/move_selected_cells/README.md\n",
      "\u001b[32m[I 01:38:13 InstallContribNbextensionsApp]\u001b[m - Validating: \u001b[32mOK\u001b[0m\n",
      "\u001b[32m[I 01:38:13 InstallContribNbextensionsApp]\u001b[m Installing /Users/austin/anaconda/lib/python3.5/site-packages/jupyter_contrib_nbextensions/nbextensions/comment-uncomment -> comment-uncomment\n",
      "\u001b[32m[I 01:38:13 InstallContribNbextensionsApp]\u001b[m Making directory: /Users/austin/Library/Jupyter/nbextensions/comment-uncomment/\n",
      "\u001b[32m[I 01:38:13 InstallContribNbextensionsApp]\u001b[m Copying: /Users/austin/anaconda/lib/python3.5/site-packages/jupyter_contrib_nbextensions/nbextensions/comment-uncomment/comment-uncomment.yaml -> /Users/austin/Library/Jupyter/nbextensions/comment-uncomment/comment-uncomment.yaml\n",
      "\u001b[32m[I 01:38:13 InstallContribNbextensionsApp]\u001b[m Copying: /Users/austin/anaconda/lib/python3.5/site-packages/jupyter_contrib_nbextensions/nbextensions/comment-uncomment/icon.png -> /Users/austin/Library/Jupyter/nbextensions/comment-uncomment/icon.png\n",
      "\u001b[32m[I 01:38:13 InstallContribNbextensionsApp]\u001b[m Copying: /Users/austin/anaconda/lib/python3.5/site-packages/jupyter_contrib_nbextensions/nbextensions/comment-uncomment/main.js -> /Users/austin/Library/Jupyter/nbextensions/comment-uncomment/main.js\n",
      "\u001b[32m[I 01:38:13 InstallContribNbextensionsApp]\u001b[m Copying: /Users/austin/anaconda/lib/python3.5/site-packages/jupyter_contrib_nbextensions/nbextensions/comment-uncomment/readme.md -> /Users/austin/Library/Jupyter/nbextensions/comment-uncomment/readme.md\n",
      "\u001b[32m[I 01:38:13 InstallContribNbextensionsApp]\u001b[m - Validating: \u001b[32mOK\u001b[0m\n",
      "\u001b[32m[I 01:38:13 InstallContribNbextensionsApp]\u001b[m Installing /Users/austin/anaconda/lib/python3.5/site-packages/jupyter_contrib_nbextensions/nbextensions/dragdrop -> dragdrop\n",
      "\u001b[32m[I 01:38:13 InstallContribNbextensionsApp]\u001b[m Making directory: /Users/austin/Library/Jupyter/nbextensions/dragdrop/\n",
      "\u001b[32m[I 01:38:13 InstallContribNbextensionsApp]\u001b[m Copying: /Users/austin/anaconda/lib/python3.5/site-packages/jupyter_contrib_nbextensions/nbextensions/dragdrop/dragdrop.yaml -> /Users/austin/Library/Jupyter/nbextensions/dragdrop/dragdrop.yaml\n",
      "\u001b[32m[I 01:38:13 InstallContribNbextensionsApp]\u001b[m Copying: /Users/austin/anaconda/lib/python3.5/site-packages/jupyter_contrib_nbextensions/nbextensions/dragdrop/icon.png -> /Users/austin/Library/Jupyter/nbextensions/dragdrop/icon.png\n",
      "\u001b[32m[I 01:38:13 InstallContribNbextensionsApp]\u001b[m Copying: /Users/austin/anaconda/lib/python3.5/site-packages/jupyter_contrib_nbextensions/nbextensions/dragdrop/main.js -> /Users/austin/Library/Jupyter/nbextensions/dragdrop/main.js\n",
      "\u001b[32m[I 01:38:13 InstallContribNbextensionsApp]\u001b[m Copying: /Users/austin/anaconda/lib/python3.5/site-packages/jupyter_contrib_nbextensions/nbextensions/dragdrop/readme.md -> /Users/austin/Library/Jupyter/nbextensions/dragdrop/readme.md\n",
      "\u001b[32m[I 01:38:13 InstallContribNbextensionsApp]\u001b[m - Validating: \u001b[32mOK\u001b[0m\n",
      "\u001b[32m[I 01:38:13 InstallContribNbextensionsApp]\u001b[m Installing /Users/austin/anaconda/lib/python3.5/site-packages/jupyter_contrib_nbextensions/nbextensions/spellchecker -> spellchecker\n",
      "\u001b[32m[I 01:38:13 InstallContribNbextensionsApp]\u001b[m Making directory: /Users/austin/Library/Jupyter/nbextensions/spellchecker/\n",
      "\u001b[32m[I 01:38:13 InstallContribNbextensionsApp]\u001b[m Copying: /Users/austin/anaconda/lib/python3.5/site-packages/jupyter_contrib_nbextensions/nbextensions/spellchecker/config.yaml -> /Users/austin/Library/Jupyter/nbextensions/spellchecker/config.yaml\n",
      "\u001b[32m[I 01:38:13 InstallContribNbextensionsApp]\u001b[m Copying: /Users/austin/anaconda/lib/python3.5/site-packages/jupyter_contrib_nbextensions/nbextensions/spellchecker/download_new_dict.py -> /Users/austin/Library/Jupyter/nbextensions/spellchecker/download_new_dict.py\n",
      "\u001b[32m[I 01:38:13 InstallContribNbextensionsApp]\u001b[m Copying: /Users/austin/anaconda/lib/python3.5/site-packages/jupyter_contrib_nbextensions/nbextensions/spellchecker/main.css -> /Users/austin/Library/Jupyter/nbextensions/spellchecker/main.css\n",
      "\u001b[32m[I 01:38:13 InstallContribNbextensionsApp]\u001b[m Copying: /Users/austin/anaconda/lib/python3.5/site-packages/jupyter_contrib_nbextensions/nbextensions/spellchecker/main.js -> /Users/austin/Library/Jupyter/nbextensions/spellchecker/main.js\n",
      "\u001b[32m[I 01:38:13 InstallContribNbextensionsApp]\u001b[m Copying: /Users/austin/anaconda/lib/python3.5/site-packages/jupyter_contrib_nbextensions/nbextensions/spellchecker/README.md -> /Users/austin/Library/Jupyter/nbextensions/spellchecker/README.md\n",
      "\u001b[32m[I 01:38:13 InstallContribNbextensionsApp]\u001b[m Copying: /Users/austin/anaconda/lib/python3.5/site-packages/jupyter_contrib_nbextensions/nbextensions/spellchecker/screenshot.png -> /Users/austin/Library/Jupyter/nbextensions/spellchecker/screenshot.png\n",
      "\u001b[32m[I 01:38:13 InstallContribNbextensionsApp]\u001b[m Making directory: /Users/austin/Library/Jupyter/nbextensions/spellchecker/__pycache__\n",
      "\u001b[32m[I 01:38:13 InstallContribNbextensionsApp]\u001b[m Copying: /Users/austin/anaconda/lib/python3.5/site-packages/jupyter_contrib_nbextensions/nbextensions/spellchecker/__pycache__/download_new_dict.cpython-35.pyc -> /Users/austin/Library/Jupyter/nbextensions/spellchecker/__pycache__/download_new_dict.cpython-35.pyc\n",
      "\u001b[32m[I 01:38:13 InstallContribNbextensionsApp]\u001b[m Making directory: /Users/austin/Library/Jupyter/nbextensions/spellchecker/typo\n",
      "\u001b[32m[I 01:38:13 InstallContribNbextensionsApp]\u001b[m Copying: /Users/austin/anaconda/lib/python3.5/site-packages/jupyter_contrib_nbextensions/nbextensions/spellchecker/typo/LICENSE.txt -> /Users/austin/Library/Jupyter/nbextensions/spellchecker/typo/LICENSE.txt\n",
      "\u001b[32m[I 01:38:13 InstallContribNbextensionsApp]\u001b[m Copying: /Users/austin/anaconda/lib/python3.5/site-packages/jupyter_contrib_nbextensions/nbextensions/spellchecker/typo/typo.js -> /Users/austin/Library/Jupyter/nbextensions/spellchecker/typo/typo.js\n",
      "\u001b[32m[I 01:38:13 InstallContribNbextensionsApp]\u001b[m - Validating: \u001b[32mOK\u001b[0m\n",
      "\u001b[32m[I 01:38:13 InstallContribNbextensionsApp]\u001b[m Installing /Users/austin/anaconda/lib/python3.5/site-packages/jupyter_contrib_nbextensions/nbextensions/skip-traceback -> skip-traceback\n",
      "\u001b[32m[I 01:38:13 InstallContribNbextensionsApp]\u001b[m Making directory: /Users/austin/Library/Jupyter/nbextensions/skip-traceback/\n",
      "\u001b[32m[I 01:38:13 InstallContribNbextensionsApp]\u001b[m Copying: /Users/austin/anaconda/lib/python3.5/site-packages/jupyter_contrib_nbextensions/nbextensions/skip-traceback/icon.png -> /Users/austin/Library/Jupyter/nbextensions/skip-traceback/icon.png\n",
      "\u001b[32m[I 01:38:13 InstallContribNbextensionsApp]\u001b[m Copying: /Users/austin/anaconda/lib/python3.5/site-packages/jupyter_contrib_nbextensions/nbextensions/skip-traceback/main.js -> /Users/austin/Library/Jupyter/nbextensions/skip-traceback/main.js\n",
      "\u001b[32m[I 01:38:13 InstallContribNbextensionsApp]\u001b[m Copying: /Users/austin/anaconda/lib/python3.5/site-packages/jupyter_contrib_nbextensions/nbextensions/skip-traceback/readme.md -> /Users/austin/Library/Jupyter/nbextensions/skip-traceback/readme.md\n",
      "\u001b[32m[I 01:38:13 InstallContribNbextensionsApp]\u001b[m Copying: /Users/austin/anaconda/lib/python3.5/site-packages/jupyter_contrib_nbextensions/nbextensions/skip-traceback/skip-traceback.png -> /Users/austin/Library/Jupyter/nbextensions/skip-traceback/skip-traceback.png\n",
      "\u001b[32m[I 01:38:13 InstallContribNbextensionsApp]\u001b[m Copying: /Users/austin/anaconda/lib/python3.5/site-packages/jupyter_contrib_nbextensions/nbextensions/skip-traceback/skip-traceback.yaml -> /Users/austin/Library/Jupyter/nbextensions/skip-traceback/skip-traceback.yaml\n",
      "\u001b[32m[I 01:38:13 InstallContribNbextensionsApp]\u001b[m Copying: /Users/austin/anaconda/lib/python3.5/site-packages/jupyter_contrib_nbextensions/nbextensions/skip-traceback/traceback.png -> /Users/austin/Library/Jupyter/nbextensions/skip-traceback/traceback.png\n",
      "\u001b[32m[I 01:38:13 InstallContribNbextensionsApp]\u001b[m - Validating: \u001b[32mOK\u001b[0m\n",
      "\u001b[32m[I 01:38:13 InstallContribNbextensionsApp]\u001b[m Installing /Users/austin/anaconda/lib/python3.5/site-packages/jupyter_contrib_nbextensions/nbextensions/select_keymap -> select_keymap\n",
      "\u001b[32m[I 01:38:13 InstallContribNbextensionsApp]\u001b[m Making directory: /Users/austin/Library/Jupyter/nbextensions/select_keymap/\n",
      "\u001b[32m[I 01:38:13 InstallContribNbextensionsApp]\u001b[m Copying: /Users/austin/anaconda/lib/python3.5/site-packages/jupyter_contrib_nbextensions/nbextensions/select_keymap/main.js -> /Users/austin/Library/Jupyter/nbextensions/select_keymap/main.js\n",
      "\u001b[32m[I 01:38:13 InstallContribNbextensionsApp]\u001b[m Copying: /Users/austin/anaconda/lib/python3.5/site-packages/jupyter_contrib_nbextensions/nbextensions/select_keymap/README.md -> /Users/austin/Library/Jupyter/nbextensions/select_keymap/README.md\n",
      "\u001b[32m[I 01:38:13 InstallContribNbextensionsApp]\u001b[m Copying: /Users/austin/anaconda/lib/python3.5/site-packages/jupyter_contrib_nbextensions/nbextensions/select_keymap/select_keymap.png -> /Users/austin/Library/Jupyter/nbextensions/select_keymap/select_keymap.png\n",
      "\u001b[32m[I 01:38:13 InstallContribNbextensionsApp]\u001b[m Copying: /Users/austin/anaconda/lib/python3.5/site-packages/jupyter_contrib_nbextensions/nbextensions/select_keymap/select_keymap.yaml -> /Users/austin/Library/Jupyter/nbextensions/select_keymap/select_keymap.yaml\n",
      "\u001b[32m[I 01:38:13 InstallContribNbextensionsApp]\u001b[m - Validating: \u001b[32mOK\u001b[0m\n",
      "\u001b[32m[I 01:38:13 InstallContribNbextensionsApp]\u001b[m Installing /Users/austin/anaconda/lib/python3.5/site-packages/jupyter_contrib_nbextensions/nbextensions/help_panel -> help_panel\n",
      "\u001b[32m[I 01:38:13 InstallContribNbextensionsApp]\u001b[m Making directory: /Users/austin/Library/Jupyter/nbextensions/help_panel/\n",
      "\u001b[32m[I 01:38:13 InstallContribNbextensionsApp]\u001b[m Copying: /Users/austin/anaconda/lib/python3.5/site-packages/jupyter_contrib_nbextensions/nbextensions/help_panel/help_panel.css -> /Users/austin/Library/Jupyter/nbextensions/help_panel/help_panel.css\n",
      "\u001b[32m[I 01:38:13 InstallContribNbextensionsApp]\u001b[m Copying: /Users/austin/anaconda/lib/python3.5/site-packages/jupyter_contrib_nbextensions/nbextensions/help_panel/help_panel.js -> /Users/austin/Library/Jupyter/nbextensions/help_panel/help_panel.js\n",
      "\u001b[32m[I 01:38:13 InstallContribNbextensionsApp]\u001b[m Copying: /Users/austin/anaconda/lib/python3.5/site-packages/jupyter_contrib_nbextensions/nbextensions/help_panel/help_panel.yaml -> /Users/austin/Library/Jupyter/nbextensions/help_panel/help_panel.yaml\n",
      "\u001b[32m[I 01:38:13 InstallContribNbextensionsApp]\u001b[m Copying: /Users/austin/anaconda/lib/python3.5/site-packages/jupyter_contrib_nbextensions/nbextensions/help_panel/help_panel_ext.png -> /Users/austin/Library/Jupyter/nbextensions/help_panel/help_panel_ext.png\n",
      "\u001b[32m[I 01:38:13 InstallContribNbextensionsApp]\u001b[m Copying: /Users/austin/anaconda/lib/python3.5/site-packages/jupyter_contrib_nbextensions/nbextensions/help_panel/help_panel_ext_fullscreen.png -> /Users/austin/Library/Jupyter/nbextensions/help_panel/help_panel_ext_fullscreen.png\n",
      "\u001b[32m[I 01:38:13 InstallContribNbextensionsApp]\u001b[m Copying: /Users/austin/anaconda/lib/python3.5/site-packages/jupyter_contrib_nbextensions/nbextensions/help_panel/icon.png -> /Users/austin/Library/Jupyter/nbextensions/help_panel/icon.png\n",
      "\u001b[32m[I 01:38:13 InstallContribNbextensionsApp]\u001b[m Copying: /Users/austin/anaconda/lib/python3.5/site-packages/jupyter_contrib_nbextensions/nbextensions/help_panel/readme.md -> /Users/austin/Library/Jupyter/nbextensions/help_panel/readme.md\n",
      "\u001b[32m[I 01:38:13 InstallContribNbextensionsApp]\u001b[m Making directory: /Users/austin/Library/Jupyter/nbextensions/help_panel/img\n",
      "\u001b[32m[I 01:38:13 InstallContribNbextensionsApp]\u001b[m Copying: /Users/austin/anaconda/lib/python3.5/site-packages/jupyter_contrib_nbextensions/nbextensions/help_panel/img/handle-v.png -> /Users/austin/Library/Jupyter/nbextensions/help_panel/img/handle-v.png\n",
      "\u001b[32m[I 01:38:13 InstallContribNbextensionsApp]\u001b[m - Validating: \u001b[32mOK\u001b[0m\n",
      "\u001b[32m[I 01:38:13 InstallContribNbextensionsApp]\u001b[m Installing /Users/austin/anaconda/lib/python3.5/site-packages/jupyter_contrib_nbextensions/nbextensions/collapsible_headings -> collapsible_headings\n",
      "\u001b[32m[I 01:38:13 InstallContribNbextensionsApp]\u001b[m Making directory: /Users/austin/Library/Jupyter/nbextensions/collapsible_headings/\n",
      "\u001b[32m[I 01:38:13 InstallContribNbextensionsApp]\u001b[m Copying: /Users/austin/anaconda/lib/python3.5/site-packages/jupyter_contrib_nbextensions/nbextensions/collapsible_headings/collapsible_headings.yaml -> /Users/austin/Library/Jupyter/nbextensions/collapsible_headings/collapsible_headings.yaml\n",
      "\u001b[32m[I 01:38:13 InstallContribNbextensionsApp]\u001b[m Copying: /Users/austin/anaconda/lib/python3.5/site-packages/jupyter_contrib_nbextensions/nbextensions/collapsible_headings/icon.png -> /Users/austin/Library/Jupyter/nbextensions/collapsible_headings/icon.png\n",
      "\u001b[32m[I 01:38:13 InstallContribNbextensionsApp]\u001b[m Copying: /Users/austin/anaconda/lib/python3.5/site-packages/jupyter_contrib_nbextensions/nbextensions/collapsible_headings/main.css -> /Users/austin/Library/Jupyter/nbextensions/collapsible_headings/main.css\n",
      "\u001b[32m[I 01:38:13 InstallContribNbextensionsApp]\u001b[m Copying: /Users/austin/anaconda/lib/python3.5/site-packages/jupyter_contrib_nbextensions/nbextensions/collapsible_headings/main.js -> /Users/austin/Library/Jupyter/nbextensions/collapsible_headings/main.js\n",
      "\u001b[32m[I 01:38:13 InstallContribNbextensionsApp]\u001b[m Copying: /Users/austin/anaconda/lib/python3.5/site-packages/jupyter_contrib_nbextensions/nbextensions/collapsible_headings/readme.md -> /Users/austin/Library/Jupyter/nbextensions/collapsible_headings/readme.md\n",
      "\u001b[32m[I 01:38:13 InstallContribNbextensionsApp]\u001b[m Copying: /Users/austin/anaconda/lib/python3.5/site-packages/jupyter_contrib_nbextensions/nbextensions/collapsible_headings/screenshot.png -> /Users/austin/Library/Jupyter/nbextensions/collapsible_headings/screenshot.png\n",
      "\u001b[32m[I 01:38:13 InstallContribNbextensionsApp]\u001b[m - Validating: \u001b[32mOK\u001b[0m\n",
      "\u001b[32m[I 01:38:13 InstallContribNbextensionsApp]\u001b[m Installing /Users/austin/anaconda/lib/python3.5/site-packages/jupyter_contrib_nbextensions/nbextensions/gist_it -> gist_it\n",
      "\u001b[32m[I 01:38:13 InstallContribNbextensionsApp]\u001b[m Making directory: /Users/austin/Library/Jupyter/nbextensions/gist_it/\n",
      "\u001b[32m[I 01:38:13 InstallContribNbextensionsApp]\u001b[m Copying: /Users/austin/anaconda/lib/python3.5/site-packages/jupyter_contrib_nbextensions/nbextensions/gist_it/gist_it.yaml -> /Users/austin/Library/Jupyter/nbextensions/gist_it/gist_it.yaml\n",
      "\u001b[32m[I 01:38:13 InstallContribNbextensionsApp]\u001b[m Copying: /Users/austin/anaconda/lib/python3.5/site-packages/jupyter_contrib_nbextensions/nbextensions/gist_it/icon.png -> /Users/austin/Library/Jupyter/nbextensions/gist_it/icon.png\n",
      "\u001b[32m[I 01:38:13 InstallContribNbextensionsApp]\u001b[m Copying: /Users/austin/anaconda/lib/python3.5/site-packages/jupyter_contrib_nbextensions/nbextensions/gist_it/main.js -> /Users/austin/Library/Jupyter/nbextensions/gist_it/main.js\n",
      "\u001b[32m[I 01:38:13 InstallContribNbextensionsApp]\u001b[m Copying: /Users/austin/anaconda/lib/python3.5/site-packages/jupyter_contrib_nbextensions/nbextensions/gist_it/readme.md -> /Users/austin/Library/Jupyter/nbextensions/gist_it/readme.md\n",
      "\u001b[32m[I 01:38:13 InstallContribNbextensionsApp]\u001b[m - Validating: \u001b[32mOK\u001b[0m\n",
      "\u001b[32m[I 01:38:13 InstallContribNbextensionsApp]\u001b[m Installing /Users/austin/anaconda/lib/python3.5/site-packages/jupyter_contrib_nbextensions/nbextensions/exercise2 -> exercise2\n",
      "\u001b[32m[I 01:38:13 InstallContribNbextensionsApp]\u001b[m Making directory: /Users/austin/Library/Jupyter/nbextensions/exercise2/\n",
      "\u001b[32m[I 01:38:13 InstallContribNbextensionsApp]\u001b[m Copying: /Users/austin/anaconda/lib/python3.5/site-packages/jupyter_contrib_nbextensions/nbextensions/exercise2/exercise2.yaml -> /Users/austin/Library/Jupyter/nbextensions/exercise2/exercise2.yaml\n",
      "\u001b[32m[I 01:38:13 InstallContribNbextensionsApp]\u001b[m Copying: /Users/austin/anaconda/lib/python3.5/site-packages/jupyter_contrib_nbextensions/nbextensions/exercise2/icon.png -> /Users/austin/Library/Jupyter/nbextensions/exercise2/icon.png\n",
      "\u001b[32m[I 01:38:13 InstallContribNbextensionsApp]\u001b[m Copying: /Users/austin/anaconda/lib/python3.5/site-packages/jupyter_contrib_nbextensions/nbextensions/exercise2/image.gif -> /Users/austin/Library/Jupyter/nbextensions/exercise2/image.gif\n",
      "\u001b[32m[I 01:38:13 InstallContribNbextensionsApp]\u001b[m Copying: /Users/austin/anaconda/lib/python3.5/site-packages/jupyter_contrib_nbextensions/nbextensions/exercise2/main.css -> /Users/austin/Library/Jupyter/nbextensions/exercise2/main.css\n",
      "\u001b[32m[I 01:38:13 InstallContribNbextensionsApp]\u001b[m Copying: /Users/austin/anaconda/lib/python3.5/site-packages/jupyter_contrib_nbextensions/nbextensions/exercise2/main.js -> /Users/austin/Library/Jupyter/nbextensions/exercise2/main.js\n",
      "\u001b[32m[I 01:38:13 InstallContribNbextensionsApp]\u001b[m Copying: /Users/austin/anaconda/lib/python3.5/site-packages/jupyter_contrib_nbextensions/nbextensions/exercise2/readme.md -> /Users/austin/Library/Jupyter/nbextensions/exercise2/readme.md\n",
      "\u001b[32m[I 01:38:13 InstallContribNbextensionsApp]\u001b[m - Validating: \u001b[32mOK\u001b[0m\n",
      "\u001b[32m[I 01:38:13 InstallContribNbextensionsApp]\u001b[m Installing /Users/austin/anaconda/lib/python3.5/site-packages/jupyter_contrib_nbextensions/nbextensions/keyboard_shortcut_editor -> keyboard_shortcut_editor\n",
      "\u001b[32m[I 01:38:13 InstallContribNbextensionsApp]\u001b[m Making directory: /Users/austin/Library/Jupyter/nbextensions/keyboard_shortcut_editor/\n",
      "\u001b[32m[I 01:38:13 InstallContribNbextensionsApp]\u001b[m Copying: /Users/austin/anaconda/lib/python3.5/site-packages/jupyter_contrib_nbextensions/nbextensions/keyboard_shortcut_editor/icon.png -> /Users/austin/Library/Jupyter/nbextensions/keyboard_shortcut_editor/icon.png\n",
      "\u001b[32m[I 01:38:13 InstallContribNbextensionsApp]\u001b[m Copying: /Users/austin/anaconda/lib/python3.5/site-packages/jupyter_contrib_nbextensions/nbextensions/keyboard_shortcut_editor/keyboard_shortcut_editor.yaml -> /Users/austin/Library/Jupyter/nbextensions/keyboard_shortcut_editor/keyboard_shortcut_editor.yaml\n",
      "\u001b[32m[I 01:38:13 InstallContribNbextensionsApp]\u001b[m Copying: /Users/austin/anaconda/lib/python3.5/site-packages/jupyter_contrib_nbextensions/nbextensions/keyboard_shortcut_editor/kse_components.js -> /Users/austin/Library/Jupyter/nbextensions/keyboard_shortcut_editor/kse_components.js\n",
      "\u001b[32m[I 01:38:13 InstallContribNbextensionsApp]\u001b[m Copying: /Users/austin/anaconda/lib/python3.5/site-packages/jupyter_contrib_nbextensions/nbextensions/keyboard_shortcut_editor/main.css -> /Users/austin/Library/Jupyter/nbextensions/keyboard_shortcut_editor/main.css\n",
      "\u001b[32m[I 01:38:13 InstallContribNbextensionsApp]\u001b[m Copying: /Users/austin/anaconda/lib/python3.5/site-packages/jupyter_contrib_nbextensions/nbextensions/keyboard_shortcut_editor/main.js -> /Users/austin/Library/Jupyter/nbextensions/keyboard_shortcut_editor/main.js\n",
      "\u001b[32m[I 01:38:13 InstallContribNbextensionsApp]\u001b[m Copying: /Users/austin/anaconda/lib/python3.5/site-packages/jupyter_contrib_nbextensions/nbextensions/keyboard_shortcut_editor/quickhelp_shim.js -> /Users/austin/Library/Jupyter/nbextensions/keyboard_shortcut_editor/quickhelp_shim.js\n",
      "\u001b[32m[I 01:38:13 InstallContribNbextensionsApp]\u001b[m Copying: /Users/austin/anaconda/lib/python3.5/site-packages/jupyter_contrib_nbextensions/nbextensions/keyboard_shortcut_editor/README.md -> /Users/austin/Library/Jupyter/nbextensions/keyboard_shortcut_editor/README.md\n",
      "\u001b[32m[I 01:38:13 InstallContribNbextensionsApp]\u001b[m Copying: /Users/austin/anaconda/lib/python3.5/site-packages/jupyter_contrib_nbextensions/nbextensions/keyboard_shortcut_editor/readme_add_new_link.png -> /Users/austin/Library/Jupyter/nbextensions/keyboard_shortcut_editor/readme_add_new_link.png\n",
      "\u001b[32m[I 01:38:13 InstallContribNbextensionsApp]\u001b[m Copying: /Users/austin/anaconda/lib/python3.5/site-packages/jupyter_contrib_nbextensions/nbextensions/keyboard_shortcut_editor/readme_add_new_select_action.png -> /Users/austin/Library/Jupyter/nbextensions/keyboard_shortcut_editor/readme_add_new_select_action.png\n",
      "\u001b[32m[I 01:38:13 InstallContribNbextensionsApp]\u001b[m Copying: /Users/austin/anaconda/lib/python3.5/site-packages/jupyter_contrib_nbextensions/nbextensions/keyboard_shortcut_editor/readme_comma.png -> /Users/austin/Library/Jupyter/nbextensions/keyboard_shortcut_editor/readme_comma.png\n",
      "\u001b[32m[I 01:38:13 InstallContribNbextensionsApp]\u001b[m Copying: /Users/austin/anaconda/lib/python3.5/site-packages/jupyter_contrib_nbextensions/nbextensions/keyboard_shortcut_editor/readme_conflict.png -> /Users/austin/Library/Jupyter/nbextensions/keyboard_shortcut_editor/readme_conflict.png\n",
      "\u001b[32m[I 01:38:13 InstallContribNbextensionsApp]\u001b[m Copying: /Users/austin/anaconda/lib/python3.5/site-packages/jupyter_contrib_nbextensions/nbextensions/keyboard_shortcut_editor/readme_dropdown.png -> /Users/austin/Library/Jupyter/nbextensions/keyboard_shortcut_editor/readme_dropdown.png\n",
      "\u001b[32m[I 01:38:13 InstallContribNbextensionsApp]\u001b[m Copying: /Users/austin/anaconda/lib/python3.5/site-packages/jupyter_contrib_nbextensions/nbextensions/keyboard_shortcut_editor/readme_menu_item.png -> /Users/austin/Library/Jupyter/nbextensions/keyboard_shortcut_editor/readme_menu_item.png\n",
      "\u001b[32m[I 01:38:13 InstallContribNbextensionsApp]\u001b[m Copying: /Users/austin/anaconda/lib/python3.5/site-packages/jupyter_contrib_nbextensions/nbextensions/keyboard_shortcut_editor/readme_reset_disabled.png -> /Users/austin/Library/Jupyter/nbextensions/keyboard_shortcut_editor/readme_reset_disabled.png\n",
      "\u001b[32m[I 01:38:13 InstallContribNbextensionsApp]\u001b[m Copying: /Users/austin/anaconda/lib/python3.5/site-packages/jupyter_contrib_nbextensions/nbextensions/keyboard_shortcut_editor/readme_shortcut_editor_blank.png -> /Users/austin/Library/Jupyter/nbextensions/keyboard_shortcut_editor/readme_shortcut_editor_blank.png\n",
      "\u001b[32m[I 01:38:13 InstallContribNbextensionsApp]\u001b[m Copying: /Users/austin/anaconda/lib/python3.5/site-packages/jupyter_contrib_nbextensions/nbextensions/keyboard_shortcut_editor/readme_shortcut_editor_success.png -> /Users/austin/Library/Jupyter/nbextensions/keyboard_shortcut_editor/readme_shortcut_editor_success.png\n",
      "\u001b[32m[I 01:38:13 InstallContribNbextensionsApp]\u001b[m Copying: /Users/austin/anaconda/lib/python3.5/site-packages/jupyter_contrib_nbextensions/nbextensions/keyboard_shortcut_editor/readme_undefined_key.png -> /Users/austin/Library/Jupyter/nbextensions/keyboard_shortcut_editor/readme_undefined_key.png\n",
      "\u001b[32m[I 01:38:13 InstallContribNbextensionsApp]\u001b[m - Validating: \u001b[32mOK\u001b[0m\n",
      "\u001b[32m[I 01:38:13 InstallContribNbextensionsApp]\u001b[m Installing /Users/austin/anaconda/lib/python3.5/site-packages/jupyter_contrib_nbextensions/nbextensions/limit_output -> limit_output\n",
      "\u001b[32m[I 01:38:13 InstallContribNbextensionsApp]\u001b[m Making directory: /Users/austin/Library/Jupyter/nbextensions/limit_output/\n",
      "\u001b[32m[I 01:38:13 InstallContribNbextensionsApp]\u001b[m Copying: /Users/austin/anaconda/lib/python3.5/site-packages/jupyter_contrib_nbextensions/nbextensions/limit_output/icon.png -> /Users/austin/Library/Jupyter/nbextensions/limit_output/icon.png\n",
      "\u001b[32m[I 01:38:13 InstallContribNbextensionsApp]\u001b[m Copying: /Users/austin/anaconda/lib/python3.5/site-packages/jupyter_contrib_nbextensions/nbextensions/limit_output/limit-output.yaml -> /Users/austin/Library/Jupyter/nbextensions/limit_output/limit-output.yaml\n",
      "\u001b[32m[I 01:38:13 InstallContribNbextensionsApp]\u001b[m Copying: /Users/austin/anaconda/lib/python3.5/site-packages/jupyter_contrib_nbextensions/nbextensions/limit_output/main.js -> /Users/austin/Library/Jupyter/nbextensions/limit_output/main.js\n",
      "\u001b[32m[I 01:38:13 InstallContribNbextensionsApp]\u001b[m Copying: /Users/austin/anaconda/lib/python3.5/site-packages/jupyter_contrib_nbextensions/nbextensions/limit_output/readme.md -> /Users/austin/Library/Jupyter/nbextensions/limit_output/readme.md\n",
      "\u001b[32m[I 01:38:13 InstallContribNbextensionsApp]\u001b[m - Validating: \u001b[32mOK\u001b[0m\n",
      "\u001b[32m[I 01:38:13 InstallContribNbextensionsApp]\u001b[m Installing /Users/austin/anaconda/lib/python3.5/site-packages/jupyter_contrib_nbextensions/nbextensions/toggle_all_line_numbers -> toggle_all_line_numbers\n",
      "\u001b[32m[I 01:38:13 InstallContribNbextensionsApp]\u001b[m Making directory: /Users/austin/Library/Jupyter/nbextensions/toggle_all_line_numbers/\n",
      "\u001b[32m[I 01:38:13 InstallContribNbextensionsApp]\u001b[m Copying: /Users/austin/anaconda/lib/python3.5/site-packages/jupyter_contrib_nbextensions/nbextensions/toggle_all_line_numbers/icon.png -> /Users/austin/Library/Jupyter/nbextensions/toggle_all_line_numbers/icon.png\n",
      "\u001b[32m[I 01:38:13 InstallContribNbextensionsApp]\u001b[m Copying: /Users/austin/anaconda/lib/python3.5/site-packages/jupyter_contrib_nbextensions/nbextensions/toggle_all_line_numbers/main.js -> /Users/austin/Library/Jupyter/nbextensions/toggle_all_line_numbers/main.js\n",
      "\u001b[32m[I 01:38:13 InstallContribNbextensionsApp]\u001b[m Copying: /Users/austin/anaconda/lib/python3.5/site-packages/jupyter_contrib_nbextensions/nbextensions/toggle_all_line_numbers/main.yaml -> /Users/austin/Library/Jupyter/nbextensions/toggle_all_line_numbers/main.yaml\n",
      "\u001b[32m[I 01:38:13 InstallContribNbextensionsApp]\u001b[m Copying: /Users/austin/anaconda/lib/python3.5/site-packages/jupyter_contrib_nbextensions/nbextensions/toggle_all_line_numbers/readme.md -> /Users/austin/Library/Jupyter/nbextensions/toggle_all_line_numbers/readme.md\n",
      "\u001b[32m[I 01:38:13 InstallContribNbextensionsApp]\u001b[m - Validating: \u001b[32mOK\u001b[0m\n",
      "\u001b[32m[I 01:38:13 InstallContribNbextensionsApp]\u001b[m Installing /Users/austin/anaconda/lib/python3.5/site-packages/jupyter_contrib_nbextensions/nbextensions/runtools -> runtools\n",
      "\u001b[32m[I 01:38:13 InstallContribNbextensionsApp]\u001b[m Making directory: /Users/austin/Library/Jupyter/nbextensions/runtools/\n",
      "\u001b[32m[I 01:38:13 InstallContribNbextensionsApp]\u001b[m Copying: /Users/austin/anaconda/lib/python3.5/site-packages/jupyter_contrib_nbextensions/nbextensions/runtools/dummy.js -> /Users/austin/Library/Jupyter/nbextensions/runtools/dummy.js\n",
      "\u001b[32m[I 01:38:13 InstallContribNbextensionsApp]\u001b[m Copying: /Users/austin/anaconda/lib/python3.5/site-packages/jupyter_contrib_nbextensions/nbextensions/runtools/gutter.css -> /Users/austin/Library/Jupyter/nbextensions/runtools/gutter.css\n",
      "\u001b[32m[I 01:38:13 InstallContribNbextensionsApp]\u001b[m Copying: /Users/austin/anaconda/lib/python3.5/site-packages/jupyter_contrib_nbextensions/nbextensions/runtools/icon.png -> /Users/austin/Library/Jupyter/nbextensions/runtools/icon.png\n",
      "\u001b[32m[I 01:38:13 InstallContribNbextensionsApp]\u001b[m Copying: /Users/austin/anaconda/lib/python3.5/site-packages/jupyter_contrib_nbextensions/nbextensions/runtools/main.css -> /Users/austin/Library/Jupyter/nbextensions/runtools/main.css\n",
      "\u001b[32m[I 01:38:13 InstallContribNbextensionsApp]\u001b[m Copying: /Users/austin/anaconda/lib/python3.5/site-packages/jupyter_contrib_nbextensions/nbextensions/runtools/main.js -> /Users/austin/Library/Jupyter/nbextensions/runtools/main.js\n",
      "\u001b[32m[I 01:38:13 InstallContribNbextensionsApp]\u001b[m Copying: /Users/austin/anaconda/lib/python3.5/site-packages/jupyter_contrib_nbextensions/nbextensions/runtools/readme.md -> /Users/austin/Library/Jupyter/nbextensions/runtools/readme.md\n",
      "\u001b[32m[I 01:38:13 InstallContribNbextensionsApp]\u001b[m Copying: /Users/austin/anaconda/lib/python3.5/site-packages/jupyter_contrib_nbextensions/nbextensions/runtools/runtools.yaml -> /Users/austin/Library/Jupyter/nbextensions/runtools/runtools.yaml\n",
      "\u001b[32m[I 01:38:13 InstallContribNbextensionsApp]\u001b[m Copying: /Users/austin/anaconda/lib/python3.5/site-packages/jupyter_contrib_nbextensions/nbextensions/runtools/runtools_execute.png -> /Users/austin/Library/Jupyter/nbextensions/runtools/runtools_execute.png\n",
      "\u001b[32m[I 01:38:13 InstallContribNbextensionsApp]\u001b[m Copying: /Users/austin/anaconda/lib/python3.5/site-packages/jupyter_contrib_nbextensions/nbextensions/runtools/runtools_marker.png -> /Users/austin/Library/Jupyter/nbextensions/runtools/runtools_marker.png\n",
      "\u001b[32m[I 01:38:13 InstallContribNbextensionsApp]\u001b[m Copying: /Users/austin/anaconda/lib/python3.5/site-packages/jupyter_contrib_nbextensions/nbextensions/runtools/runtools_move_lock.png -> /Users/austin/Library/Jupyter/nbextensions/runtools/runtools_move_lock.png\n",
      "\u001b[32m[I 01:38:13 InstallContribNbextensionsApp]\u001b[m Copying: /Users/austin/anaconda/lib/python3.5/site-packages/jupyter_contrib_nbextensions/nbextensions/runtools/runtools_nb.png -> /Users/austin/Library/Jupyter/nbextensions/runtools/runtools_nb.png\n",
      "\u001b[32m[I 01:38:13 InstallContribNbextensionsApp]\u001b[m Copying: /Users/austin/anaconda/lib/python3.5/site-packages/jupyter_contrib_nbextensions/nbextensions/runtools/runtools_show_hide.png -> /Users/austin/Library/Jupyter/nbextensions/runtools/runtools_show_hide.png\n",
      "\u001b[32m[I 01:38:13 InstallContribNbextensionsApp]\u001b[m - Validating: \u001b[32mOK\u001b[0m\n",
      "\u001b[32m[I 01:38:13 InstallContribNbextensionsApp]\u001b[m Installing /Users/austin/anaconda/lib/python3.5/site-packages/jupyter_contrib_nbextensions/nbextensions/hide_input -> hide_input\n",
      "\u001b[32m[I 01:38:13 InstallContribNbextensionsApp]\u001b[m Making directory: /Users/austin/Library/Jupyter/nbextensions/hide_input/\n",
      "\u001b[32m[I 01:38:13 InstallContribNbextensionsApp]\u001b[m Copying: /Users/austin/anaconda/lib/python3.5/site-packages/jupyter_contrib_nbextensions/nbextensions/hide_input/hide-input.yaml -> /Users/austin/Library/Jupyter/nbextensions/hide_input/hide-input.yaml\n",
      "\u001b[32m[I 01:38:13 InstallContribNbextensionsApp]\u001b[m Copying: /Users/austin/anaconda/lib/python3.5/site-packages/jupyter_contrib_nbextensions/nbextensions/hide_input/icon.png -> /Users/austin/Library/Jupyter/nbextensions/hide_input/icon.png\n",
      "\u001b[32m[I 01:38:13 InstallContribNbextensionsApp]\u001b[m Copying: /Users/austin/anaconda/lib/python3.5/site-packages/jupyter_contrib_nbextensions/nbextensions/hide_input/main.js -> /Users/austin/Library/Jupyter/nbextensions/hide_input/main.js\n",
      "\u001b[32m[I 01:38:13 InstallContribNbextensionsApp]\u001b[m Copying: /Users/austin/anaconda/lib/python3.5/site-packages/jupyter_contrib_nbextensions/nbextensions/hide_input/readme.md -> /Users/austin/Library/Jupyter/nbextensions/hide_input/readme.md\n",
      "\u001b[32m[I 01:38:13 InstallContribNbextensionsApp]\u001b[m - Validating: \u001b[32mOK\u001b[0m\n",
      "\u001b[32m[I 01:38:13 InstallContribNbextensionsApp]\u001b[m Installing /Users/austin/anaconda/lib/python3.5/site-packages/jupyter_contrib_nbextensions/nbextensions/code_prettify -> code_prettify\n",
      "\u001b[32m[I 01:38:13 InstallContribNbextensionsApp]\u001b[m Up to date: /Users/austin/Library/Jupyter/nbextensions/code_prettify/2to3.js\n",
      "\u001b[32m[I 01:38:13 InstallContribNbextensionsApp]\u001b[m Up to date: /Users/austin/Library/Jupyter/nbextensions/code_prettify/2to3.yaml\n",
      "\u001b[32m[I 01:38:13 InstallContribNbextensionsApp]\u001b[m Up to date: /Users/austin/Library/Jupyter/nbextensions/code_prettify/autopep8.js\n",
      "\u001b[32m[I 01:38:13 InstallContribNbextensionsApp]\u001b[m Up to date: /Users/austin/Library/Jupyter/nbextensions/code_prettify/autopep8.yaml\n",
      "\u001b[32m[I 01:38:13 InstallContribNbextensionsApp]\u001b[m Up to date: /Users/austin/Library/Jupyter/nbextensions/code_prettify/code_prettify.js\n",
      "\u001b[32m[I 01:38:13 InstallContribNbextensionsApp]\u001b[m Up to date: /Users/austin/Library/Jupyter/nbextensions/code_prettify/code_prettify.yaml\n",
      "\u001b[32m[I 01:38:13 InstallContribNbextensionsApp]\u001b[m Up to date: /Users/austin/Library/Jupyter/nbextensions/code_prettify/demo-jv.gif\n",
      "\u001b[32m[I 01:38:13 InstallContribNbextensionsApp]\u001b[m Up to date: /Users/austin/Library/Jupyter/nbextensions/code_prettify/demo-py.gif\n",
      "\u001b[32m[I 01:38:13 InstallContribNbextensionsApp]\u001b[m Up to date: /Users/austin/Library/Jupyter/nbextensions/code_prettify/demo-R.gif\n",
      "\u001b[32m[I 01:38:13 InstallContribNbextensionsApp]\u001b[m Up to date: /Users/austin/Library/Jupyter/nbextensions/code_prettify/demo_2to3.gif\n",
      "\u001b[32m[I 01:38:13 InstallContribNbextensionsApp]\u001b[m Up to date: /Users/austin/Library/Jupyter/nbextensions/code_prettify/kernel_exec_on_cell.js\n",
      "\u001b[32m[I 01:38:13 InstallContribNbextensionsApp]\u001b[m Up to date: /Users/austin/Library/Jupyter/nbextensions/code_prettify/README.md\n",
      "\u001b[32m[I 01:38:13 InstallContribNbextensionsApp]\u001b[m Up to date: /Users/austin/Library/Jupyter/nbextensions/code_prettify/README_2to3.md\n",
      "\u001b[32m[I 01:38:13 InstallContribNbextensionsApp]\u001b[m Up to date: /Users/austin/Library/Jupyter/nbextensions/code_prettify/README_autopep8.md\n",
      "\u001b[32m[I 01:38:13 InstallContribNbextensionsApp]\u001b[m Up to date: /Users/austin/Library/Jupyter/nbextensions/code_prettify/README_code_prettify.md\n",
      "\u001b[32m[I 01:38:13 InstallContribNbextensionsApp]\u001b[m - Validating: \u001b[32mOK\u001b[0m\n",
      "\u001b[32m[I 01:38:13 InstallContribNbextensionsApp]\u001b[m Installing /Users/austin/anaconda/lib/python3.5/site-packages/jupyter_contrib_nbextensions/nbextensions/rubberband -> rubberband\n",
      "\u001b[32m[I 01:38:13 InstallContribNbextensionsApp]\u001b[m Making directory: /Users/austin/Library/Jupyter/nbextensions/rubberband/\n",
      "\u001b[32m[I 01:38:13 InstallContribNbextensionsApp]\u001b[m Copying: /Users/austin/anaconda/lib/python3.5/site-packages/jupyter_contrib_nbextensions/nbextensions/rubberband/icon.png -> /Users/austin/Library/Jupyter/nbextensions/rubberband/icon.png\n",
      "\u001b[32m[I 01:38:13 InstallContribNbextensionsApp]\u001b[m Copying: /Users/austin/anaconda/lib/python3.5/site-packages/jupyter_contrib_nbextensions/nbextensions/rubberband/main.css -> /Users/austin/Library/Jupyter/nbextensions/rubberband/main.css\n",
      "\u001b[32m[I 01:38:13 InstallContribNbextensionsApp]\u001b[m Copying: /Users/austin/anaconda/lib/python3.5/site-packages/jupyter_contrib_nbextensions/nbextensions/rubberband/main.js -> /Users/austin/Library/Jupyter/nbextensions/rubberband/main.js\n",
      "\u001b[32m[I 01:38:13 InstallContribNbextensionsApp]\u001b[m Copying: /Users/austin/anaconda/lib/python3.5/site-packages/jupyter_contrib_nbextensions/nbextensions/rubberband/readme.md -> /Users/austin/Library/Jupyter/nbextensions/rubberband/readme.md\n",
      "\u001b[32m[I 01:38:13 InstallContribNbextensionsApp]\u001b[m Copying: /Users/austin/anaconda/lib/python3.5/site-packages/jupyter_contrib_nbextensions/nbextensions/rubberband/rubberband.yaml -> /Users/austin/Library/Jupyter/nbextensions/rubberband/rubberband.yaml\n",
      "\u001b[32m[I 01:38:13 InstallContribNbextensionsApp]\u001b[m - Validating: \u001b[32mOK\u001b[0m\n",
      "\u001b[32m[I 01:38:13 InstallContribNbextensionsApp]\u001b[m Installing /Users/austin/anaconda/lib/python3.5/site-packages/jupyter_contrib_nbextensions/nbextensions/notify -> notify\n",
      "\u001b[32m[I 01:38:13 InstallContribNbextensionsApp]\u001b[m Making directory: /Users/austin/Library/Jupyter/nbextensions/notify/\n",
      "\u001b[32m[I 01:38:13 InstallContribNbextensionsApp]\u001b[m Copying: /Users/austin/anaconda/lib/python3.5/site-packages/jupyter_contrib_nbextensions/nbextensions/notify/notification.png -> /Users/austin/Library/Jupyter/nbextensions/notify/notification.png\n",
      "\u001b[32m[I 01:38:13 InstallContribNbextensionsApp]\u001b[m Copying: /Users/austin/anaconda/lib/python3.5/site-packages/jupyter_contrib_nbextensions/nbextensions/notify/notify.js -> /Users/austin/Library/Jupyter/nbextensions/notify/notify.js\n",
      "\u001b[32m[I 01:38:13 InstallContribNbextensionsApp]\u001b[m Copying: /Users/austin/anaconda/lib/python3.5/site-packages/jupyter_contrib_nbextensions/nbextensions/notify/notify.yaml -> /Users/austin/Library/Jupyter/nbextensions/notify/notify.yaml\n",
      "\u001b[32m[I 01:38:13 InstallContribNbextensionsApp]\u001b[m Copying: /Users/austin/anaconda/lib/python3.5/site-packages/jupyter_contrib_nbextensions/nbextensions/notify/readme.md -> /Users/austin/Library/Jupyter/nbextensions/notify/readme.md\n",
      "\u001b[32m[I 01:38:13 InstallContribNbextensionsApp]\u001b[m - Validating: \u001b[32mOK\u001b[0m\n",
      "\u001b[32m[I 01:38:13 InstallContribNbextensionsApp]\u001b[m Installing /Users/austin/anaconda/lib/python3.5/site-packages/jupyter_contrib_nbextensions/nbextensions/hide_input_all -> hide_input_all\n",
      "\u001b[32m[I 01:38:13 InstallContribNbextensionsApp]\u001b[m Making directory: /Users/austin/Library/Jupyter/nbextensions/hide_input_all/\n",
      "\u001b[32m[I 01:38:13 InstallContribNbextensionsApp]\u001b[m Copying: /Users/austin/anaconda/lib/python3.5/site-packages/jupyter_contrib_nbextensions/nbextensions/hide_input_all/hide_input_all.yaml -> /Users/austin/Library/Jupyter/nbextensions/hide_input_all/hide_input_all.yaml\n",
      "\u001b[32m[I 01:38:13 InstallContribNbextensionsApp]\u001b[m Copying: /Users/austin/anaconda/lib/python3.5/site-packages/jupyter_contrib_nbextensions/nbextensions/hide_input_all/hide_input_all_hide.png -> /Users/austin/Library/Jupyter/nbextensions/hide_input_all/hide_input_all_hide.png\n",
      "\u001b[32m[I 01:38:13 InstallContribNbextensionsApp]\u001b[m Copying: /Users/austin/anaconda/lib/python3.5/site-packages/jupyter_contrib_nbextensions/nbextensions/hide_input_all/hide_input_all_show.png -> /Users/austin/Library/Jupyter/nbextensions/hide_input_all/hide_input_all_show.png\n",
      "\u001b[32m[I 01:38:13 InstallContribNbextensionsApp]\u001b[m Copying: /Users/austin/anaconda/lib/python3.5/site-packages/jupyter_contrib_nbextensions/nbextensions/hide_input_all/icon.png -> /Users/austin/Library/Jupyter/nbextensions/hide_input_all/icon.png\n",
      "\u001b[32m[I 01:38:13 InstallContribNbextensionsApp]\u001b[m Copying: /Users/austin/anaconda/lib/python3.5/site-packages/jupyter_contrib_nbextensions/nbextensions/hide_input_all/main.js -> /Users/austin/Library/Jupyter/nbextensions/hide_input_all/main.js\n",
      "\u001b[32m[I 01:38:13 InstallContribNbextensionsApp]\u001b[m Copying: /Users/austin/anaconda/lib/python3.5/site-packages/jupyter_contrib_nbextensions/nbextensions/hide_input_all/readme.md -> /Users/austin/Library/Jupyter/nbextensions/hide_input_all/readme.md\n",
      "\u001b[32m[I 01:38:13 InstallContribNbextensionsApp]\u001b[m - Validating: \u001b[32mOK\u001b[0m\n",
      "\u001b[32m[I 01:38:13 InstallContribNbextensionsApp]\u001b[m Installing /Users/austin/anaconda/lib/python3.5/site-packages/jupyter_contrib_nbextensions/nbextensions/contrib_nbextensions_help_item -> contrib_nbextensions_help_item\n",
      "\u001b[32m[I 01:38:13 InstallContribNbextensionsApp]\u001b[m Making directory: /Users/austin/Library/Jupyter/nbextensions/contrib_nbextensions_help_item/\n",
      "\u001b[32m[I 01:38:13 InstallContribNbextensionsApp]\u001b[m Copying: /Users/austin/anaconda/lib/python3.5/site-packages/jupyter_contrib_nbextensions/nbextensions/contrib_nbextensions_help_item/contrib_nbextensions_help_item.yaml -> /Users/austin/Library/Jupyter/nbextensions/contrib_nbextensions_help_item/contrib_nbextensions_help_item.yaml\n",
      "\u001b[32m[I 01:38:13 InstallContribNbextensionsApp]\u001b[m Copying: /Users/austin/anaconda/lib/python3.5/site-packages/jupyter_contrib_nbextensions/nbextensions/contrib_nbextensions_help_item/main.js -> /Users/austin/Library/Jupyter/nbextensions/contrib_nbextensions_help_item/main.js\n",
      "\u001b[32m[I 01:38:13 InstallContribNbextensionsApp]\u001b[m Copying: /Users/austin/anaconda/lib/python3.5/site-packages/jupyter_contrib_nbextensions/nbextensions/contrib_nbextensions_help_item/README.md -> /Users/austin/Library/Jupyter/nbextensions/contrib_nbextensions_help_item/README.md\n",
      "\u001b[32m[I 01:38:13 InstallContribNbextensionsApp]\u001b[m - Validating: \u001b[32mOK\u001b[0m\n",
      "\u001b[32m[I 01:38:13 InstallContribNbextensionsApp]\u001b[m Installing /Users/austin/anaconda/lib/python3.5/site-packages/jupyter_contrib_nbextensions/nbextensions/navigation-hotkeys -> navigation-hotkeys\n",
      "\u001b[32m[I 01:38:13 InstallContribNbextensionsApp]\u001b[m Making directory: /Users/austin/Library/Jupyter/nbextensions/navigation-hotkeys/\n",
      "\u001b[32m[I 01:38:13 InstallContribNbextensionsApp]\u001b[m Copying: /Users/austin/anaconda/lib/python3.5/site-packages/jupyter_contrib_nbextensions/nbextensions/navigation-hotkeys/hotkeys.yaml -> /Users/austin/Library/Jupyter/nbextensions/navigation-hotkeys/hotkeys.yaml\n",
      "\u001b[32m[I 01:38:13 InstallContribNbextensionsApp]\u001b[m Copying: /Users/austin/anaconda/lib/python3.5/site-packages/jupyter_contrib_nbextensions/nbextensions/navigation-hotkeys/icon.png -> /Users/austin/Library/Jupyter/nbextensions/navigation-hotkeys/icon.png\n",
      "\u001b[32m[I 01:38:13 InstallContribNbextensionsApp]\u001b[m Copying: /Users/austin/anaconda/lib/python3.5/site-packages/jupyter_contrib_nbextensions/nbextensions/navigation-hotkeys/main.js -> /Users/austin/Library/Jupyter/nbextensions/navigation-hotkeys/main.js\n",
      "\u001b[32m[I 01:38:13 InstallContribNbextensionsApp]\u001b[m Copying: /Users/austin/anaconda/lib/python3.5/site-packages/jupyter_contrib_nbextensions/nbextensions/navigation-hotkeys/readme.md -> /Users/austin/Library/Jupyter/nbextensions/navigation-hotkeys/readme.md\n",
      "\u001b[32m[I 01:38:13 InstallContribNbextensionsApp]\u001b[m - Validating: \u001b[32mOK\u001b[0m\n",
      "\u001b[32m[I 01:38:13 InstallContribNbextensionsApp]\u001b[m Installing /Users/austin/anaconda/lib/python3.5/site-packages/jupyter_contrib_nbextensions/nbextensions/autosavetime -> autosavetime\n",
      "\u001b[32m[I 01:38:13 InstallContribNbextensionsApp]\u001b[m Making directory: /Users/austin/Library/Jupyter/nbextensions/autosavetime/\n",
      "\u001b[32m[I 01:38:13 InstallContribNbextensionsApp]\u001b[m Copying: /Users/austin/anaconda/lib/python3.5/site-packages/jupyter_contrib_nbextensions/nbextensions/autosavetime/autosavetime.yaml -> /Users/austin/Library/Jupyter/nbextensions/autosavetime/autosavetime.yaml\n",
      "\u001b[32m[I 01:38:13 InstallContribNbextensionsApp]\u001b[m Copying: /Users/austin/anaconda/lib/python3.5/site-packages/jupyter_contrib_nbextensions/nbextensions/autosavetime/icon.png -> /Users/austin/Library/Jupyter/nbextensions/autosavetime/icon.png\n",
      "\u001b[32m[I 01:38:13 InstallContribNbextensionsApp]\u001b[m Copying: /Users/austin/anaconda/lib/python3.5/site-packages/jupyter_contrib_nbextensions/nbextensions/autosavetime/main.js -> /Users/austin/Library/Jupyter/nbextensions/autosavetime/main.js\n",
      "\u001b[32m[I 01:38:13 InstallContribNbextensionsApp]\u001b[m Copying: /Users/austin/anaconda/lib/python3.5/site-packages/jupyter_contrib_nbextensions/nbextensions/autosavetime/README.md -> /Users/austin/Library/Jupyter/nbextensions/autosavetime/README.md\n",
      "\u001b[32m[I 01:38:13 InstallContribNbextensionsApp]\u001b[m - Validating: \u001b[32mOK\u001b[0m\n",
      "\u001b[32m[I 01:38:13 InstallContribNbextensionsApp]\u001b[m Installing /Users/austin/anaconda/lib/python3.5/site-packages/jupyter_contrib_nbextensions/nbextensions/code_prettify -> code_prettify\n",
      "\u001b[32m[I 01:38:13 InstallContribNbextensionsApp]\u001b[m Up to date: /Users/austin/Library/Jupyter/nbextensions/code_prettify/2to3.js\n",
      "\u001b[32m[I 01:38:13 InstallContribNbextensionsApp]\u001b[m Up to date: /Users/austin/Library/Jupyter/nbextensions/code_prettify/2to3.yaml\n",
      "\u001b[32m[I 01:38:13 InstallContribNbextensionsApp]\u001b[m Up to date: /Users/austin/Library/Jupyter/nbextensions/code_prettify/autopep8.js\n",
      "\u001b[32m[I 01:38:13 InstallContribNbextensionsApp]\u001b[m Up to date: /Users/austin/Library/Jupyter/nbextensions/code_prettify/autopep8.yaml\n",
      "\u001b[32m[I 01:38:13 InstallContribNbextensionsApp]\u001b[m Up to date: /Users/austin/Library/Jupyter/nbextensions/code_prettify/code_prettify.js\n",
      "\u001b[32m[I 01:38:13 InstallContribNbextensionsApp]\u001b[m Up to date: /Users/austin/Library/Jupyter/nbextensions/code_prettify/code_prettify.yaml\n",
      "\u001b[32m[I 01:38:13 InstallContribNbextensionsApp]\u001b[m Up to date: /Users/austin/Library/Jupyter/nbextensions/code_prettify/demo-jv.gif\n",
      "\u001b[32m[I 01:38:13 InstallContribNbextensionsApp]\u001b[m Up to date: /Users/austin/Library/Jupyter/nbextensions/code_prettify/demo-py.gif\n",
      "\u001b[32m[I 01:38:13 InstallContribNbextensionsApp]\u001b[m Up to date: /Users/austin/Library/Jupyter/nbextensions/code_prettify/demo-R.gif\n",
      "\u001b[32m[I 01:38:13 InstallContribNbextensionsApp]\u001b[m Up to date: /Users/austin/Library/Jupyter/nbextensions/code_prettify/demo_2to3.gif\n",
      "\u001b[32m[I 01:38:13 InstallContribNbextensionsApp]\u001b[m Up to date: /Users/austin/Library/Jupyter/nbextensions/code_prettify/kernel_exec_on_cell.js\n",
      "\u001b[32m[I 01:38:13 InstallContribNbextensionsApp]\u001b[m Up to date: /Users/austin/Library/Jupyter/nbextensions/code_prettify/README.md\n",
      "\u001b[32m[I 01:38:13 InstallContribNbextensionsApp]\u001b[m Up to date: /Users/austin/Library/Jupyter/nbextensions/code_prettify/README_2to3.md\n",
      "\u001b[32m[I 01:38:13 InstallContribNbextensionsApp]\u001b[m Up to date: /Users/austin/Library/Jupyter/nbextensions/code_prettify/README_autopep8.md\n",
      "\u001b[32m[I 01:38:13 InstallContribNbextensionsApp]\u001b[m Up to date: /Users/austin/Library/Jupyter/nbextensions/code_prettify/README_code_prettify.md\n",
      "\u001b[32m[I 01:38:13 InstallContribNbextensionsApp]\u001b[m - Validating: \u001b[32mOK\u001b[0m\n",
      "\u001b[32m[I 01:38:13 InstallContribNbextensionsApp]\u001b[m Installing /Users/austin/anaconda/lib/python3.5/site-packages/jupyter_contrib_nbextensions/nbextensions/autoscroll -> autoscroll\n",
      "\u001b[32m[I 01:38:13 InstallContribNbextensionsApp]\u001b[m Making directory: /Users/austin/Library/Jupyter/nbextensions/autoscroll/\n",
      "\u001b[32m[I 01:38:13 InstallContribNbextensionsApp]\u001b[m Copying: /Users/austin/anaconda/lib/python3.5/site-packages/jupyter_contrib_nbextensions/nbextensions/autoscroll/autoscroll.yaml -> /Users/austin/Library/Jupyter/nbextensions/autoscroll/autoscroll.yaml\n",
      "\u001b[32m[I 01:38:13 InstallContribNbextensionsApp]\u001b[m Copying: /Users/austin/anaconda/lib/python3.5/site-packages/jupyter_contrib_nbextensions/nbextensions/autoscroll/icon.png -> /Users/austin/Library/Jupyter/nbextensions/autoscroll/icon.png\n",
      "\u001b[32m[I 01:38:13 InstallContribNbextensionsApp]\u001b[m Copying: /Users/austin/anaconda/lib/python3.5/site-packages/jupyter_contrib_nbextensions/nbextensions/autoscroll/main.js -> /Users/austin/Library/Jupyter/nbextensions/autoscroll/main.js\n",
      "\u001b[32m[I 01:38:13 InstallContribNbextensionsApp]\u001b[m Copying: /Users/austin/anaconda/lib/python3.5/site-packages/jupyter_contrib_nbextensions/nbextensions/autoscroll/README.md -> /Users/austin/Library/Jupyter/nbextensions/autoscroll/README.md\n",
      "\u001b[32m[I 01:38:13 InstallContribNbextensionsApp]\u001b[m - Validating: \u001b[32mOK\u001b[0m\n",
      "\u001b[32m[I 01:38:13 InstallContribNbextensionsApp]\u001b[m Installing /Users/austin/anaconda/lib/python3.5/site-packages/jupyter_contrib_nbextensions/nbextensions/freeze -> freeze\n",
      "\u001b[32m[I 01:38:13 InstallContribNbextensionsApp]\u001b[m Making directory: /Users/austin/Library/Jupyter/nbextensions/freeze/\n",
      "\u001b[32m[I 01:38:13 InstallContribNbextensionsApp]\u001b[m Copying: /Users/austin/anaconda/lib/python3.5/site-packages/jupyter_contrib_nbextensions/nbextensions/freeze/config.yaml -> /Users/austin/Library/Jupyter/nbextensions/freeze/config.yaml\n",
      "\u001b[32m[I 01:38:13 InstallContribNbextensionsApp]\u001b[m Copying: /Users/austin/anaconda/lib/python3.5/site-packages/jupyter_contrib_nbextensions/nbextensions/freeze/icon.png -> /Users/austin/Library/Jupyter/nbextensions/freeze/icon.png\n",
      "\u001b[32m[I 01:38:13 InstallContribNbextensionsApp]\u001b[m Copying: /Users/austin/anaconda/lib/python3.5/site-packages/jupyter_contrib_nbextensions/nbextensions/freeze/main.js -> /Users/austin/Library/Jupyter/nbextensions/freeze/main.js\n",
      "\u001b[32m[I 01:38:13 InstallContribNbextensionsApp]\u001b[m Copying: /Users/austin/anaconda/lib/python3.5/site-packages/jupyter_contrib_nbextensions/nbextensions/freeze/readme.md -> /Users/austin/Library/Jupyter/nbextensions/freeze/readme.md\n",
      "\u001b[32m[I 01:38:13 InstallContribNbextensionsApp]\u001b[m - Validating: \u001b[32mOK\u001b[0m\n",
      "\u001b[32m[I 01:38:13 InstallContribNbextensionsApp]\u001b[m Installing /Users/austin/anaconda/lib/python3.5/site-packages/jupyter_contrib_nbextensions/nbextensions/equation-numbering -> equation-numbering\n",
      "\u001b[32m[I 01:38:13 InstallContribNbextensionsApp]\u001b[m Making directory: /Users/austin/Library/Jupyter/nbextensions/equation-numbering/\n",
      "\u001b[32m[I 01:38:13 InstallContribNbextensionsApp]\u001b[m Copying: /Users/austin/anaconda/lib/python3.5/site-packages/jupyter_contrib_nbextensions/nbextensions/equation-numbering/button.png -> /Users/austin/Library/Jupyter/nbextensions/equation-numbering/button.png\n",
      "\u001b[32m[I 01:38:13 InstallContribNbextensionsApp]\u001b[m Copying: /Users/austin/anaconda/lib/python3.5/site-packages/jupyter_contrib_nbextensions/nbextensions/equation-numbering/icon.png -> /Users/austin/Library/Jupyter/nbextensions/equation-numbering/icon.png\n",
      "\u001b[32m[I 01:38:13 InstallContribNbextensionsApp]\u001b[m Copying: /Users/austin/anaconda/lib/python3.5/site-packages/jupyter_contrib_nbextensions/nbextensions/equation-numbering/info.yaml -> /Users/austin/Library/Jupyter/nbextensions/equation-numbering/info.yaml\n",
      "\u001b[32m[I 01:38:13 InstallContribNbextensionsApp]\u001b[m Copying: /Users/austin/anaconda/lib/python3.5/site-packages/jupyter_contrib_nbextensions/nbextensions/equation-numbering/main.js -> /Users/austin/Library/Jupyter/nbextensions/equation-numbering/main.js\n",
      "\u001b[32m[I 01:38:13 InstallContribNbextensionsApp]\u001b[m Copying: /Users/austin/anaconda/lib/python3.5/site-packages/jupyter_contrib_nbextensions/nbextensions/equation-numbering/readme.md -> /Users/austin/Library/Jupyter/nbextensions/equation-numbering/readme.md\n",
      "\u001b[32m[I 01:38:13 InstallContribNbextensionsApp]\u001b[m - Validating: \u001b[32mOK\u001b[0m\n",
      "\u001b[32m[I 01:38:13 InstallContribNbextensionsApp]\u001b[m Installing /Users/austin/anaconda/lib/python3.5/site-packages/jupyter_contrib_nbextensions/nbextensions/exercise -> exercise\n",
      "\u001b[32m[I 01:38:13 InstallContribNbextensionsApp]\u001b[m Making directory: /Users/austin/Library/Jupyter/nbextensions/exercise/\n",
      "\u001b[32m[I 01:38:13 InstallContribNbextensionsApp]\u001b[m Copying: /Users/austin/anaconda/lib/python3.5/site-packages/jupyter_contrib_nbextensions/nbextensions/exercise/exercise.yaml -> /Users/austin/Library/Jupyter/nbextensions/exercise/exercise.yaml\n",
      "\u001b[32m[I 01:38:13 InstallContribNbextensionsApp]\u001b[m Copying: /Users/austin/anaconda/lib/python3.5/site-packages/jupyter_contrib_nbextensions/nbextensions/exercise/history.md -> /Users/austin/Library/Jupyter/nbextensions/exercise/history.md\n",
      "\u001b[32m[I 01:38:13 InstallContribNbextensionsApp]\u001b[m Copying: /Users/austin/anaconda/lib/python3.5/site-packages/jupyter_contrib_nbextensions/nbextensions/exercise/icon.png -> /Users/austin/Library/Jupyter/nbextensions/exercise/icon.png\n",
      "\u001b[32m[I 01:38:13 InstallContribNbextensionsApp]\u001b[m Copying: /Users/austin/anaconda/lib/python3.5/site-packages/jupyter_contrib_nbextensions/nbextensions/exercise/image.gif -> /Users/austin/Library/Jupyter/nbextensions/exercise/image.gif\n",
      "\u001b[32m[I 01:38:13 InstallContribNbextensionsApp]\u001b[m Copying: /Users/austin/anaconda/lib/python3.5/site-packages/jupyter_contrib_nbextensions/nbextensions/exercise/main.css -> /Users/austin/Library/Jupyter/nbextensions/exercise/main.css\n",
      "\u001b[32m[I 01:38:13 InstallContribNbextensionsApp]\u001b[m Copying: /Users/austin/anaconda/lib/python3.5/site-packages/jupyter_contrib_nbextensions/nbextensions/exercise/main.js -> /Users/austin/Library/Jupyter/nbextensions/exercise/main.js\n",
      "\u001b[32m[I 01:38:13 InstallContribNbextensionsApp]\u001b[m Copying: /Users/austin/anaconda/lib/python3.5/site-packages/jupyter_contrib_nbextensions/nbextensions/exercise/readme.md -> /Users/austin/Library/Jupyter/nbextensions/exercise/readme.md\n",
      "\u001b[32m[I 01:38:13 InstallContribNbextensionsApp]\u001b[m - Validating: \u001b[32mOK\u001b[0m\n",
      "\u001b[32m[I 01:38:13 InstallContribNbextensionsApp]\u001b[m Installing /Users/austin/anaconda/lib/python3.5/site-packages/jupyter_contrib_nbextensions/nbextensions/python-markdown -> python-markdown\n",
      "\u001b[32m[I 01:38:13 InstallContribNbextensionsApp]\u001b[m Making directory: /Users/austin/Library/Jupyter/nbextensions/python-markdown/\n",
      "\u001b[32m[I 01:38:13 InstallContribNbextensionsApp]\u001b[m Copying: /Users/austin/anaconda/lib/python3.5/site-packages/jupyter_contrib_nbextensions/nbextensions/python-markdown/main.css -> /Users/austin/Library/Jupyter/nbextensions/python-markdown/main.css\n",
      "\u001b[32m[I 01:38:13 InstallContribNbextensionsApp]\u001b[m Copying: /Users/austin/anaconda/lib/python3.5/site-packages/jupyter_contrib_nbextensions/nbextensions/python-markdown/main.js -> /Users/austin/Library/Jupyter/nbextensions/python-markdown/main.js\n",
      "\u001b[32m[I 01:38:13 InstallContribNbextensionsApp]\u001b[m Copying: /Users/austin/anaconda/lib/python3.5/site-packages/jupyter_contrib_nbextensions/nbextensions/python-markdown/python-markdown-post.png -> /Users/austin/Library/Jupyter/nbextensions/python-markdown/python-markdown-post.png\n",
      "\u001b[32m[I 01:38:13 InstallContribNbextensionsApp]\u001b[m Copying: /Users/austin/anaconda/lib/python3.5/site-packages/jupyter_contrib_nbextensions/nbextensions/python-markdown/python-markdown-pre.png -> /Users/austin/Library/Jupyter/nbextensions/python-markdown/python-markdown-pre.png\n",
      "\u001b[32m[I 01:38:13 InstallContribNbextensionsApp]\u001b[m Copying: /Users/austin/anaconda/lib/python3.5/site-packages/jupyter_contrib_nbextensions/nbextensions/python-markdown/python-markdown.png -> /Users/austin/Library/Jupyter/nbextensions/python-markdown/python-markdown.png\n",
      "\u001b[32m[I 01:38:13 InstallContribNbextensionsApp]\u001b[m Copying: /Users/austin/anaconda/lib/python3.5/site-packages/jupyter_contrib_nbextensions/nbextensions/python-markdown/python-markdown.yaml -> /Users/austin/Library/Jupyter/nbextensions/python-markdown/python-markdown.yaml\n",
      "\u001b[32m[I 01:38:13 InstallContribNbextensionsApp]\u001b[m Copying: /Users/austin/anaconda/lib/python3.5/site-packages/jupyter_contrib_nbextensions/nbextensions/python-markdown/readme.md -> /Users/austin/Library/Jupyter/nbextensions/python-markdown/readme.md\n",
      "\u001b[32m[I 01:38:13 InstallContribNbextensionsApp]\u001b[m Copying: /Users/austin/anaconda/lib/python3.5/site-packages/jupyter_contrib_nbextensions/nbextensions/python-markdown/trusted.png -> /Users/austin/Library/Jupyter/nbextensions/python-markdown/trusted.png\n",
      "\u001b[32m[I 01:38:13 InstallContribNbextensionsApp]\u001b[m Copying: /Users/austin/anaconda/lib/python3.5/site-packages/jupyter_contrib_nbextensions/nbextensions/python-markdown/untrusted.png -> /Users/austin/Library/Jupyter/nbextensions/python-markdown/untrusted.png\n",
      "\u001b[32m[I 01:38:13 InstallContribNbextensionsApp]\u001b[m - Validating: \u001b[32mOK\u001b[0m\n",
      "\u001b[32m[I 01:38:13 InstallContribNbextensionsApp]\u001b[m Installing /Users/austin/anaconda/lib/python3.5/site-packages/jupyter_contrib_nbextensions/nbextensions/chrome-clipboard -> chrome-clipboard\n",
      "\u001b[32m[I 01:38:13 InstallContribNbextensionsApp]\u001b[m Making directory: /Users/austin/Library/Jupyter/nbextensions/chrome-clipboard/\n",
      "\u001b[32m[I 01:38:13 InstallContribNbextensionsApp]\u001b[m Copying: /Users/austin/anaconda/lib/python3.5/site-packages/jupyter_contrib_nbextensions/nbextensions/chrome-clipboard/chrome-clipboard.yaml -> /Users/austin/Library/Jupyter/nbextensions/chrome-clipboard/chrome-clipboard.yaml\n",
      "\u001b[32m[I 01:38:13 InstallContribNbextensionsApp]\u001b[m Copying: /Users/austin/anaconda/lib/python3.5/site-packages/jupyter_contrib_nbextensions/nbextensions/chrome-clipboard/chrome.png -> /Users/austin/Library/Jupyter/nbextensions/chrome-clipboard/chrome.png\n",
      "\u001b[32m[I 01:38:13 InstallContribNbextensionsApp]\u001b[m Copying: /Users/austin/anaconda/lib/python3.5/site-packages/jupyter_contrib_nbextensions/nbextensions/chrome-clipboard/main.js -> /Users/austin/Library/Jupyter/nbextensions/chrome-clipboard/main.js\n",
      "\u001b[32m[I 01:38:13 InstallContribNbextensionsApp]\u001b[m Copying: /Users/austin/anaconda/lib/python3.5/site-packages/jupyter_contrib_nbextensions/nbextensions/chrome-clipboard/readme.md -> /Users/austin/Library/Jupyter/nbextensions/chrome-clipboard/readme.md\n",
      "\u001b[32m[I 01:38:13 InstallContribNbextensionsApp]\u001b[m - Validating: \u001b[32mOK\u001b[0m\n",
      "\u001b[32m[I 01:38:13 InstallContribNbextensionsApp]\u001b[m Installing /Users/austin/anaconda/lib/python3.5/site-packages/jupyter_highlight_selected_word/static/highlight_selected_word -> highlight_selected_word\n",
      "\u001b[32m[I 01:38:13 InstallContribNbextensionsApp]\u001b[m Making directory: /Users/austin/Library/Jupyter/nbextensions/highlight_selected_word/\n",
      "\u001b[32m[I 01:38:13 InstallContribNbextensionsApp]\u001b[m Copying: /Users/austin/anaconda/lib/python3.5/site-packages/jupyter_highlight_selected_word/static/highlight_selected_word/configurator.yaml -> /Users/austin/Library/Jupyter/nbextensions/highlight_selected_word/configurator.yaml\n",
      "\u001b[32m[I 01:38:13 InstallContribNbextensionsApp]\u001b[m Copying: /Users/austin/anaconda/lib/python3.5/site-packages/jupyter_highlight_selected_word/static/highlight_selected_word/main.css -> /Users/austin/Library/Jupyter/nbextensions/highlight_selected_word/main.css\n",
      "\u001b[32m[I 01:38:13 InstallContribNbextensionsApp]\u001b[m Copying: /Users/austin/anaconda/lib/python3.5/site-packages/jupyter_highlight_selected_word/static/highlight_selected_word/main.js -> /Users/austin/Library/Jupyter/nbextensions/highlight_selected_word/main.js\n",
      "\u001b[32m[I 01:38:13 InstallContribNbextensionsApp]\u001b[m Copying: /Users/austin/anaconda/lib/python3.5/site-packages/jupyter_highlight_selected_word/static/highlight_selected_word/README.md -> /Users/austin/Library/Jupyter/nbextensions/highlight_selected_word/README.md\n",
      "\u001b[32m[I 01:38:13 InstallContribNbextensionsApp]\u001b[m - Validating: \u001b[32mOK\u001b[0m\n",
      "\u001b[32m[I 01:38:13 InstallContribNbextensionsApp]\u001b[m Installing /Users/austin/anaconda/lib/python3.5/site-packages/latex_envs/static -> latex_envs\n",
      "\u001b[32m[I 01:38:13 InstallContribNbextensionsApp]\u001b[m Making directory: /Users/austin/Library/Jupyter/nbextensions/latex_envs/\n",
      "\u001b[32m[I 01:38:13 InstallContribNbextensionsApp]\u001b[m Copying: /Users/austin/anaconda/lib/python3.5/site-packages/latex_envs/static/bibInNb4.js -> /Users/austin/Library/Jupyter/nbextensions/latex_envs/bibInNb4.js\n",
      "\u001b[32m[I 01:38:13 InstallContribNbextensionsApp]\u001b[m Copying: /Users/austin/anaconda/lib/python3.5/site-packages/latex_envs/static/bibtex2.js -> /Users/austin/Library/Jupyter/nbextensions/latex_envs/bibtex2.js\n",
      "\u001b[32m[I 01:38:13 InstallContribNbextensionsApp]\u001b[m Copying: /Users/austin/anaconda/lib/python3.5/site-packages/latex_envs/static/configuration_toolbar.png -> /Users/austin/Library/Jupyter/nbextensions/latex_envs/configuration_toolbar.png\n",
      "\u001b[32m[I 01:38:13 InstallContribNbextensionsApp]\u001b[m Copying: /Users/austin/anaconda/lib/python3.5/site-packages/latex_envs/static/envsLatex.js -> /Users/austin/Library/Jupyter/nbextensions/latex_envs/envsLatex.js\n",
      "\u001b[32m[I 01:38:13 InstallContribNbextensionsApp]\u001b[m Copying: /Users/austin/anaconda/lib/python3.5/site-packages/latex_envs/static/example.png -> /Users/austin/Library/Jupyter/nbextensions/latex_envs/example.png\n",
      "\u001b[32m[I 01:38:13 InstallContribNbextensionsApp]\u001b[m Copying: /Users/austin/anaconda/lib/python3.5/site-packages/latex_envs/static/example_user_envs.json -> /Users/austin/Library/Jupyter/nbextensions/latex_envs/example_user_envs.json\n",
      "\u001b[32m[I 01:38:13 InstallContribNbextensionsApp]\u001b[m Copying: /Users/austin/anaconda/lib/python3.5/site-packages/latex_envs/static/icon.png -> /Users/austin/Library/Jupyter/nbextensions/latex_envs/icon.png\n",
      "\u001b[32m[I 01:38:13 InstallContribNbextensionsApp]\u001b[m Copying: /Users/austin/anaconda/lib/python3.5/site-packages/latex_envs/static/initNb.js -> /Users/austin/Library/Jupyter/nbextensions/latex_envs/initNb.js\n",
      "\u001b[32m[I 01:38:13 InstallContribNbextensionsApp]\u001b[m Copying: /Users/austin/anaconda/lib/python3.5/site-packages/latex_envs/static/latex_envs.css -> /Users/austin/Library/Jupyter/nbextensions/latex_envs/latex_envs.css\n",
      "\u001b[32m[I 01:38:13 InstallContribNbextensionsApp]\u001b[m Copying: /Users/austin/anaconda/lib/python3.5/site-packages/latex_envs/static/latex_envs.js -> /Users/austin/Library/Jupyter/nbextensions/latex_envs/latex_envs.js\n",
      "\u001b[32m[I 01:38:13 InstallContribNbextensionsApp]\u001b[m Copying: /Users/austin/anaconda/lib/python3.5/site-packages/latex_envs/static/latex_envs.yaml -> /Users/austin/Library/Jupyter/nbextensions/latex_envs/latex_envs.yaml\n",
      "\u001b[32m[I 01:38:13 InstallContribNbextensionsApp]\u001b[m Copying: /Users/austin/anaconda/lib/python3.5/site-packages/latex_envs/static/main_toolbar.png -> /Users/austin/Library/Jupyter/nbextensions/latex_envs/main_toolbar.png\n",
      "\u001b[32m[I 01:38:13 InstallContribNbextensionsApp]\u001b[m Copying: /Users/austin/anaconda/lib/python3.5/site-packages/latex_envs/static/README.md -> /Users/austin/Library/Jupyter/nbextensions/latex_envs/README.md\n",
      "\u001b[32m[I 01:38:13 InstallContribNbextensionsApp]\u001b[m Copying: /Users/austin/anaconda/lib/python3.5/site-packages/latex_envs/static/thmsInNb4.js -> /Users/austin/Library/Jupyter/nbextensions/latex_envs/thmsInNb4.js\n",
      "\u001b[32m[I 01:38:13 InstallContribNbextensionsApp]\u001b[m Making directory: /Users/austin/Library/Jupyter/nbextensions/latex_envs/doc\n",
      "\u001b[32m[I 01:38:13 InstallContribNbextensionsApp]\u001b[m Copying: /Users/austin/anaconda/lib/python3.5/site-packages/latex_envs/static/doc/biblio_ipython.bib -> /Users/austin/Library/Jupyter/nbextensions/latex_envs/doc/biblio_ipython.bib\n",
      "\u001b[32m[I 01:38:13 InstallContribNbextensionsApp]\u001b[m Copying: /Users/austin/anaconda/lib/python3.5/site-packages/latex_envs/static/doc/config_toolbar.png -> /Users/austin/Library/Jupyter/nbextensions/latex_envs/doc/config_toolbar.png\n",
      "\u001b[32m[I 01:38:13 InstallContribNbextensionsApp]\u001b[m Copying: /Users/austin/anaconda/lib/python3.5/site-packages/latex_envs/static/doc/configuration_toolbar.png -> /Users/austin/Library/Jupyter/nbextensions/latex_envs/doc/configuration_toolbar.png\n",
      "\u001b[32m[I 01:38:13 InstallContribNbextensionsApp]\u001b[m Copying: /Users/austin/anaconda/lib/python3.5/site-packages/latex_envs/static/doc/documentation.pdf -> /Users/austin/Library/Jupyter/nbextensions/latex_envs/doc/documentation.pdf\n",
      "\u001b[32m[I 01:38:13 InstallContribNbextensionsApp]\u001b[m Copying: /Users/austin/anaconda/lib/python3.5/site-packages/latex_envs/static/doc/documentation.tex -> /Users/austin/Library/Jupyter/nbextensions/latex_envs/doc/documentation.tex\n",
      "\u001b[32m[I 01:38:13 InstallContribNbextensionsApp]\u001b[m Copying: /Users/austin/anaconda/lib/python3.5/site-packages/latex_envs/static/doc/example.png -> /Users/austin/Library/Jupyter/nbextensions/latex_envs/doc/example.png\n",
      "\u001b[32m[I 01:38:13 InstallContribNbextensionsApp]\u001b[m Copying: /Users/austin/anaconda/lib/python3.5/site-packages/latex_envs/static/doc/header.tex -> /Users/austin/Library/Jupyter/nbextensions/latex_envs/doc/header.tex\n",
      "\u001b[32m[I 01:38:13 InstallContribNbextensionsApp]\u001b[m Copying: /Users/austin/anaconda/lib/python3.5/site-packages/latex_envs/static/doc/IEEEtran.bst -> /Users/austin/Library/Jupyter/nbextensions/latex_envs/doc/IEEEtran.bst\n",
      "\u001b[32m[I 01:38:13 InstallContribNbextensionsApp]\u001b[m Copying: /Users/austin/anaconda/lib/python3.5/site-packages/latex_envs/static/doc/latex_env_doc.html -> /Users/austin/Library/Jupyter/nbextensions/latex_envs/doc/latex_env_doc.html\n",
      "\u001b[32m[I 01:38:13 InstallContribNbextensionsApp]\u001b[m Copying: /Users/austin/anaconda/lib/python3.5/site-packages/latex_envs/static/doc/latex_env_doc.ipynb -> /Users/austin/Library/Jupyter/nbextensions/latex_envs/doc/latex_env_doc.ipynb\n",
      "\u001b[32m[I 01:38:13 InstallContribNbextensionsApp]\u001b[m Copying: /Users/austin/anaconda/lib/python3.5/site-packages/latex_envs/static/doc/latex_env_doc.tex -> /Users/austin/Library/Jupyter/nbextensions/latex_envs/doc/latex_env_doc.tex\n",
      "\u001b[32m[I 01:38:13 InstallContribNbextensionsApp]\u001b[m Copying: /Users/austin/anaconda/lib/python3.5/site-packages/latex_envs/static/doc/LaTeX_envs_menu.png -> /Users/austin/Library/Jupyter/nbextensions/latex_envs/doc/LaTeX_envs_menu.png\n",
      "\u001b[32m[I 01:38:13 InstallContribNbextensionsApp]\u001b[m Copying: /Users/austin/anaconda/lib/python3.5/site-packages/latex_envs/static/doc/main_toolbar.png -> /Users/austin/Library/Jupyter/nbextensions/latex_envs/doc/main_toolbar.png\n",
      "\u001b[32m[I 01:38:13 InstallContribNbextensionsApp]\u001b[m Copying: /Users/austin/anaconda/lib/python3.5/site-packages/latex_envs/static/doc/README.md -> /Users/austin/Library/Jupyter/nbextensions/latex_envs/doc/README.md\n",
      "\u001b[32m[I 01:38:13 InstallContribNbextensionsApp]\u001b[m Copying: /Users/austin/anaconda/lib/python3.5/site-packages/latex_envs/static/doc/Toggles.png -> /Users/austin/Library/Jupyter/nbextensions/latex_envs/doc/Toggles.png\n",
      "\u001b[32m[I 01:38:13 InstallContribNbextensionsApp]\u001b[m Making directory: /Users/austin/Library/Jupyter/nbextensions/latex_envs/doc/latex_env_doc_files\n",
      "\u001b[32m[I 01:38:13 InstallContribNbextensionsApp]\u001b[m Copying: /Users/austin/anaconda/lib/python3.5/site-packages/latex_envs/static/doc/latex_env_doc_files/latex_env_doc_23_2.png -> /Users/austin/Library/Jupyter/nbextensions/latex_envs/doc/latex_env_doc_files/latex_env_doc_23_2.png\n",
      "\u001b[32m[I 01:38:13 InstallContribNbextensionsApp]\u001b[m Copying: /Users/austin/anaconda/lib/python3.5/site-packages/latex_envs/static/doc/latex_env_doc_files/latex_env_doc_24_2.png -> /Users/austin/Library/Jupyter/nbextensions/latex_envs/doc/latex_env_doc_files/latex_env_doc_24_2.png\n",
      "\u001b[32m[I 01:38:13 InstallContribNbextensionsApp]\u001b[m Copying: /Users/austin/anaconda/lib/python3.5/site-packages/latex_envs/static/doc/latex_env_doc_files/latex_env_doc_26_2.png -> /Users/austin/Library/Jupyter/nbextensions/latex_envs/doc/latex_env_doc_files/latex_env_doc_26_2.png\n",
      "\u001b[32m[I 01:38:13 InstallContribNbextensionsApp]\u001b[m Copying: /Users/austin/anaconda/lib/python3.5/site-packages/latex_envs/static/doc/latex_env_doc_files/latex_env_doc_27_2.png -> /Users/austin/Library/Jupyter/nbextensions/latex_envs/doc/latex_env_doc_files/latex_env_doc_27_2.png\n",
      "\u001b[32m[I 01:38:13 InstallContribNbextensionsApp]\u001b[m Copying: /Users/austin/anaconda/lib/python3.5/site-packages/latex_envs/static/doc/latex_env_doc_files/latex_env_doc_41_0.png -> /Users/austin/Library/Jupyter/nbextensions/latex_envs/doc/latex_env_doc_files/latex_env_doc_41_0.png\n",
      "\u001b[32m[I 01:38:13 InstallContribNbextensionsApp]\u001b[m Copying: /Users/austin/anaconda/lib/python3.5/site-packages/latex_envs/static/doc/latex_env_doc_files/latex_env_doc_42_0.png -> /Users/austin/Library/Jupyter/nbextensions/latex_envs/doc/latex_env_doc_files/latex_env_doc_42_0.png\n",
      "\u001b[32m[I 01:38:13 InstallContribNbextensionsApp]\u001b[m Copying: /Users/austin/anaconda/lib/python3.5/site-packages/latex_envs/static/doc/latex_env_doc_files/latex_env_doc_43_0.png -> /Users/austin/Library/Jupyter/nbextensions/latex_envs/doc/latex_env_doc_files/latex_env_doc_43_0.png\n",
      "\u001b[32m[I 01:38:13 InstallContribNbextensionsApp]\u001b[m Copying: /Users/austin/anaconda/lib/python3.5/site-packages/latex_envs/static/doc/latex_env_doc_files/latex_env_doc_44_0.png -> /Users/austin/Library/Jupyter/nbextensions/latex_envs/doc/latex_env_doc_files/latex_env_doc_44_0.png\n",
      "\u001b[32m[I 01:38:13 InstallContribNbextensionsApp]\u001b[m Copying: /Users/austin/anaconda/lib/python3.5/site-packages/latex_envs/static/doc/latex_env_doc_files/latex_env_doc_45_0.png -> /Users/austin/Library/Jupyter/nbextensions/latex_envs/doc/latex_env_doc_files/latex_env_doc_45_0.png\n",
      "\u001b[32m[I 01:38:13 InstallContribNbextensionsApp]\u001b[m Copying: /Users/austin/anaconda/lib/python3.5/site-packages/latex_envs/static/doc/latex_env_doc_files/latex_env_doc_46_0.png -> /Users/austin/Library/Jupyter/nbextensions/latex_envs/doc/latex_env_doc_files/latex_env_doc_46_0.png\n",
      "\u001b[32m[I 01:38:13 InstallContribNbextensionsApp]\u001b[m Copying: /Users/austin/anaconda/lib/python3.5/site-packages/latex_envs/static/doc/latex_env_doc_files/latex_env_doc_47_0.png -> /Users/austin/Library/Jupyter/nbextensions/latex_envs/doc/latex_env_doc_files/latex_env_doc_47_0.png\n",
      "\u001b[32m[I 01:38:13 InstallContribNbextensionsApp]\u001b[m Copying: /Users/austin/anaconda/lib/python3.5/site-packages/latex_envs/static/doc/latex_env_doc_files/latex_env_doc_48_0.png -> /Users/austin/Library/Jupyter/nbextensions/latex_envs/doc/latex_env_doc_files/latex_env_doc_48_0.png\n",
      "\u001b[32m[I 01:38:13 InstallContribNbextensionsApp]\u001b[m Copying: /Users/austin/anaconda/lib/python3.5/site-packages/latex_envs/static/doc/latex_env_doc_files/latex_env_doc_49_0.png -> /Users/austin/Library/Jupyter/nbextensions/latex_envs/doc/latex_env_doc_files/latex_env_doc_49_0.png\n",
      "\u001b[32m[I 01:38:13 InstallContribNbextensionsApp]\u001b[m Copying: /Users/austin/anaconda/lib/python3.5/site-packages/latex_envs/static/doc/latex_env_doc_files/latex_env_doc_50_0.png -> /Users/austin/Library/Jupyter/nbextensions/latex_envs/doc/latex_env_doc_files/latex_env_doc_50_0.png\n",
      "\u001b[32m[I 01:38:13 InstallContribNbextensionsApp]\u001b[m Copying: /Users/austin/anaconda/lib/python3.5/site-packages/latex_envs/static/doc/latex_env_doc_files/latex_env_doc_51_0.png -> /Users/austin/Library/Jupyter/nbextensions/latex_envs/doc/latex_env_doc_files/latex_env_doc_51_0.png\n",
      "\u001b[32m[I 01:38:13 InstallContribNbextensionsApp]\u001b[m Copying: /Users/austin/anaconda/lib/python3.5/site-packages/latex_envs/static/doc/latex_env_doc_files/latex_env_doc_52_0.png -> /Users/austin/Library/Jupyter/nbextensions/latex_envs/doc/latex_env_doc_files/latex_env_doc_52_0.png\n",
      "\u001b[32m[I 01:38:13 InstallContribNbextensionsApp]\u001b[m - Validating: \u001b[32mOK\u001b[0m\n",
      "\u001b[32m[I 01:38:13 InstallContribNbextensionsApp]\u001b[m Installing jupyter_contrib_nbextensions items to config in /Users/austin/.jupyter\n",
      "Enabling: jupyter_nbextensions_configurator\n",
      "- Writing config: /Users/austin/.jupyter\n",
      "    - Validating...\n",
      "      jupyter_nbextensions_configurator  \u001b[32mOK\u001b[0m\n",
      "Enabling notebook nbextension nbextensions_configurator/config_menu/main...\n",
      "Enabling tree nbextension nbextensions_configurator/tree_tab/main...\n",
      "\u001b[32m[I 01:38:13 InstallContribNbextensionsApp]\u001b[m Enabling notebook extension contrib_nbextensions_help_item/main...\n",
      "\u001b[32m[I 01:38:13 InstallContribNbextensionsApp]\u001b[m       - Validating: \u001b[32mOK\u001b[0m\n",
      "\u001b[32m[I 01:38:13 InstallContribNbextensionsApp]\u001b[m - Editing config: /Users/austin/.jupyter/jupyter_nbconvert_config.json\n",
      "\u001b[32m[I 01:38:13 InstallContribNbextensionsApp]\u001b[m --  Configuring nbconvert template path\n",
      "\u001b[32m[I 01:38:13 InstallContribNbextensionsApp]\u001b[m --  Configuring nbconvert preprocessors\n",
      "\u001b[32m[I 01:38:13 InstallContribNbextensionsApp]\u001b[m - Writing config: /Users/austin/.jupyter/jupyter_nbconvert_config.json\n",
      "\u001b[32m[I 01:38:13 InstallContribNbextensionsApp]\u001b[m --  Writing updated config file /Users/austin/.jupyter/jupyter_nbconvert_config.json\n",
      "Enabling: jupyter_nbextensions_configurator\n",
      "- Writing config: /Users/austin/.jupyter\n",
      "    - Validating...\n",
      "      jupyter_nbextensions_configurator  \u001b[32mOK\u001b[0m\n",
      "Enabling notebook nbextension nbextensions_configurator/config_menu/main...\n",
      "Enabling tree nbextension nbextensions_configurator/tree_tab/main...\n"
     ]
    }
   ],
   "source": [
    "!pip install https://github.com/ipython-contrib/jupyter_contrib_nbextensions/tarball/master\n",
    "!pip install jupyter_nbextensions_configurator\n",
    "!jupyter contrib nbextension install --user\n",
    "!jupyter nbextensions_configurator enable --user"
   ]
  },
  {
   "cell_type": "markdown",
   "metadata": {},
   "source": [
    "**25. Create a presentation from a Jupyter notebook**   \n",
    "Damian Avila’s RISE allows you to create a powerpoint style presentation from an existing notebook.  \n",
    "  \n",
    "You can install RISE using conda:  "
   ]
  },
  {
   "cell_type": "code",
   "execution_count": 51,
   "metadata": {
    "collapsed": false
   },
   "outputs": [
    {
     "name": "stdout",
     "output_type": "stream",
     "text": [
      "Fetching package metadata ...........\n",
      "Solving package specifications: .\n",
      "\n",
      "Package plan for installation in environment /Users/austin/anaconda:\n",
      "\n",
      "The following NEW packages will be INSTALLED:\n",
      "\n",
      "    rise: 4.0.0b1-py35_0 damianavila82\n",
      "\n",
      "Proceed ([y]/n)? \n",
      "rise-4.0.0b1-p   0% |                              | ETA:  --:--:--   0.00  B/s\r",
      "rise-4.0.0b1-p   4% |#                              | ETA:  0:00:00   1.09 MB/s\r",
      "rise-4.0.0b1-p   8% |##                             | ETA:  0:00:00   1.11 MB/s\r",
      "rise-4.0.0b1-p  12% |####                           | ETA:  0:00:00   1.13 MB/s\r",
      "rise-4.0.0b1-p  17% |#####                          | ETA:  0:00:00   1.15 MB/s\r",
      "rise-4.0.0b1-p  21% |######                         | ETA:  0:00:00   1.14 MB/s\r",
      "rise-4.0.0b1-p  25% |########                       | ETA:  0:00:00   1.17 MB/s\r",
      "rise-4.0.0b1-p  30% |#########                      | ETA:  0:00:00   1.32 MB/s\r",
      "rise-4.0.0b1-p  34% |##########                     | ETA:  0:00:00   1.50 MB/s\r",
      "rise-4.0.0b1-p  38% |############                   | ETA:  0:00:00   1.51 MB/s\r",
      "rise-4.0.0b1-p  43% |#############                  | ETA:  0:00:00   1.59 MB/s\r",
      "rise-4.0.0b1-p  47% |##############                 | ETA:  0:00:00   1.74 MB/s\r",
      "rise-4.0.0b1-p  51% |################               | ETA:  0:00:00   1.77 MB/s\r",
      "rise-4.0.0b1-p  56% |#################              | ETA:  0:00:00   1.85 MB/s\r",
      "rise-4.0.0b1-p  60% |##################             | ETA:  0:00:00   1.96 MB/s\r",
      "rise-4.0.0b1-p  64% |####################           | ETA:  0:00:00   2.07 MB/s\r",
      "rise-4.0.0b1-p  68% |#####################          | ETA:  0:00:00   2.19 MB/s\r",
      "rise-4.0.0b1-p  73% |######################         | ETA:  0:00:00   2.23 MB/s\r",
      "rise-4.0.0b1-p  77% |########################       | ETA:  0:00:00   2.35 MB/s\r",
      "rise-4.0.0b1-p  81% |#########################      | ETA:  0:00:00   2.45 MB/s\r",
      "rise-4.0.0b1-p  86% |##########################     | ETA:  0:00:00   2.54 MB/s\r",
      "rise-4.0.0b1-p  90% |############################   | ETA:  0:00:00   2.58 MB/s\r",
      "rise-4.0.0b1-p  94% |#############################  | ETA:  0:00:00   2.68 MB/s\r",
      "rise-4.0.0b1-p  99% |############################## | ETA:  0:00:00   2.79 MB/s\r",
      "rise-4.0.0b1-p 100% |###############################| Time: 0:00:00   2.80 MB/s\r\n"
     ]
    },
    {
     "name": "stderr",
     "output_type": "stream",
     "text": [
      "Enabling notebook extension rise/main...\n",
      "      - Validating: \u001b[32mOK\u001b[0m\n"
     ]
    }
   ],
   "source": [
    "%%bash\n",
    "conda install -c damianavila82 rise"
   ]
  },
  {
   "cell_type": "markdown",
   "metadata": {},
   "source": [
    "And then run the following code to install and enable the extension:"
   ]
  },
  {
   "cell_type": "code",
   "execution_count": 53,
   "metadata": {
    "collapsed": false
   },
   "outputs": [
    {
     "name": "stderr",
     "output_type": "stream",
     "text": [
      "Installing /Users/austin/anaconda/lib/python3.5/site-packages/rise/static -> rise\n",
      "Up to date: /Users/austin/anaconda/share/jupyter/nbextensions/rise/main.css\n",
      "Up to date: /Users/austin/anaconda/share/jupyter/nbextensions/rise/main.js\n",
      "Up to date: /Users/austin/anaconda/share/jupyter/nbextensions/rise/main.orig.css\n",
      "Up to date: /Users/austin/anaconda/share/jupyter/nbextensions/rise/reset_reveal.css\n",
      "Up to date: /Users/austin/anaconda/share/jupyter/nbextensions/rise/reveal.js/Gruntfile.js\n",
      "Up to date: /Users/austin/anaconda/share/jupyter/nbextensions/rise/reveal.js/index.html\n",
      "Up to date: /Users/austin/anaconda/share/jupyter/nbextensions/rise/reveal.js/LICENSE\n",
      "Up to date: /Users/austin/anaconda/share/jupyter/nbextensions/rise/reveal.js/package.json\n",
      "Up to date: /Users/austin/anaconda/share/jupyter/nbextensions/rise/reveal.js/README.md\n",
      "Up to date: /Users/austin/anaconda/share/jupyter/nbextensions/rise/reveal.js/css/reveal.css\n",
      "Up to date: /Users/austin/anaconda/share/jupyter/nbextensions/rise/reveal.js/css/reveal.min.css\n",
      "Up to date: /Users/austin/anaconda/share/jupyter/nbextensions/rise/reveal.js/css/print/paper.css\n",
      "Up to date: /Users/austin/anaconda/share/jupyter/nbextensions/rise/reveal.js/css/print/pdf.css\n",
      "Up to date: /Users/austin/anaconda/share/jupyter/nbextensions/rise/reveal.js/css/theme/beige.css\n",
      "Up to date: /Users/austin/anaconda/share/jupyter/nbextensions/rise/reveal.js/css/theme/blood.css\n",
      "Up to date: /Users/austin/anaconda/share/jupyter/nbextensions/rise/reveal.js/css/theme/default.css\n",
      "Up to date: /Users/austin/anaconda/share/jupyter/nbextensions/rise/reveal.js/css/theme/moon.css\n",
      "Up to date: /Users/austin/anaconda/share/jupyter/nbextensions/rise/reveal.js/css/theme/night.css\n",
      "Up to date: /Users/austin/anaconda/share/jupyter/nbextensions/rise/reveal.js/css/theme/README.md\n",
      "Up to date: /Users/austin/anaconda/share/jupyter/nbextensions/rise/reveal.js/css/theme/serif.css\n",
      "Up to date: /Users/austin/anaconda/share/jupyter/nbextensions/rise/reveal.js/css/theme/simple.css\n",
      "Up to date: /Users/austin/anaconda/share/jupyter/nbextensions/rise/reveal.js/css/theme/sky.css\n",
      "Up to date: /Users/austin/anaconda/share/jupyter/nbextensions/rise/reveal.js/css/theme/solarized.css\n",
      "Up to date: /Users/austin/anaconda/share/jupyter/nbextensions/rise/reveal.js/css/theme/source/beige.scss\n",
      "Up to date: /Users/austin/anaconda/share/jupyter/nbextensions/rise/reveal.js/css/theme/source/blood.scss\n",
      "Up to date: /Users/austin/anaconda/share/jupyter/nbextensions/rise/reveal.js/css/theme/source/default.scss\n",
      "Up to date: /Users/austin/anaconda/share/jupyter/nbextensions/rise/reveal.js/css/theme/source/moon.scss\n",
      "Up to date: /Users/austin/anaconda/share/jupyter/nbextensions/rise/reveal.js/css/theme/source/night.scss\n",
      "Up to date: /Users/austin/anaconda/share/jupyter/nbextensions/rise/reveal.js/css/theme/source/serif.scss\n",
      "Up to date: /Users/austin/anaconda/share/jupyter/nbextensions/rise/reveal.js/css/theme/source/simple.scss\n",
      "Up to date: /Users/austin/anaconda/share/jupyter/nbextensions/rise/reveal.js/css/theme/source/sky.scss\n",
      "Up to date: /Users/austin/anaconda/share/jupyter/nbextensions/rise/reveal.js/css/theme/source/solarized.scss\n",
      "Up to date: /Users/austin/anaconda/share/jupyter/nbextensions/rise/reveal.js/css/theme/template/mixins.scss\n",
      "Up to date: /Users/austin/anaconda/share/jupyter/nbextensions/rise/reveal.js/css/theme/template/settings.scss\n",
      "Up to date: /Users/austin/anaconda/share/jupyter/nbextensions/rise/reveal.js/css/theme/template/theme.scss\n",
      "Up to date: /Users/austin/anaconda/share/jupyter/nbextensions/rise/reveal.js/js/reveal.js\n",
      "Up to date: /Users/austin/anaconda/share/jupyter/nbextensions/rise/reveal.js/js/reveal.min.js\n",
      "Up to date: /Users/austin/anaconda/share/jupyter/nbextensions/rise/reveal.js/lib/css/zenburn.css\n",
      "Up to date: /Users/austin/anaconda/share/jupyter/nbextensions/rise/reveal.js/lib/font/league_gothic-webfont.eot\n",
      "Up to date: /Users/austin/anaconda/share/jupyter/nbextensions/rise/reveal.js/lib/font/league_gothic-webfont.svg\n",
      "Up to date: /Users/austin/anaconda/share/jupyter/nbextensions/rise/reveal.js/lib/font/league_gothic-webfont.ttf\n",
      "Up to date: /Users/austin/anaconda/share/jupyter/nbextensions/rise/reveal.js/lib/font/league_gothic-webfont.woff\n",
      "Up to date: /Users/austin/anaconda/share/jupyter/nbextensions/rise/reveal.js/lib/font/league_gothic_license\n",
      "Up to date: /Users/austin/anaconda/share/jupyter/nbextensions/rise/reveal.js/lib/js/classList.js\n",
      "Up to date: /Users/austin/anaconda/share/jupyter/nbextensions/rise/reveal.js/lib/js/head.min.js\n",
      "Up to date: /Users/austin/anaconda/share/jupyter/nbextensions/rise/reveal.js/lib/js/html5shiv.js\n",
      "Up to date: /Users/austin/anaconda/share/jupyter/nbextensions/rise/reveal.js/plugin/highlight/highlight.js\n",
      "Up to date: /Users/austin/anaconda/share/jupyter/nbextensions/rise/reveal.js/plugin/leap/leap.js\n",
      "Up to date: /Users/austin/anaconda/share/jupyter/nbextensions/rise/reveal.js/plugin/markdown/example.html\n",
      "Up to date: /Users/austin/anaconda/share/jupyter/nbextensions/rise/reveal.js/plugin/markdown/example.md\n",
      "Up to date: /Users/austin/anaconda/share/jupyter/nbextensions/rise/reveal.js/plugin/markdown/markdown.js\n",
      "Up to date: /Users/austin/anaconda/share/jupyter/nbextensions/rise/reveal.js/plugin/markdown/marked.js\n",
      "Up to date: /Users/austin/anaconda/share/jupyter/nbextensions/rise/reveal.js/plugin/math/math.js\n",
      "Up to date: /Users/austin/anaconda/share/jupyter/nbextensions/rise/reveal.js/plugin/multiplex/client.js\n",
      "Up to date: /Users/austin/anaconda/share/jupyter/nbextensions/rise/reveal.js/plugin/multiplex/index.js\n",
      "Up to date: /Users/austin/anaconda/share/jupyter/nbextensions/rise/reveal.js/plugin/multiplex/master.js\n",
      "Up to date: /Users/austin/anaconda/share/jupyter/nbextensions/rise/reveal.js/plugin/notes/notes.html\n",
      "Up to date: /Users/austin/anaconda/share/jupyter/nbextensions/rise/reveal.js/plugin/notes/notes.js\n",
      "Up to date: /Users/austin/anaconda/share/jupyter/nbextensions/rise/reveal.js/plugin/notes-server/client.js\n",
      "Up to date: /Users/austin/anaconda/share/jupyter/nbextensions/rise/reveal.js/plugin/notes-server/index.js\n",
      "Up to date: /Users/austin/anaconda/share/jupyter/nbextensions/rise/reveal.js/plugin/notes-server/notes.html\n",
      "Up to date: /Users/austin/anaconda/share/jupyter/nbextensions/rise/reveal.js/plugin/postmessage/example.html\n",
      "Up to date: /Users/austin/anaconda/share/jupyter/nbextensions/rise/reveal.js/plugin/postmessage/postmessage.js\n",
      "Up to date: /Users/austin/anaconda/share/jupyter/nbextensions/rise/reveal.js/plugin/print-pdf/print-pdf.js\n",
      "Up to date: /Users/austin/anaconda/share/jupyter/nbextensions/rise/reveal.js/plugin/remotes/remotes.js\n",
      "Up to date: /Users/austin/anaconda/share/jupyter/nbextensions/rise/reveal.js/plugin/search/search.js\n",
      "Up to date: /Users/austin/anaconda/share/jupyter/nbextensions/rise/reveal.js/plugin/zoom-js/zoom.js\n",
      "Up to date: /Users/austin/anaconda/share/jupyter/nbextensions/rise/reveal.js/test/qunit-1.12.0.css\n",
      "Up to date: /Users/austin/anaconda/share/jupyter/nbextensions/rise/reveal.js/test/qunit-1.12.0.js\n",
      "Up to date: /Users/austin/anaconda/share/jupyter/nbextensions/rise/reveal.js/test/test-markdown-element-attributes.html\n",
      "Up to date: /Users/austin/anaconda/share/jupyter/nbextensions/rise/reveal.js/test/test-markdown-element-attributes.js\n",
      "Up to date: /Users/austin/anaconda/share/jupyter/nbextensions/rise/reveal.js/test/test-markdown-slide-attributes.html\n",
      "Up to date: /Users/austin/anaconda/share/jupyter/nbextensions/rise/reveal.js/test/test-markdown-slide-attributes.js\n",
      "Up to date: /Users/austin/anaconda/share/jupyter/nbextensions/rise/reveal.js/test/test-markdown.html\n",
      "Up to date: /Users/austin/anaconda/share/jupyter/nbextensions/rise/reveal.js/test/test-markdown.js\n",
      "Up to date: /Users/austin/anaconda/share/jupyter/nbextensions/rise/reveal.js/test/test.html\n",
      "Up to date: /Users/austin/anaconda/share/jupyter/nbextensions/rise/reveal.js/test/test.js\n",
      "Up to date: /Users/austin/anaconda/share/jupyter/nbextensions/rise/reveal.js/test/examples/barebones.html\n",
      "Up to date: /Users/austin/anaconda/share/jupyter/nbextensions/rise/reveal.js/test/examples/embedded-media.html\n",
      "Up to date: /Users/austin/anaconda/share/jupyter/nbextensions/rise/reveal.js/test/examples/math.html\n",
      "Up to date: /Users/austin/anaconda/share/jupyter/nbextensions/rise/reveal.js/test/examples/slide-backgrounds.html\n",
      "Up to date: /Users/austin/anaconda/share/jupyter/nbextensions/rise/reveal.js/test/examples/assets/image1.png\n",
      "Up to date: /Users/austin/anaconda/share/jupyter/nbextensions/rise/reveal.js/test/examples/assets/image2.png\n",
      "- Validating: \u001b[32mOK\u001b[0m\n",
      "\n",
      "    To initialize this nbextension in the browser every time the notebook (or other app) loads:\n",
      "    \n",
      "          jupyter nbextension enable rise --py --sys-prefix\n",
      "    \n",
      "Enabling notebook extension rise/main...\n",
      "      - Validating: \u001b[32mOK\u001b[0m\n"
     ]
    }
   ],
   "source": [
    "%%bash\n",
    "jupyter-nbextension install rise --py --sys-prefix\n",
    "jupyter-nbextension enable rise --py --sys-prefix"
   ]
  },
  {
   "cell_type": "markdown",
   "metadata": {},
   "source": [
    "**26. The Jupyter output system**  \n",
    "Notebooks are displayed as HTML and the cell output can be HTML, so you can return virtually anything: video/audio/images."
   ]
  },
  {
   "cell_type": "code",
   "execution_count": null,
   "metadata": {
    "collapsed": true
   },
   "outputs": [],
   "source": [
    "# In this example I scan the folder with images in my repository and show thumbnails of the first 5:\n",
    "import os\n",
    "from IPython.display import display, Image\n",
    "names = [f for f in os.listdir('../images/ml_demonstrations/') if f.endswith('.png')]\n",
    "for name in names[:5]:\n",
    "    display(Image('../images/ml_demonstrations/' + name, width=100))"
   ]
  },
  {
   "cell_type": "markdown",
   "metadata": {},
   "source": [
    "We can create the same list with a bash command, because magics and bash calls return python variables:"
   ]
  },
  {
   "cell_type": "code",
   "execution_count": null,
   "metadata": {
    "collapsed": true
   },
   "outputs": [],
   "source": [
    "names = !ls ../images/ml_demonstrations/*.png\n",
    "names[:5]"
   ]
  },
  {
   "cell_type": "markdown",
   "metadata": {},
   "source": [
    "**28. 'Big data' analysis**\n",
    "  \n",
    "A number of solutions are available for querying/processing large data samples:  \n",
    "  \n",
    "ipyparallel (formerly ipython cluster) is a good option for simple map-reduce operations in python. We use it in rep to train many machine learning models in parallel  \n",
    "pyspark  \n",
    "spark-sql magic %%sql  "
   ]
  },
  {
   "cell_type": "markdown",
   "metadata": {},
   "source": [
    "**28.  Sharing notebooks**\n",
    "The easiest way to share your notebook is simply using the notebook file (.ipynb), but for those who don’t use Jupyter, you have a few options:  \n",
    "\n",
    "Convert notebooks to html file using the File > Download as > HTML Menu option.  \n",
    "Share your notebook file with gists or on github, both of which render the notebooks. See this example.  \n",
    "If you upload your notebook to a github repository, you can use the handy mybinder service to allow someone half an hour of interactive Jupyter access to your repository.  \n",
    "Setup your own system with jupyterhub, this is very handy when you organize mini-course or workshop and don’t have time to care about students machines.  \n",
    "Store your notebook e.g. in dropbox and put the link to nbviewer. nbviewer will render the notebook from whichever source you host it.  \n",
    "Use the File > Download as > PDF menu to save your notebook as a PDF. If you’re going this route, I highly recommend reading Julius Schulz’s excellent article Making publication ready Python notebooks.  \n",
    "Create a blog using Pelican from your Jupyter notebooks.  "
   ]
  },
  {
   "cell_type": "code",
   "execution_count": null,
   "metadata": {
    "collapsed": true
   },
   "outputs": [],
   "source": []
  }
 ],
 "metadata": {
  "anaconda-cloud": {},
  "kernelspec": {
   "display_name": "Python [conda root]",
   "language": "python",
   "name": "conda-root-py"
  },
  "language_info": {
   "codemirror_mode": {
    "name": "ipython",
    "version": 3
   },
   "file_extension": ".py",
   "mimetype": "text/x-python",
   "name": "python",
   "nbconvert_exporter": "python",
   "pygments_lexer": "ipython3",
   "version": "3.5.2"
  }
 },
 "nbformat": 4,
 "nbformat_minor": 1
}
